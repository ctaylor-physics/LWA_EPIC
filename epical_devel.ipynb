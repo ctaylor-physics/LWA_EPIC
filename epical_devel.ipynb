{
 "cells": [
  {
   "cell_type": "code",
   "execution_count": 1,
   "metadata": {
    "execution": {
     "iopub.execute_input": "2021-04-07T22:50:08.885175Z",
     "iopub.status.busy": "2021-04-07T22:50:08.884072Z",
     "iopub.status.idle": "2021-04-07T22:50:09.921772Z",
     "shell.execute_reply": "2021-04-07T22:50:09.919847Z",
     "shell.execute_reply.started": "2021-04-07T22:50:08.884980Z"
    }
   },
   "outputs": [],
   "source": [
    "%matplotlib inline"
   ]
  },
  {
   "cell_type": "code",
   "execution_count": 2,
   "metadata": {
    "execution": {
     "iopub.execute_input": "2021-04-07T22:50:09.935080Z",
     "iopub.status.busy": "2021-04-07T22:50:09.933716Z",
     "iopub.status.idle": "2021-04-07T22:50:15.109590Z",
     "shell.execute_reply": "2021-04-07T22:50:15.107418Z",
     "shell.execute_reply.started": "2021-04-07T22:50:09.934971Z"
    }
   },
   "outputs": [],
   "source": [
    "import numpy\n",
    "import warnings\n",
    "import ctypes\n",
    "import scipy.constants as FCNST\n",
    "from matplotlib import pyplot as plt\n",
    "from matplotlib.colors import LogNorm, Normalize, SymLogNorm\n",
    "\n",
    "import healpy as hp\n",
    "\n",
    "import bifrost\n",
    "from bifrost.fft import Fft\n",
    "from bifrost.ring import Ring\n",
    "from bifrost.romein import Romein\n",
    "from bifrost.unpack import unpack as Unpack\n",
    "\n",
    "from bifrost.ndarray import memset_array, copy_array\n",
    "from bifrost.device import set_device as BFSetGPU, get_device as BFGetGPU, set_devices_no_spin_cpu as BFNoSpinZone\n",
    "\n",
    "from lsl.common.stations import lwasv\n",
    "\n",
    "from astropy import units\n",
    "from astropy.time import Time\n",
    "import astropy_healpix as ahp\n",
    "from astropy_healpix import HEALPix\n",
    "from astropy.constants import c as speed_of_light\n",
    "from astropy.coordinates import EarthLocation, TETE, SkyCoord, AltAz, Galactic\n",
    "\n",
    "from pygdsm import GlobalSkyModel\n",
    "import pyradiosky"
   ]
  },
  {
   "cell_type": "code",
   "execution_count": 3,
   "metadata": {
    "execution": {
     "iopub.execute_input": "2021-04-07T22:50:15.114139Z",
     "iopub.status.busy": "2021-04-07T22:50:15.113382Z",
     "iopub.status.idle": "2021-04-07T22:50:15.132119Z",
     "shell.execute_reply": "2021-04-07T22:50:15.129917Z",
     "shell.execute_reply.started": "2021-04-07T22:50:15.114061Z"
    }
   },
   "outputs": [],
   "source": [
    "def GenerateLocations(\n",
    "    lsl_locs, frequencies, ntime, nchan, npol, grid_size=64, grid_resolution=20 / 60.\n",
    "):\n",
    "    delta = (2 * grid_size * numpy.sin(numpy.pi * grid_resolution / 360)) ** -1\n",
    "    chan_wavelengths = speed_of_light.value / frequencies\n",
    "    sample_grid = chan_wavelengths * delta\n",
    "    sll = sample_grid[0] / chan_wavelengths[0]\n",
    "    lsl_locs = lsl_locs.T\n",
    "    lsl_locsf = lsl_locs[:, numpy.newaxis, numpy.newaxis, :] / sample_grid[numpy.newaxis, numpy.newaxis, :, numpy.newaxis]\n",
    "    lsl_locsf -= numpy.min(lsl_locsf, axis=3, keepdims=True)\n",
    "\n",
    "    # Centre locations slightly\n",
    "    lsl_locsf += (grid_size - numpy.max(lsl_locsf, axis=3, keepdims=True)) / 2.\n",
    "\n",
    "    # add ntime axis\n",
    "    locc = numpy.broadcast_to(lsl_locsf, (ntime_gulp, 3, npol, nchan, lsl_locs.shape[1],)).transpose(1, 0, 3, 4, 2)\n",
    "    return delta, locc, sll\n",
    "#     np = numpy\n",
    "#     delta = (2 * grid_size * np.sin(np.pi * grid_resolution / 360)) ** -1\n",
    "#     chan_wavelengths = speed_of_light.value / frequencies\n",
    "#     sample_grid = chan_wavelengths * delta\n",
    "#     sll = sample_grid[0] / chan_wavelengths[0]\n",
    "#     lsl_locs = lsl_locs.T\n",
    "#     lsl_locs = lsl_locs.copy()\n",
    "\n",
    "#     lsl_locsf = np.zeros(shape=(3, npol, nchan, lsl_locs.shape[1]))\n",
    "#     for l in np.arange(3):\n",
    "#         for i in np.arange(nchan):\n",
    "#             lsl_locsf[l, :, i, :] = lsl_locs[l, :] / sample_grid[i]\n",
    "\n",
    "#             # I'm sure there's a more numpy way of doing this.\n",
    "#             for p in np.arange(npol):\n",
    "#                 lsl_locsf[l, p, i, :] -= np.min(lsl_locsf[l, p, i, :])\n",
    "\n",
    "#     # Centre locations slightly\n",
    "#     for l in np.arange(3):\n",
    "#         for i in np.arange(nchan):\n",
    "#             for p in np.arange(npol):\n",
    "#                 lsl_locsf[l, p, i, :] += (\n",
    "#                     grid_size - np.max(lsl_locsf[l, p, i, :])\n",
    "#                 ) / 2\n",
    "\n",
    "#     # Tile them for ntime...\n",
    "#     locx = np.tile(lsl_locsf[0, ...], (ntime, 1, 1, 1))\n",
    "#     locy = np.tile(lsl_locsf[1, ...], (ntime, 1, 1, 1))\n",
    "#     locz = np.tile(lsl_locsf[2, ...], (ntime, 1, 1, 1))\n",
    "#     # .. and then stick them all into one large array\n",
    "#     locc = np.concatenate([[locx, ], [locy, ], [locz, ]]).transpose(0, 1, 3, 4, 2).copy()\n",
    "\n",
    "#     return delta, locc, sll\n"
   ]
  },
  {
   "cell_type": "code",
   "execution_count": 4,
   "metadata": {
    "execution": {
     "iopub.execute_input": "2021-04-07T22:50:15.135603Z",
     "iopub.status.busy": "2021-04-07T22:50:15.134820Z",
     "iopub.status.idle": "2021-04-07T22:50:15.149300Z",
     "shell.execute_reply": "2021-04-07T22:50:15.147085Z",
     "shell.execute_reply.started": "2021-04-07T22:50:15.135534Z"
    }
   },
   "outputs": [],
   "source": [
    "def make_lm_matrix(skymodes1d):\n",
    "    lm_step = 2.0 / skymodes1d \n",
    "    i, j = numpy.meshgrid(numpy.linspace(-1, 1, skymodes1d, endpoint=False), numpy.linspace(-1, 1, skymodes1d, endpoint=False))\n",
    "#     lm_matrix = numpy.asarray([i * lm_step - 1.0, j * lm_step - 1.0, numpy.zeros_like(j)])\n",
    "    lm_matrix = numpy.asarray([i, j , numpy.zeros_like(j)])\n",
    "    lm_matrix = numpy.fft.fftshift(lm_matrix, axes=(1, 2))\n",
    "    lm_vector = lm_matrix.transpose([1, 2, 0 ])\n",
    "    lm_vector[..., 2] = numpy.sqrt(1 - lm_vector[..., 0] ** 2 - lm_vector[..., 1] ** 2)\n",
    "    return lm_vector\n"
   ]
  },
  {
   "cell_type": "code",
   "execution_count": 5,
   "metadata": {
    "execution": {
     "iopub.execute_input": "2021-04-07T22:50:15.152743Z",
     "iopub.status.busy": "2021-04-07T22:50:15.151873Z",
     "iopub.status.idle": "2021-04-07T22:50:15.171741Z",
     "shell.execute_reply": "2021-04-07T22:50:15.169537Z",
     "shell.execute_reply.started": "2021-04-07T22:50:15.152663Z"
    }
   },
   "outputs": [],
   "source": [
    "def get_phases(lwasv, nchan, nstand, npol):\n",
    "    phases = numpy.zeros((nchan, nstand, npol), dtype=numpy.complex64)\n",
    "    bad_ants = []\n",
    "    for i in range(nstand):\n",
    "        # X\n",
    "        a = lwasv.antennas[2 * i + 0]\n",
    "        delay = a.cable.delay(freq) - a.stand.z / speed_of_light.value\n",
    "        phases[:, i, 0] = numpy.exp(2j * numpy.pi * freq * delay)\n",
    "        phases[:, i, 0] /= numpy.sqrt(a.cable.gain(freq))\n",
    "        if npol == 2:\n",
    "            # Y\n",
    "            a = lwasv.antennas[2 * i + 1]\n",
    "            delay = a.cable.delay(freq) - a.stand.z / speed_of_light.value\n",
    "            phases[:, i, 1] = numpy.exp(2j * numpy.pi * freq * delay)\n",
    "            phases[:, i, 1] /= numpy.sqrt(a.cable.gain(freq))\n",
    "        if lwasv.antennas[2 * i + 0].combined_status < 33 or lwasv.antennas[2 * i + 1].combined_status < 33:\n",
    "            bad_ants.append(i)\n",
    "#     phases = phases.conj()\n",
    "    return phases, bad_ants"
   ]
  },
  {
   "cell_type": "code",
   "execution_count": 476,
   "metadata": {
    "execution": {
     "iopub.execute_input": "2021-04-08T18:23:44.913032Z",
     "iopub.status.busy": "2021-04-08T18:23:44.912569Z",
     "iopub.status.idle": "2021-04-08T18:23:45.007916Z",
     "shell.execute_reply": "2021-04-08T18:23:45.006451Z",
     "shell.execute_reply.started": "2021-04-08T18:23:44.912987Z"
    }
   },
   "outputs": [],
   "source": [
    "# EPICal object\n",
    "class EPICal:\n",
    "    \"\"\"A Calibration Class for EPIC\n",
    "\n",
    "\n",
    "    Parameters\n",
    "    ----------\n",
    "    antenna_locations : array\n",
    "        A numpy array of antenna locations in units of wavelengths.\n",
    "        Expected shape (nstand, nchan, npol, 3).\n",
    "    cal_source_flux : array_like\n",
    "        An array like of the flux in Jy for each source.\n",
    "        Expected shape (n_sources, nchan, npol)\n",
    "    cal_source_locs : array\n",
    "        A nump array of the (l, m, n) or (l,m ) coordinates for each calibration source.\n",
    "        Expected shape (n_sources, 2) or (n_sources, 3)\n",
    "    lm_grid : array\n",
    "        The (l, m) grid points of the image\n",
    "        Expected shape (n_pixel, n_pixels, 2) or (n_pixel, n_pixel, 3)\n",
    "    current_gains : array\n",
    "        An array of current gains applied to the voltage stream.\n",
    "        Expected shape (nstand, nchan, npol). Optional, defaults to ones.\n",
    "    flagged_antennas : array\n",
    "        An array of integers of the antennas indices corresponding to flagged antennas. Optional\n",
    "    n_iter : int\n",
    "        Number of iterations of correlation updates before new gains are solved estimated.\n",
    "    ref_ant : int \n",
    "        The reference antenna for calibration.\n",
    "    inv_gains : bool\n",
    "        When true, gains are assumed to be multiplicative.\n",
    "    damping_factor : float\n",
    "        The damping factor used when updating calibration solutions, must be in the range [0, 1]\n",
    "    phase_fit : bool\n",
    "        When True, only fits the phase of the calibration.\n",
    "    \n",
    "    \"\"\"\n",
    "    def __init__(\n",
    "        self,\n",
    "        antenna_locations,\n",
    "        cal_source_flux,\n",
    "        cal_source_locs,\n",
    "        lm_grid,\n",
    "        current_gains=None,\n",
    "        flagged_antennas=None,\n",
    "        n_iter=10,\n",
    "        ref_ant=0,\n",
    "        inv_gains=False,\n",
    "        damping_factor=0,\n",
    "        phase_fit=False,\n",
    "        exclude_autos=False,\n",
    "        fix_holographic_phase=True,\n",
    "        flatten_array=False,\n",
    "        conv_thresh=0.000001,\n",
    "        conv_max_try=2000,\n",
    "    ):\n",
    "\n",
    "        self.nstand = antenna_locations.shape[0]\n",
    "        self.nchan = antenna_locations.shape[1]\n",
    "        self.npol = antenna_locations.shape[2]\n",
    "        self.locations = antenna_locations\n",
    "        \n",
    "        self.good_ants = numpy.ones(shape=(self.nstand), dtype=numpy.bool)\n",
    "        if flagged_antennas is not None:\n",
    "            self.good_ants[flagged_antennas] = False\n",
    "        \n",
    "        self.cal_source_flux = cal_source_flux\n",
    "        self.n_cal_sources = self.cal_source_flux.shape[0]\n",
    "        self.linalg = bifrost.linalg.LinAlg()\n",
    "        \n",
    "        if cal_source_locs.shape[-1] == 2:\n",
    "            tmp_locs = numpy.zeros((self.n_cal_sources, 3))\n",
    "            tmp_locs[:, :2] = cal_source_locs\n",
    "            tmp_locs[:, 2] = numpy.sqrt(1 - tmp_locs[:, 0] ** 2 - tmp_locs[:, 1] ** 2)\n",
    "            cal_source_locs = tmp_locs\n",
    "\n",
    "        self.cal_source_locs = cal_source_locs\n",
    "\n",
    "        self.cal_pixel_inds = None\n",
    "        self.cal_pixel_locs = None\n",
    "\n",
    "        if lm_grid.shape[2] == 2:\n",
    "            tmp_lm = numpy.zeros((lm_grid.shape[0], lm_grid.shape[1], 3))\n",
    "            tmp_lm[:, :, :2] = lm_grid\n",
    "            tmp_lm[:, :, 2] = numpy.sqrt(1 - tmp_lm[:, :, 0] ** 2 - tmp_lm[:, :, 1]**2)\n",
    "            lm_grid = tmp_lm\n",
    "\n",
    "        self.lm_grid = lm_grid\n",
    "\n",
    "        if current_gains is None:\n",
    "            current_gains = numpy.ones((self.nstand, self.nchan, self.npol), dtype=numpy.complex64)\n",
    "\n",
    "        self.current_gains = numpy.asarray(current_gains)\n",
    "        self.n_iter = n_iter\n",
    "        self.calibration_loop_count = 0\n",
    "\n",
    "        self.ref_ant = ref_ant\n",
    "        self.inv_gains = inv_gains\n",
    "        self.damping_factor = damping_factor\n",
    "        self.phase_fit = phase_fit\n",
    "#         self.auto_noise_model = auto_noise_model\n",
    "        self.exclude_autos = exclude_autos\n",
    "        self.fix_holographic_phase = fix_holographic_phase\n",
    "        self.flatten_array = flatten_array\n",
    "        self.conv_thresh = conv_thresh\n",
    "        self.conv_max_try = conv_max_try\n",
    "    \n",
    "        self.auto_corr = bifrost.zeros((self.nstand, self.nchan, self.npol), dtype=numpy.complex64, space=\"cuda\")\n",
    "        self.ant_twt = numpy.zeros((self.nstand, self.nchan, self.npol), dtype=numpy.int32)\n",
    "        \n",
    "        self.cal_corr = bifrost.zeros(\n",
    "            (self.nchan, self.npol, self.nstand, self.n_cal_sources),\n",
    "            dtype=numpy.complex64,\n",
    "            space=\"cuda\"\n",
    "        )\n",
    "\n",
    "    def calculate_model_visibilities(self):\n",
    "        self.cal_pixel_inds = numpy.ascontiguousarray(\n",
    "            numpy.atleast_2d(\n",
    "                numpy.asarray(\n",
    "                    numpy.unravel_index(\n",
    "                        numpy.argmin(\n",
    "                            (self.lm_grid[:, :, 0].reshape(-1, 1) - self.cal_source_locs[numpy.newaxis, :, 0]) ** 2\n",
    "                            + (self.lm_grid[:, :, 1].reshape(-1, 1) - self.cal_source_locs[numpy.newaxis, :, 1]) ** 2,\n",
    "                            axis=0,\n",
    "                        ),\n",
    "                        self.lm_grid.shape[:2]\n",
    "                    )\n",
    "                ).T\n",
    "            )\n",
    "        )\n",
    "        self.cal_pixel_inds = bifrost.ndarray(self.cal_pixel_inds).copy()\n",
    "\n",
    "        self.cal_pixel_locs = self.lm_grid[self.cal_pixel_inds[:, 0], self.cal_pixel_inds[:, 1], :]\n",
    "\n",
    "        self.model_vis = numpy.zeros((self.nstand, self.nstand, self.nchan, self.npol), dtype=numpy.complex64)\n",
    "        uvws = self.locations[:, numpy.newaxis, :, :, :] - self.locations[numpy.newaxis, :, :, :, :]\n",
    "\n",
    "        self.model_vis = numpy.sum(\n",
    "            self.cal_source_flux[:, numpy.newaxis, numpy.newaxis, :, :]\n",
    "            * numpy.exp(\n",
    "                -1j * 2 * numpy.pi \n",
    "                * numpy.sum(\n",
    "                    self.cal_source_locs[:, numpy.newaxis, numpy.newaxis, numpy.newaxis, numpy.newaxis, :]\n",
    "                    * uvws[numpy.newaxis, :, : , :, :, :],\n",
    "                    axis=-1,\n",
    "                ),\n",
    "            ),\n",
    "            axis=0,\n",
    "        ).astype(numpy.complex64)\n",
    "\n",
    "        if self.exclude_autos:\n",
    "            for ant in range(self.nstand):\n",
    "                self.model_vis[ant, ant, :, :] = 0.0\n",
    "\n",
    "        # Add phase to flatten array\n",
    "        if self.flatten_array:\n",
    "            print(\"Flattening\")\n",
    "            # TODO: check conjugation\n",
    "            self.model_vis *= numpy.exp(\n",
    "                1j * 2 * numpy.pi * uvws[..., 2]\n",
    "            )\n",
    "        return\n",
    "\n",
    "    def calculate_correlation(self, voltage_stream, calibration_pixel_values):\n",
    "        \"\"\"\n",
    "        \n",
    "        Parameters\n",
    "        -----------\n",
    "        voltage_stream : array\n",
    "            Array of the antenna voltage stream. Has shape (nchan, npol, nstand, ntimes)\n",
    "            \n",
    "        calibration_pixel_values : array\n",
    "            Array of the e-field image values has shape (nchan, npol, ntimes, n_cal_sources)\n",
    "        \"\"\"\n",
    "        ntimes = voltage_stream.shape[-1]\n",
    "        \n",
    "        bifrost.map(\n",
    "            \"for(auto l=0; l<{ntimes};l++){{a(i,j,k,m) += b(i,j,k,l) * c(i,j,l,m).conj();}}\".format(ntimes=ntimes),\n",
    "            data={\"a\":self.cal_corr, \"b\":voltage_stream, \"c\":calibration_pixel_values},\n",
    "            axis_names=(\"i\", \"j\", \"k\", \"m\"),\n",
    "            shape=(self.nchan, self.npol, self.nstand, self.n_cal_sources)\n",
    "        )\n",
    "        \n",
    "#         self.cal_corr = self.linalg.matmul(1.0, voltage_stream, calibration_pixel_values.copy(), 1, self.cal_corr)\n",
    "        \n",
    "        self.ant_twt += ntimes\n",
    "        \n",
    "        if self.exclude_autos:\n",
    "            bifrost.map(\n",
    "                \"for(auto l=0; l<{ntimes}; l++) {{a(k,i,j) += b(i,j,k,l) * b(i,j,k,l).conj();}}\".format(ntimes=ntimes),\n",
    "                data={\"a\": self.auto_corr, \"b\": voltage_stream},\n",
    "                axis_names=(\"i\",\"j\", \"k\"),\n",
    "                shape=(self.nchan, self.npol, self.nstand),\n",
    "            )\n",
    "\n",
    "        self.calibration_loop_count += 1\n",
    "        \n",
    "    \n",
    "    def copy_calibration_pixels(self, efield_cal_image):\n",
    "        \n",
    "        ntimes = efield_cal_image.shape[1]\n",
    "        \n",
    "        calibration_pixel_values =  bifrost.zeros(\n",
    "            shape=(self.nchan, self.npol, ntimes, self.n_cal_sources),\n",
    "            dtype=numpy.complex64,\n",
    "            space=\"cuda\",\n",
    "        )\n",
    "\n",
    "        bifrost.map(\n",
    "            \"a(j,k,l,i) = b(0,l,j,k,c(i,0),c(i,1))\",\n",
    "            data={\"a\": calibration_pixel_values, \"b\": efield_cal_image, \"c\": self.cal_pixel_inds.copy(space=\"cuda\")},\n",
    "            axis_names=(\"i\", \"j\", \"k\", \"l\"),\n",
    "            shape=(self.n_cal_sources, self.nchan, self.npol, ntimes),\n",
    "        )\n",
    "        \n",
    "        return calibration_pixel_values\n",
    "\n",
    "    def estimate_gains(self, input_voltage_stream, efield_image):\n",
    "        \"\"\"\n",
    "        \n",
    "        Parameters\n",
    "        -----------\n",
    "        voltage_stream : bifrost.ndarray\n",
    "            Array of the antenna voltage stream has dtype ci4. Has shape (ntimes, nchan, nstand, npol)\n",
    "            \n",
    "        efield_image : bifrost\n",
    "            Array of the e-field image has shape (ntime, nchan, npol, npixels, npixels)\n",
    "        \"\"\"\n",
    "        \n",
    "        if self.cal_pixel_inds is None:\n",
    "            self.calculate_model_visibilities()\n",
    "            \n",
    "        calibration_pixel_values = self.copy_calibration_pixels(efield_image)\n",
    "        \n",
    "        input_voltage_stream = input_voltage_stream.transpose([1,3,2,0]).copy()\n",
    "        input_voltage_stream = input_voltage_stream.copy(space=\"cuda\")\n",
    "        \n",
    "        g_voltage_stream = bifrost.ndarray(shape=input_voltage_stream.shape, dtype=numpy.complex64, space=\"cuda\")\n",
    "        Unpack(input_voltage_stream, g_voltage_stream)\n",
    "        \n",
    "        self.calculate_correlation(g_voltage_stream, calibration_pixel_values)\n",
    "        \n",
    "        if self.calibration_loop_count == self.n_iter:\n",
    "            \n",
    "            tries = 0\n",
    "            convergence_delta = 100.0\n",
    "            temp_gains = numpy.broadcast_to(\n",
    "                self.current_gains[numpy.newaxis], \n",
    "                (self.n_cal_sources, self.nstand, self.nchan, self.npol),\n",
    "            ).copy()\n",
    "            \n",
    "            temp_gains[:, ~self.good_ants] = 0\n",
    "           \n",
    "#             phasor = temp_gains[:, self.ref_ant] / numpy.abs(temp_gains[:, self.ref_ant])\n",
    "#             temp_gains *= numpy.conj(phasor)[:, numpy.newaxis]\n",
    "            \n",
    "            self.ant_twt[~self.good_ants] = 0\n",
    "            self.cal_corr = numpy.asarray(\n",
    "                self.cal_corr.copy(space=\"system\").transpose([3, 2, 0, 1])\n",
    "            ).copy()\n",
    "            self.auto_corr = numpy.asarray(\n",
    "                self.auto_corr.copy(space=\"system\")\n",
    "            ).copy()\n",
    "            \n",
    "            if self.fix_holographic_phase:\n",
    "                # The holographic images have a silly phase running through them due to not centering when padding. Take it out.\n",
    "                dl = self.lm_grid[0, 1, 0] - self.lm_grid[0, 0, 0]\n",
    "                dm = self.lm_grid[1, 0, 1] - self.lm_grid[0, 0, 1]\n",
    "\n",
    "                phase_fix = numpy.exp(\n",
    "                    -1j * numpy.pi \n",
    "                    * (self.cal_pixel_locs[:,0] / dl + self.cal_pixel_locs[:,1] / dm) / 2\n",
    "                )\n",
    "                self.cal_corr *=  phase_fix[:, numpy.newaxis, numpy.newaxis, numpy.newaxis]   \n",
    "            \n",
    "            self.cal_corr /=  self.ant_twt[numpy.newaxis] # make it an average\n",
    "            self.cal_corr[:, ~self.good_ants, :, :] = 0\n",
    "\n",
    "\n",
    "            if self.inv_gains:\n",
    "                # applying multiplicative gains, these get conjugated when applied\n",
    "                applied_cal = numpy.asarray(self.current_gains[numpy.newaxis])\n",
    "#                 applied_cal = numpy.asarray(self.current_gains.copy())\n",
    "            else:\n",
    "                applied_cal = 1./ self.current_gains[numpy.newaxis]\n",
    "            \n",
    "            applied_cal[:, ~self.good_ants] = 0\n",
    "            \n",
    "            if self.exclude_autos:\n",
    "                self.auto_corr /= self.ant_twt\n",
    "                self.auto_corr[~self.good_ants, ...] = 0\n",
    "                \n",
    "                print(\"autos are one:\", numpy.allclose(self.auto_corr[self.good_ants], 1))\n",
    "\n",
    "                b_dot_s_auto = numpy.exp(\n",
    "                    -1j * 2 * numpy.pi\n",
    "                    * numpy.sum(\n",
    "                        self.locations[numpy.newaxis, :, :, :, :2] * self.cal_pixel_locs[:, numpy.newaxis, numpy.newaxis, numpy.newaxis, :2],\n",
    "                        axis=4,\n",
    "                    )\n",
    "                )\n",
    "                subtraction_factor = applied_cal.conj() * b_dot_s_auto * self.auto_corr[numpy.newaxis]  / self.nstand\n",
    "                subtraction_factor[:, ~self.good_ants] = 0\n",
    "\n",
    "                self.cal_corr -= subtraction_factor\n",
    "            \n",
    "            ant_index = numpy.arange(self.nstand)[self.good_ants][0]\n",
    "            print(\"correlations same for each ant\", numpy.allclose(self.cal_corr[:,self.good_ants], self.cal_corr[:,ant_index][:, numpy.newaxis]))\n",
    "\n",
    "            assert numpy.nonzero(self.cal_corr[:, ~self.good_ants])[0].sum() == 0, f\"bad ants not zero\"\n",
    "\n",
    "            b_dot_s = numpy.sum(\n",
    "                # broadcast the antenna positions and cal_pix_locs up to (n_cal_sources, nstand, nstand, nchan, npol, 2) to match model visibilites\n",
    "                self.locations[numpy.newaxis, numpy.newaxis, :, :, :, 0:2] \n",
    "                * self.cal_pixel_locs[:, numpy.newaxis, numpy.newaxis, numpy.newaxis, numpy.newaxis, 0:2],\n",
    "                axis=5,\n",
    "            )\n",
    "            print(\"temp\", \"prev\", \"temp-prev\", \"abs(temp-prev)\", \"abs(prev)\", \"delta\", \"max detla index\")\n",
    "            while (tries < self.conv_max_try) and (convergence_delta > self.conv_thresh):\n",
    "\n",
    "                prev_gains = temp_gains.copy()\n",
    "                prev_gains[:, ~self.good_ants] = 0\n",
    "                \n",
    "                \n",
    "                with warnings.catch_warnings():\n",
    "                    warnings.simplefilter(\"ignore\")\n",
    "                    \n",
    "#                     gain_ratio = applied_cal.conj() / prev_gains.conj()\n",
    "                    gain_ratio = applied_cal.conj() * prev_gains.conj()\n",
    "#                     gain_ratio = applied_cal * prev_gains.conj()\n",
    "#                     if self.inv_gains:\n",
    "#                         gain_ratio = prev_gains / applied_cal \n",
    "#                     else:\n",
    "#                         gain_ratio = prev_gains * applied_cal\n",
    "                    gain_ratio[:, ~self.good_ants] = 0\n",
    "#                     divisor = \n",
    "                    divisor = numpy.nansum(\n",
    "#                         (self.nstand - 1)  # where does this come from?\n",
    "                        1 * self.ant_twt[numpy.newaxis, numpy.newaxis]\n",
    "                        * numpy.exp(-1j * 2 * numpy.pi *  b_dot_s) \n",
    "                        * self.model_vis[numpy.newaxis]  # add n_cal_sources axis\n",
    "                        * gain_ratio[:, numpy.newaxis],  # add extra nstand axis\n",
    "                        axis=2,\n",
    "                    )\n",
    "                    temp_gains = (\n",
    "                        self.cal_corr \n",
    "                        * (self.ant_twt.sum(axis=0, keepdims=True) - self.ant_twt)[numpy.newaxis] # broadcast over the nsources dimension\n",
    "                        * self.nstand \n",
    "                        / divisor\n",
    "                    )\n",
    "                    \n",
    "                    phasor = temp_gains[:, self.ref_ant]  / numpy.abs(temp_gains[:, self.ref_ant])\n",
    "                    temp_gains *= numpy.conj(phasor)[:, numpy.newaxis]\n",
    "    \n",
    "                    temp_gains[:, ~self.good_ants] = 0\n",
    "                \n",
    "                    temp_gains = prev_gains * self.damping_factor + temp_gains * (1 - self.damping_factor)\n",
    "                \n",
    "                    convergence_delta = numpy.ma.masked_array(numpy.abs(temp_gains - prev_gains))\n",
    "                    convergence_delta.mask = numpy.zeros(convergence_delta.shape, dtype=numpy.bool_)\n",
    "                    convergence_delta[:, ~self.good_ants] = True\n",
    "                    convergence_delta /= numpy.abs(prev_gains)\n",
    "                    convergence_delta.mask |= numpy.logical_not(numpy.isfinite(convergence_delta))\n",
    "                    shape = convergence_delta.shape\n",
    "                    argmax = numpy.ma.argmax(convergence_delta)\n",
    "                    argmax = numpy.unravel_index(argmax, shape)\n",
    "                    convergence_delta = numpy.ma.max(convergence_delta)\n",
    "\n",
    "                    if tries % 100 == 0:\n",
    "                        print(temp_gains[argmax], prev_gains[argmax], (temp_gains - prev_gains)[argmax], numpy.abs((temp_gains - prev_gains)[argmax]), numpy.abs(prev_gains)[argmax], end=\" \")\n",
    "                        print(convergence_delta, argmax)\n",
    "                tries += 1\n",
    "\n",
    "            if tries == self.conv_max_try:\n",
    "                print(f\"Maximum tries exceeded before convergence achieved. Final change: {convergence_delta}\")\n",
    "            else:\n",
    "                print(f\"Converged in {tries} iterations. Final change: {convergence_delta}\")\n",
    "\n",
    "            temp_gains = numpy.average(temp_gains, weights=numpy.ones_like(temp_gains), axis=0)\n",
    "            temp_gains[~self.good_ants] = 0\n",
    "            \n",
    "            if self.phase_fit:\n",
    "                # Only fit phase\n",
    "                temp_gains /=  numpy.abs(self.current_gains)\n",
    "#             print(self.cal_corr)\n",
    "\n",
    "            print(\"percent nan\", numpy.isnan(temp_gains).sum()/float(temp_gains.size))\n",
    "            print(\"current amp\", numpy.mean(numpy.abs(self.current_gains)))\n",
    "            \n",
    "            self.current_gains = numpy.where(\n",
    "                numpy.isnan(temp_gains),\n",
    "                self.current_gains,\n",
    "                temp_gains,\n",
    "#                 self.current_gains * self.damping_factor + temp_gains * (1 - self.damping_factor),\n",
    "            )\n",
    "            \n",
    "            print(\"new amp\", numpy.mean(numpy.abs(self.current_gains)))\n",
    "            \n",
    "            if self.phase_fit:\n",
    "                self.current_gains /=  numpy.abs(self.current_gains)\n",
    "            \n",
    "#             self.current_gains[~self.good_ants] = 0\n",
    "            self.temp_gains = temp_gains\n",
    "            # reset the necessary paramters to start a new calibration loop\n",
    "            self.calibration_loop_count = 0\n",
    "#             self.auto_corr = bifrost.zeros((self.nstand, self.nchan, self.npol), dtype=numpy.complex64, space=\"cuda\")\n",
    "#             self.ant_twt = numpy.zeros((self.nstand, self.nchan, self.npol), dtype=numpy.int32)\n",
    "\n",
    "#             self.cal_corr = bifrost.zeros(\n",
    "#                 (self.nchan, self.npol, self.nstand, self.n_cal_sources),\n",
    "#                 dtype=numpy.complex64,\n",
    "#                 space=\"cuda\"\n",
    "#             )\n",
    "        \n",
    "    def get_gains(self):\n",
    "        if self.inv_gains: \n",
    "            return self.current_gains.astype(numpy.complex64)\n",
    "        return 1./self.current_gains.astype(numpy.complex64)"
   ]
  },
  {
   "cell_type": "code",
   "execution_count": 7,
   "metadata": {
    "execution": {
     "iopub.execute_input": "2021-04-07T22:50:15.459296Z",
     "iopub.status.busy": "2021-04-07T22:50:15.458582Z",
     "iopub.status.idle": "2021-04-07T22:50:15.468760Z",
     "shell.execute_reply": "2021-04-07T22:50:15.464994Z",
     "shell.execute_reply.started": "2021-04-07T22:50:15.459213Z"
    }
   },
   "outputs": [],
   "source": [
    "BFSetGPU(0)"
   ]
  },
  {
   "cell_type": "code",
   "execution_count": 8,
   "metadata": {
    "execution": {
     "iopub.execute_input": "2021-04-07T22:50:15.476026Z",
     "iopub.status.busy": "2021-04-07T22:50:15.475276Z",
     "iopub.status.idle": "2021-04-07T22:50:15.483653Z",
     "shell.execute_reply": "2021-04-07T22:50:15.481616Z",
     "shell.execute_reply.started": "2021-04-07T22:50:15.475946Z"
    }
   },
   "outputs": [],
   "source": [
    "voltage_file = \"/data4/mkolopanis/src/LWA_EPIC/epic_data_voltages.npz\"\n",
    "efield_image = \"/data4/mkolopanis/src/LWA_EPIC/epic_efield_image.npz\"\n",
    "ateam_file =  \"/data3/MWA/MWA_simpleds/simulation/catalogs/rlb2019_ateam_sources_gleam.vot\""
   ]
  },
  {
   "cell_type": "code",
   "execution_count": 9,
   "metadata": {
    "execution": {
     "iopub.execute_input": "2021-04-07T22:50:15.488510Z",
     "iopub.status.busy": "2021-04-07T22:50:15.487841Z",
     "iopub.status.idle": "2021-04-07T22:50:15.499858Z",
     "shell.execute_reply": "2021-04-07T22:50:15.497830Z",
     "shell.execute_reply.started": "2021-04-07T22:50:15.488444Z"
    }
   },
   "outputs": [],
   "source": [
    "voltages = numpy.load(voltage_file, allow_pickle=True)"
   ]
  },
  {
   "cell_type": "code",
   "execution_count": 10,
   "metadata": {
    "execution": {
     "iopub.execute_input": "2021-04-07T22:50:15.503421Z",
     "iopub.status.busy": "2021-04-07T22:50:15.502699Z",
     "iopub.status.idle": "2021-04-07T22:50:15.512460Z",
     "shell.execute_reply": "2021-04-07T22:50:15.510149Z",
     "shell.execute_reply.started": "2021-04-07T22:50:15.503358Z"
    }
   },
   "outputs": [],
   "source": [
    "image = numpy.load(efield_image, allow_pickle=True)"
   ]
  },
  {
   "cell_type": "code",
   "execution_count": 11,
   "metadata": {
    "execution": {
     "iopub.execute_input": "2021-04-07T22:50:15.516010Z",
     "iopub.status.busy": "2021-04-07T22:50:15.515270Z",
     "iopub.status.idle": "2021-04-07T22:50:15.527566Z",
     "shell.execute_reply": "2021-04-07T22:50:15.525239Z",
     "shell.execute_reply.started": "2021-04-07T22:50:15.515935Z"
    }
   },
   "outputs": [],
   "source": [
    "voltage_hdr = voltages[\"hdr\"].item()\n",
    "img_hdr = image[\"hdr\"].item()"
   ]
  },
  {
   "cell_type": "code",
   "execution_count": 12,
   "metadata": {
    "execution": {
     "iopub.execute_input": "2021-04-07T22:50:15.530969Z",
     "iopub.status.busy": "2021-04-07T22:50:15.530233Z",
     "iopub.status.idle": "2021-04-07T22:50:15.555539Z",
     "shell.execute_reply": "2021-04-07T22:50:15.553544Z",
     "shell.execute_reply.started": "2021-04-07T22:50:15.530901Z"
    }
   },
   "outputs": [
    {
     "data": {
      "text/plain": [
       "(array({'time_tag': 297616560436264860, 'seq0': 0, 'chan0': 1022, 'nchan': 4, 'cfreq': 25609999.98729676, 'bw': 100000.0, 'nstand': 256, 'npol': 2, 'nbit': 4, 'complex': True, 'axes': 'time,chan,stand,pol'},\n",
       "       dtype=object),\n",
       " (512, 4, 256, 2))"
      ]
     },
     "execution_count": 12,
     "metadata": {},
     "output_type": "execute_result"
    }
   ],
   "source": [
    "voltages[\"hdr\"], voltages[\"data\"].shape"
   ]
  },
  {
   "cell_type": "code",
   "execution_count": 13,
   "metadata": {
    "execution": {
     "iopub.execute_input": "2021-04-07T22:50:15.559216Z",
     "iopub.status.busy": "2021-04-07T22:50:15.558395Z",
     "iopub.status.idle": "2021-04-07T22:50:15.989048Z",
     "shell.execute_reply": "2021-04-07T22:50:15.987007Z",
     "shell.execute_reply.started": "2021-04-07T22:50:15.559137Z"
    }
   },
   "outputs": [
    {
     "data": {
      "text/plain": [
       "(array({'time_tag': 297616560436264860, 'seq0': 0, 'chan0': 1022, 'nchan': 4, 'cfreq': 25609999.98729676, 'bw': 100000.0, 'nstand': 256, 'npol': 4, 'nbit': 64, 'complex': True, 'axes': 'time,chan,pol,gridy,gridx', 'grid_size_x': 64, 'grid_size_y': 64, 'sampling_length_x': 0.49999887562843115, 'sampling_length_y': 0.49999887562843115, 'accumulation_time': 61.44, 'FS': 196000000.0, 'latitude': 34.348358, 'longitude': -106.885783, 'telescope': 'LWA-SV', 'data_units': 'UNCALIB', 'pols': ['xx', 'xy', 'yx', 'yy']},\n",
       "       dtype=object),\n",
       " (1, 512, 4, 2, 64, 64))"
      ]
     },
     "execution_count": 13,
     "metadata": {},
     "output_type": "execute_result"
    }
   ],
   "source": [
    "image[\"hdr\"], image[\"data\"].shape"
   ]
  },
  {
   "cell_type": "code",
   "execution_count": 14,
   "metadata": {
    "execution": {
     "iopub.execute_input": "2021-04-07T22:50:15.992747Z",
     "iopub.status.busy": "2021-04-07T22:50:15.992007Z",
     "iopub.status.idle": "2021-04-07T22:50:16.002564Z",
     "shell.execute_reply": "2021-04-07T22:50:16.000527Z",
     "shell.execute_reply.started": "2021-04-07T22:50:15.992668Z"
    }
   },
   "outputs": [],
   "source": [
    "site_loc = EarthLocation.from_geodetic(\n",
    "    lwasv.lon * (180.0 / numpy.pi),\n",
    "    lwasv.lat * (180.0 / numpy.pi),\n",
    "    height=1511 * units.m,\n",
    ")"
   ]
  },
  {
   "cell_type": "code",
   "execution_count": 15,
   "metadata": {
    "execution": {
     "iopub.execute_input": "2021-04-07T22:50:16.005433Z",
     "iopub.status.busy": "2021-04-07T22:50:16.004717Z",
     "iopub.status.idle": "2021-04-07T22:50:16.448356Z",
     "shell.execute_reply": "2021-04-07T22:50:16.446166Z",
     "shell.execute_reply.started": "2021-04-07T22:50:16.005354Z"
    }
   },
   "outputs": [],
   "source": [
    "lwasv_antennas = lwasv.antennas\n",
    "obstime = Time(img_hdr[\"time_tag\"] / img_hdr[\"FS\"], format=\"unix\", location=site_loc)\n",
    "lon = img_hdr[\"longitude\"] * units.deg\n",
    "lat = img_hdr[\"latitude\"] * units.deg\n",
    "ntime_gulp = image[\"data\"].shape[1]\n",
    "chan_bw = img_hdr[\"bw\"]\n",
    "FS = 196.0e6\n",
    "CHAN_BW = 25.0e3\n",
    "chan0 = img_hdr[\"chan0\"]\n",
    "cfreq = img_hdr[\"cfreq\"]\n",
    "nchan = img_hdr[\"nchan\"]\n",
    "npol = voltage_hdr[\"npol\"]\n",
    "# npol = 1\n",
    "grid_size = skymodes1d = 65\n",
    "imageres = 1.79057\n",
    "ant_extent = 1\n",
    "# freq = (cfreq + numpy.arange(nchan) * chan_bw)\n",
    "freq = (chan0 + numpy.arange(nchan)) * CHAN_BW\n",
    "point_source=True\n",
    "ones_test=False\n",
    "use_skymod=False\n",
    "n_source_gsm=75"
   ]
  },
  {
   "cell_type": "code",
   "execution_count": 16,
   "metadata": {
    "execution": {
     "iopub.execute_input": "2021-04-07T22:50:16.451811Z",
     "iopub.status.busy": "2021-04-07T22:50:16.451062Z",
     "iopub.status.idle": "2021-04-07T22:50:16.465208Z",
     "shell.execute_reply": "2021-04-07T22:50:16.462969Z",
     "shell.execute_reply.started": "2021-04-07T22:50:16.451743Z"
    }
   },
   "outputs": [],
   "source": [
    "locations = numpy.array([(ant.stand.x, ant.stand.y, ant.stand.z) for ant in lwasv.antennas[::2]])\n",
    "locations[255, :] = 0.0\n",
    "nstand = locations.shape[0]\n",
    "sampling_length, locs, sll = GenerateLocations(locations, freq, ntime_gulp, nchan, npol, grid_size=grid_size, grid_resolution=imageres)"
   ]
  },
  {
   "cell_type": "code",
   "execution_count": 17,
   "metadata": {
    "execution": {
     "iopub.execute_input": "2021-04-07T22:50:16.469255Z",
     "iopub.status.busy": "2021-04-07T22:50:16.467756Z",
     "iopub.status.idle": "2021-04-07T22:50:17.335499Z",
     "shell.execute_reply": "2021-04-07T22:50:17.333497Z",
     "shell.execute_reply.started": "2021-04-07T22:50:16.469186Z"
    }
   },
   "outputs": [
    {
     "name": "stdout",
     "output_type": "stream",
     "text": [
      "[ 40  91 107 109 119 132 133 135 141 149 162 194 202 203 212 216 217 228\n",
      " 255]\n"
     ]
    },
    {
     "name": "stderr",
     "output_type": "stream",
     "text": [
      "<ipython-input-4-855bbbf43b13>:8: RuntimeWarning: invalid value encountered in sqrt\n",
      "  lm_vector[..., 2] = numpy.sqrt(1 - lm_vector[..., 0] ** 2 - lm_vector[..., 1] ** 2)\n"
     ]
    }
   ],
   "source": [
    "gpu_locs = bifrost.ndarray(locs.astype(numpy.int32).copy(), space=\"cuda\")\n",
    "\n",
    "phases, bad_ants = get_phases(lwasv, nchan, nstand, npol)\n",
    "bad_ants.append(255)\n",
    "bad_ants = numpy.asarray(bad_ants)\n",
    "phases[:, bad_ants, :] =0\n",
    "lm_matrix = make_lm_matrix(skymodes1d)\n",
    "print(bad_ants)"
   ]
  },
  {
   "cell_type": "code",
   "execution_count": 18,
   "metadata": {
    "execution": {
     "iopub.execute_input": "2021-04-07T22:50:17.338835Z",
     "iopub.status.busy": "2021-04-07T22:50:17.338106Z",
     "iopub.status.idle": "2021-04-07T22:50:17.345635Z",
     "shell.execute_reply": "2021-04-07T22:50:17.343512Z",
     "shell.execute_reply.started": "2021-04-07T22:50:17.338764Z"
    }
   },
   "outputs": [],
   "source": [
    "# phases *= numpy.conj(phases[:, 5, :] / numpy.abs(phases[:, 5, :]))[:, numpy.newaxis, :]"
   ]
  },
  {
   "cell_type": "code",
   "execution_count": 19,
   "metadata": {
    "execution": {
     "iopub.execute_input": "2021-04-07T22:50:17.349206Z",
     "iopub.status.busy": "2021-04-07T22:50:17.348477Z",
     "iopub.status.idle": "2021-04-07T22:50:17.361909Z",
     "shell.execute_reply": "2021-04-07T22:50:17.359675Z",
     "shell.execute_reply.started": "2021-04-07T22:50:17.349109Z"
    }
   },
   "outputs": [
    {
     "data": {
      "text/plain": [
       "array([380165.65156163, 379422.77796955, 378682.07970209, 377943.54827431])"
      ]
     },
     "execution_count": 19,
     "metadata": {},
     "output_type": "execute_result"
    }
   ],
   "source": [
    " numpy.asarray(2 * FCNST.Boltzmann * (FCNST.speed_of_light / freq)**2 * 10**26, dtype=numpy.float64)"
   ]
  },
  {
   "cell_type": "code",
   "execution_count": 375,
   "metadata": {
    "execution": {
     "iopub.execute_input": "2021-04-08T17:21:50.705614Z",
     "iopub.status.busy": "2021-04-08T17:21:50.705018Z",
     "iopub.status.idle": "2021-04-08T17:21:50.759983Z",
     "shell.execute_reply": "2021-04-08T17:21:50.759216Z",
     "shell.execute_reply.started": "2021-04-08T17:21:50.705558Z"
    }
   },
   "outputs": [],
   "source": [
    "if point_source:\n",
    "    radec = numpy.array([[5.233686583, 0.71094094367], [6.12377129663, 1.02645722192]])\n",
    "#     fluxes = src_flux = numpy.array([20539.0, 19328.0])\n",
    "    fluxes = src_flux = numpy.array([7500.0, 8000.0])\n",
    "#     fluxes[1] *= 0.57 # a fudging factor because it is down in the beam\n",
    "#     radec = radec[0]\n",
    "#     fluxes = fluxes[0] \n",
    "    fluxes = numpy.atleast_1d(fluxes)\n",
    "    radec = numpy.atleast_2d(radec)\n",
    "    sou_info = SkyCoord(\n",
    "        ra=radec[:, 0] * units.rad, dec=radec[:, 1] * units.rad, frame=\"icrs\",\n",
    "    )\n",
    "elif use_skymod:\n",
    "    ateam = pyradiosky.SkyModel()\n",
    "    ateam.read_gleam_catalog(ateam_file, spectral_type=\"spectral_index\")\n",
    "    ateam.at_frequencies(freq * units.Hz)\n",
    "    ateam.update_positions(obstime, site_loc)\n",
    "    sou_info = SkyCoord(\n",
    "        ra=ateam.ra, dec=ateam.dec, frame=\"icrs\",\n",
    "    )\n",
    "    fluxes = ateam.stokes[0].transpose([1,0])\n",
    "else:\n",
    "    \n",
    "  \n",
    "    gsm2008 = GlobalSkyModel(freq_unit=\"Hz\")\n",
    "    fluxes = gsm2008.generate(freq)\n",
    "    fluxes = hp.pixelfunc.ud_grade(fluxes, 16)\n",
    "    gsm2008_coords = HEALPix(ahp.npix_to_nside(fluxes.shape[1]), frame=Galactic())\n",
    "    sou_info = gsm2008_coords.healpix_to_skycoord(numpy.arange(gsm2008_coords.npix))\n",
    "    sou_info = sou_info.transform_to(\"icrs\")\n",
    "    \n",
    "    fluxes *= numpy.asarray(2 * FCNST.Boltzmann * (FCNST.speed_of_light / freq)**2 * 10**26, dtype=numpy.float64)[:, numpy.newaxis] # Jy/str\n",
    "\n",
    "\n",
    "app_coord_data = sou_info.transform_to(\n",
    "    TETE(location=site_loc, obstime=obstime)\n",
    ")"
   ]
  },
  {
   "cell_type": "code",
   "execution_count": 376,
   "metadata": {
    "execution": {
     "iopub.execute_input": "2021-04-08T17:21:50.761549Z",
     "iopub.status.busy": "2021-04-08T17:21:50.761332Z",
     "iopub.status.idle": "2021-04-08T17:21:50.768976Z",
     "shell.execute_reply": "2021-04-08T17:21:50.768211Z",
     "shell.execute_reply.started": "2021-04-08T17:21:50.761527Z"
    }
   },
   "outputs": [
    {
     "data": {
      "text/plain": [
       "(2,)"
      ]
     },
     "execution_count": 376,
     "metadata": {},
     "output_type": "execute_result"
    }
   ],
   "source": [
    "fluxes.shape"
   ]
  },
  {
   "cell_type": "code",
   "execution_count": 377,
   "metadata": {
    "execution": {
     "iopub.execute_input": "2021-04-08T17:21:50.770758Z",
     "iopub.status.busy": "2021-04-08T17:21:50.770368Z",
     "iopub.status.idle": "2021-04-08T17:21:50.779086Z",
     "shell.execute_reply": "2021-04-08T17:21:50.778138Z",
     "shell.execute_reply.started": "2021-04-08T17:21:50.770730Z"
    }
   },
   "outputs": [
    {
     "data": {
      "text/plain": [
       "(<Longitude [300.01716468, 351.06347381] deg>,\n",
       " 278.4353232431326,\n",
       " 0.5994919397537344)"
      ]
     },
     "execution_count": 377,
     "metadata": {},
     "output_type": "execute_result"
    }
   ],
   "source": [
    "app_coord_data.ra, obstime.sidereal_time(\"apparent\").deg, site_loc.lat.rad"
   ]
  },
  {
   "cell_type": "code",
   "execution_count": 378,
   "metadata": {
    "execution": {
     "iopub.execute_input": "2021-04-08T17:21:50.780327Z",
     "iopub.status.busy": "2021-04-08T17:21:50.780084Z",
     "iopub.status.idle": "2021-04-08T17:21:50.813895Z",
     "shell.execute_reply": "2021-04-08T17:21:50.813188Z",
     "shell.execute_reply.started": "2021-04-08T17:21:50.780295Z"
    }
   },
   "outputs": [
    {
     "data": {
      "text/plain": [
       "array([0.92101211, 0.45401003])"
      ]
     },
     "execution_count": 378,
     "metadata": {},
     "output_type": "execute_result"
    }
   ],
   "source": [
    "numpy.cos(app_coord_data.altaz.zen.rad) ** 1.6"
   ]
  },
  {
   "cell_type": "code",
   "execution_count": 379,
   "metadata": {
    "execution": {
     "iopub.execute_input": "2021-04-08T17:21:50.814999Z",
     "iopub.status.busy": "2021-04-08T17:21:50.814802Z",
     "iopub.status.idle": "2021-04-08T17:21:50.955278Z",
     "shell.execute_reply": "2021-04-08T17:21:50.954386Z",
     "shell.execute_reply.started": "2021-04-08T17:21:50.814979Z"
    }
   },
   "outputs": [],
   "source": [
    "# lm_coords = numpy.sin(app_coord_data.altaz.zen).reshape(-1, 1)* numpy.asarray([numpy.cos(app_coord_data.altaz.az.rad), numpy.sin(app_coord_data.altaz.az.rad)]).T\n",
    "lm_coords = numpy.sin(app_coord_data.altaz.zen).reshape(-1, 1)* numpy.asarray([numpy.cos(numpy.pi /2 - app_coord_data.altaz.az.rad), numpy.sin(numpy.pi/2 - app_coord_data.altaz.az.rad)]).T\n",
    "good_pix = app_coord_data.altaz.zen.deg <= 90   \n",
    "lm_coords = lm_coords[good_pix]\n",
    "# lm_coords = skypos[:,:2]\n",
    "\n",
    "if point_source: \n",
    "    fluxes *= numpy.cos(app_coord_data.altaz.zen.rad) ** 1.6\n",
    "    cal_source_flux = numpy.broadcast_to(fluxes[:, numpy.newaxis, numpy.newaxis], (fluxes.shape[0], nchan, npol))\n",
    "elif use_skymod:\n",
    "    cal_source_flux = numpy.broadcast_to(fluxes[:, :, numpy.newaxis], (fluxes.shape[0], nchan, npol))\n",
    "    cal_source_flux = cal_source_flux[good_pix]\n",
    "elif ones_test:\n",
    "    lm_coords= numpy.atleast_2d([0,0])\n",
    "    cal_source_flux = numpy.asarray([1.])\n",
    "    cal_source_flux = numpy.broadcast_to(cal_source_flux[:, numpy.newaxis, numpy.newaxis], (cal_source_flux.shape[0], nchan, npol))\n",
    "    \n",
    "else:\n",
    "    cal_source_flux = fluxes[..., good_pix].T\n",
    "    inds = numpy.argsort(cal_source_flux, axis=0)[:n_source_gsm]\n",
    "    \n",
    "    cal_source_flux = numpy.take(cal_source_flux, inds)\n",
    "    \n",
    "    cal_source_flux = numpy.broadcast_to(cal_source_flux[:, :, numpy.newaxis], (cal_source_flux.shape[0], nchan, npol))\n",
    "    \n",
    "    lm_coords = lm_coords[inds[:, 0]]\n",
    "    "
   ]
  },
  {
   "cell_type": "code",
   "execution_count": 380,
   "metadata": {
    "execution": {
     "iopub.execute_input": "2021-04-08T17:21:50.956628Z",
     "iopub.status.busy": "2021-04-08T17:21:50.956402Z",
     "iopub.status.idle": "2021-04-08T17:21:50.962864Z",
     "shell.execute_reply": "2021-04-08T17:21:50.961854Z",
     "shell.execute_reply.started": "2021-04-08T17:21:50.956606Z"
    }
   },
   "outputs": [],
   "source": [
    "input_vs = voltages[\"data\"][...,:npol]\n",
    "\n",
    "if ones_test:\n",
    "    input_vs = numpy.ones_like(input_vs)\n",
    "    "
   ]
  },
  {
   "cell_type": "code",
   "execution_count": 381,
   "metadata": {
    "execution": {
     "iopub.execute_input": "2021-04-08T17:21:50.964092Z",
     "iopub.status.busy": "2021-04-08T17:21:50.963867Z",
     "iopub.status.idle": "2021-04-08T17:21:50.982204Z",
     "shell.execute_reply": "2021-04-08T17:21:50.981383Z",
     "shell.execute_reply.started": "2021-04-08T17:21:50.964070Z"
    }
   },
   "outputs": [],
   "source": [
    "voltage_stream_c14 = bifrost.ndarray(input_vs, dtype=\"ci4\", space=\"system\")\n",
    "cal_vs = voltage_stream_c14.copy()\n",
    "gpu_cal_vs = cal_vs.copy(space=\"cuda\")\n",
    "\n",
    "voltage_stream_c14 = voltage_stream_c14.transpose([1,3,2,0])\n",
    "voltage_stream_c14 = voltage_stream_c14.copy()\n",
    "voltage_stream_c14 = voltage_stream_c14.copy(space=\"cuda\")\n",
    "\n",
    "vdata = bifrost.ndarray(shape=voltage_stream_c14.shape, dtype=numpy.complex64, space=\"cuda\")\n",
    "Unpack(voltage_stream_c14, vdata)\n",
    "\n",
    "voltage_stream = vdata.copy(\"system\")\n",
    "\n",
    "# voltage_stream = bifrost.ndarray(numpy.ascontiguousarray(voltage_stream.transpose([1,3,2,0])))\n",
    "# vdata = voltage_stream.copy(space=\"cuda\")\n",
    "# efield_system =  image[\"data\"]\n",
    "# efield_cal_image = bifrost.ndarray(\n",
    "#     image[\"data\"],\n",
    "#     dtype=numpy.complex64,\n",
    "#     space=\"cuda\",\n",
    "# )"
   ]
  },
  {
   "cell_type": "code",
   "execution_count": 382,
   "metadata": {
    "execution": {
     "iopub.execute_input": "2021-04-08T17:21:50.984389Z",
     "iopub.status.busy": "2021-04-08T17:21:50.984172Z",
     "iopub.status.idle": "2021-04-08T17:21:51.110331Z",
     "shell.execute_reply": "2021-04-08T17:21:51.109519Z",
     "shell.execute_reply.started": "2021-04-08T17:21:50.984367Z"
    }
   },
   "outputs": [],
   "source": [
    "efield_cal_image = bifrost.zeros(\n",
    "    shape=(ntime_gulp, nchan, npol, grid_size, grid_size),\n",
    "    dtype=numpy.complex64,\n",
    "    space=\"cuda\",\n",
    ")\n",
    "\n",
    "input_gains =  numpy.broadcast_to(\n",
    "    phases[numpy.newaxis, :, :, :, numpy.newaxis, numpy.newaxis],\n",
    "#     numpy.ones_like(phases)[numpy.newaxis, :, :, :, numpy.newaxis, numpy.newaxis],\n",
    "    (ntime_gulp, nchan, nstand, npol, ant_extent, ant_extent)\n",
    ").copy()\n",
    "\n",
    "gpu_input_gains = bifrost.ndarray(input_gains)\n",
    "gpu_input_gains = gpu_input_gains.copy(space=\"cuda\")\n",
    "\n",
    "\n",
    "bf_romein_input = Romein()\n",
    "bf_romein_input.init(gpu_locs, gpu_input_gains, grid_size, polmajor=False)\n",
    "bf_romein_input.execute(gpu_cal_vs, efield_cal_image)\n",
    "efield_cal_image = efield_cal_image.reshape(ntime_gulp * nchan * npol, grid_size, grid_size)\n",
    "\n",
    "bf_fft_input = Fft()\n",
    "bf_fft_input.init(efield_cal_image, efield_cal_image, axes=(1, 2))\n",
    "bf_fft_input.execute(efield_cal_image,efield_cal_image, inverse=True)\n",
    "efield_cal_image = efield_cal_image.reshape(\n",
    "    1, ntime_gulp, nchan, npol, grid_size, grid_size\n",
    ")\n",
    "efield_system = efield_cal_image.copy(space=\"system\")"
   ]
  },
  {
   "cell_type": "code",
   "execution_count": 383,
   "metadata": {
    "execution": {
     "iopub.execute_input": "2021-04-08T17:21:51.111770Z",
     "iopub.status.busy": "2021-04-08T17:21:51.111560Z",
     "iopub.status.idle": "2021-04-08T17:21:51.126872Z",
     "shell.execute_reply": "2021-04-08T17:21:51.126076Z",
     "shell.execute_reply.started": "2021-04-08T17:21:51.111749Z"
    }
   },
   "outputs": [],
   "source": [
    "crosspol_pre = bifrost.zeros(\n",
    "    shape=(ntime_gulp, nchan, npol ** 2, grid_size, grid_size),\n",
    "    dtype=numpy.complex64,\n",
    "    space=\"cuda\",\n",
    ")\n",
    "\n",
    "image_pre = bifrost.zeros(\n",
    "    shape=(1, nchan, npol ** 2, grid_size, grid_size),\n",
    "    dtype=numpy.complex64,\n",
    "    space=\"cuda\"\n",
    ")\n",
    "\n",
    "bifrost.map(\n",
    "    \"a(i,j,p,k,l) += b(0,i,j,p/2,k,l) * b(0,i,j,p%2,k,l).conj()\",\n",
    "    {\"a\": crosspol_pre, \"b\": efield_cal_image},\n",
    "    axis_names=(\"i\", \"j\", \"p\", \"k\", \"l\"),\n",
    "    shape=(ntime_gulp, nchan, npol ** 2, grid_size, grid_size),\n",
    ")\n",
    "crosspol_pre = crosspol_pre.reshape(\n",
    "    ntime_gulp, nchan, npol ** 2, grid_size, grid_size\n",
    ")\n",
    "\n",
    "bifrost.reduce(crosspol_pre, image_pre, op=\"sum\")\n",
    "\n",
    "image_pre = image_pre.copy(space=\"system\")\n",
    "uv_pre = numpy.fft.fft2(image_pre, axes=(3,4))\n",
    "image_pre = numpy.fft.fftshift(image_pre, axes=(3, 4))\n",
    "# image_pre =  image_pre[:, :, :, :, ::-1]"
   ]
  },
  {
   "cell_type": "code",
   "execution_count": 384,
   "metadata": {
    "execution": {
     "iopub.execute_input": "2021-04-08T17:21:51.128022Z",
     "iopub.status.busy": "2021-04-08T17:21:51.127810Z",
     "iopub.status.idle": "2021-04-08T17:21:51.133838Z",
     "shell.execute_reply": "2021-04-08T17:21:51.132979Z",
     "shell.execute_reply.started": "2021-04-08T17:21:51.128001Z"
    }
   },
   "outputs": [],
   "source": [
    "max_inds = numpy.ascontiguousarray(\n",
    "    numpy.atleast_2d(\n",
    "        numpy.asarray(\n",
    "            numpy.unravel_index(\n",
    "                numpy.argmin(\n",
    "                    (lm_matrix[:, :, 0].reshape(-1, 1) - lm_coords[numpy.newaxis, :, 0]) ** 2\n",
    "                    + (lm_matrix[:, :, 1].reshape(-1, 1) - lm_coords[numpy.newaxis, :, 1]) ** 2,\n",
    "                    axis=0,\n",
    "                ),\n",
    "                lm_matrix.shape[:2]\n",
    "            )\n",
    "        ).T\n",
    "    )\n",
    ")\n",
    "\n",
    "g_inds = bifrost.ndarray(max_inds).copy()\n",
    "g_inds = g_inds.copy(space=\"cuda\")"
   ]
  },
  {
   "cell_type": "code",
   "execution_count": 385,
   "metadata": {
    "execution": {
     "iopub.execute_input": "2021-04-08T17:21:51.134915Z",
     "iopub.status.busy": "2021-04-08T17:21:51.134680Z",
     "iopub.status.idle": "2021-04-08T17:21:51.139192Z",
     "shell.execute_reply": "2021-04-08T17:21:51.138340Z",
     "shell.execute_reply.started": "2021-04-08T17:21:51.134892Z"
    }
   },
   "outputs": [],
   "source": [
    "max_locations_lm = lm_matrix[max_inds[:, 0], max_inds[:,1], :2]\n",
    "\n",
    "cal_pixels = efield_system[0,:, :, :, max_inds[:, 0], max_inds[:,1]].transpose([0,2,3,1])\n",
    "n_cal_sources = max_inds.shape[0]"
   ]
  },
  {
   "cell_type": "code",
   "execution_count": 477,
   "metadata": {
    "execution": {
     "iopub.execute_input": "2021-04-08T18:23:48.706027Z",
     "iopub.status.busy": "2021-04-08T18:23:48.705495Z",
     "iopub.status.idle": "2021-04-08T18:23:48.722905Z",
     "shell.execute_reply": "2021-04-08T18:23:48.721838Z",
     "shell.execute_reply.started": "2021-04-08T18:23:48.705980Z"
    }
   },
   "outputs": [],
   "source": [
    "cal_obj = EPICal(\n",
    "    locs.transpose(3, 2, 4, 0, 1)[...,0],\n",
    "    cal_source_flux=cal_source_flux,\n",
    "    cal_source_locs=lm_coords,\n",
    "    lm_grid=lm_matrix,\n",
    "    n_iter=1,\n",
    "    exclude_autos=True,\n",
    "    ref_ant=0,\n",
    "    damping_factor=0.5,\n",
    "    flatten_array=True,\n",
    "    fix_holographic_phase=False,\n",
    "    inv_gains=True,\n",
    "    flagged_antennas=bad_ants,\n",
    "    current_gains=phases.transpose([1,0,2]),\n",
    "    conv_max_try=2000,\n",
    "    phase_fit=False,\n",
    ")"
   ]
  },
  {
   "cell_type": "code",
   "execution_count": 478,
   "metadata": {
    "execution": {
     "iopub.execute_input": "2021-04-08T18:23:49.125612Z",
     "iopub.status.busy": "2021-04-08T18:23:49.125087Z",
     "iopub.status.idle": "2021-04-08T18:24:29.781020Z",
     "shell.execute_reply": "2021-04-08T18:24:29.778622Z",
     "shell.execute_reply.started": "2021-04-08T18:23:49.125564Z"
    }
   },
   "outputs": [
    {
     "name": "stdout",
     "output_type": "stream",
     "text": [
      "Flattening\n",
      "autos are one: False\n",
      "correlations same for each ant False\n",
      "temp prev temp-prev abs(temp-prev) abs(prev) delta max detla index\n",
      "(158.4525613781675-65.11244510263741j) (1.5710663-0.28544214j) (156.88149511782967-64.82700295895874j) 169.74788311801257 1.5967863 106.3059517143594 (1, 174, 1, 1)\n"
     ]
    },
    {
     "name": "stderr",
     "output_type": "stream",
     "text": [
      "<ipython-input-476-dcca4043ccbd>:276: RuntimeWarning: divide by zero encountered in true_divide\n",
      "  self.cal_corr /=  self.ant_twt[numpy.newaxis] # make it an average\n",
      "<ipython-input-476-dcca4043ccbd>:276: RuntimeWarning: invalid value encountered in true_divide\n",
      "  self.cal_corr /=  self.ant_twt[numpy.newaxis] # make it an average\n",
      "<ipython-input-476-dcca4043ccbd>:290: RuntimeWarning: divide by zero encountered in true_divide\n",
      "  self.auto_corr /= self.ant_twt\n",
      "<ipython-input-476-dcca4043ccbd>:290: RuntimeWarning: invalid value encountered in true_divide\n",
      "  self.auto_corr /= self.ant_twt\n"
     ]
    },
    {
     "name": "stdout",
     "output_type": "stream",
     "text": [
      "(-6.94692946152345e-31+2.679265717614533e-31j) (-1.38938589230469e-30+5.358531435229066e-31j) (6.94692946152345e-31-2.679265717614533e-31j) 7.445689607347798e-31 1.4891379214695596e-30 0.5 (0, 88, 0, 0)\n",
      "(-5.480161063523905e-61+2.1135679793250243e-61j) (-1.096032212704781e-60+4.2271359586500485e-61j) (5.480161063523905e-61-2.1135679793250243e-61j) 5.873613443647064e-61 1.1747226887294127e-60 0.5 (0, 88, 0, 0)\n",
      "(-4.32308481732841e-91+1.6673111494164834e-91j) (-8.64616963465682e-91+3.334622298832967e-91j) (4.32308481732841e-91-1.6673111494164834e-91j) 4.633464018073727e-91 9.266928036147454e-91 0.5 (0, 88, 0, 0)\n",
      "(-3.410312602344902e-121+1.3152765826137728e-121j) (-6.820625204689804e-121+2.6305531652275455e-121j) (3.410312602344902e-121-1.3152765826137728e-121j) 3.655158619606627e-121 7.310317239213254e-121 0.5 (0, 88, 0, 0)\n",
      "(-2.690262286572424e-151+1.0375702755766997e-151j) (-5.380524573144848e-151+2.0751405511533994e-151j) (2.690262286572424e-151-1.0375702755766997e-151j) 2.8834117373892677e-151 5.7668234747785354e-151 0.5 (0, 88, 0, 0)\n",
      "(-2.1222427426674715e-181+8.1849862682185e-182j) (-4.244485485334943e-181+1.6369972536437e-181j) (2.1222427426674715e-181-8.1849862682185e-182j) 2.274610793281788e-181 4.549221586563576e-181 0.5 (0, 88, 0, 0)\n",
      "(-1.6741543310793843e-211+6.456815676768397e-212j) (-3.3483086621587687e-211+1.2913631353536794e-211j) (1.6741543310793843e-211-6.456815676768397e-212j) 1.794351529413755e-211 3.58870305882751e-211 0.5 (0, 88, 0, 0)\n",
      "(-1.3206749010949606e-241+5.093529459620738e-242j) (-2.6413498021899213e-241+1.0187058919241476e-241j) (1.3206749010949606e-241-5.093529459620738e-242j) 1.4154937717780418e-241 2.8309875435560837e-241 0.5 (0, 88, 0, 0)\n",
      "(-1.0418287979804409e-271+4.0180862602863063e-272j) (-2.0836575959608818e-271+8.036172520572613e-272j) (1.0418287979804409e-271-4.0180862602863063e-272j) 1.1166276981395304e-271 2.2332553962790608e-271 0.5 (0, 88, 0, 0)\n",
      "(-8.218580086601692e-302+3.1697111645455657e-302j) (-1.6437160173203385e-301+6.339422329091131e-302j) (8.218580086601692e-302-3.1697111645455657e-302j) 8.808639367492047e-302 1.7617278734984093e-301 0.5 (0, 88, 0, 0)\n",
      "Converged in 1077 iterations. Final change: 7.913047646078205e-16\n",
      "percent nan 0.0\n",
      "current amp 1.9035207\n",
      "new amp 2.105034199686221\n"
     ]
    }
   ],
   "source": [
    "# for i in range(10):\n",
    "cal_obj.estimate_gains(cal_vs, efield_cal_image)"
   ]
  },
  {
   "cell_type": "code",
   "execution_count": 479,
   "metadata": {
    "execution": {
     "iopub.execute_input": "2021-04-08T18:24:29.785458Z",
     "iopub.status.busy": "2021-04-08T18:24:29.784769Z",
     "iopub.status.idle": "2021-04-08T18:24:29.799151Z",
     "shell.execute_reply": "2021-04-08T18:24:29.797309Z",
     "shell.execute_reply.started": "2021-04-08T18:24:29.785412Z"
    }
   },
   "outputs": [
    {
     "data": {
      "text/plain": [
       "(numpy.ndarray,\n",
       " array([[0.29230769, 0.13846154, 0.94624765],\n",
       "        [0.50769231, 0.63076923, 0.58683788]]),\n",
       " array([[0.27851905, 0.14201126, 0.94987364],\n",
       "        [0.49280637, 0.62005286, 0.61047222]]))"
      ]
     },
     "execution_count": 479,
     "metadata": {},
     "output_type": "execute_result"
    }
   ],
   "source": [
    "type(cal_obj.temp_gains), cal_obj.cal_pixel_locs, cal_obj.cal_source_locs"
   ]
  },
  {
   "cell_type": "code",
   "execution_count": 480,
   "metadata": {
    "execution": {
     "iopub.execute_input": "2021-04-08T18:24:29.805486Z",
     "iopub.status.busy": "2021-04-08T18:24:29.804156Z",
     "iopub.status.idle": "2021-04-08T18:24:29.825543Z",
     "shell.execute_reply": "2021-04-08T18:24:29.819840Z",
     "shell.execute_reply.started": "2021-04-08T18:24:29.805384Z"
    }
   },
   "outputs": [
    {
     "data": {
      "text/plain": [
       "0.9997632855926122"
      ]
     },
     "execution_count": 480,
     "metadata": {},
     "output_type": "execute_result"
    }
   ],
   "source": [
    "numpy.sqrt(1 - numpy.sum(cal_obj.lm_grid[0,0, :2]**2))"
   ]
  },
  {
   "cell_type": "code",
   "execution_count": 481,
   "metadata": {
    "execution": {
     "iopub.execute_input": "2021-04-08T18:24:29.831627Z",
     "iopub.status.busy": "2021-04-08T18:24:29.830294Z",
     "iopub.status.idle": "2021-04-08T18:24:29.868024Z",
     "shell.execute_reply": "2021-04-08T18:24:29.865107Z",
     "shell.execute_reply.started": "2021-04-08T18:24:29.831499Z"
    }
   },
   "outputs": [],
   "source": [
    "calibration_pixel_values =  bifrost.zeros(\n",
    "    shape=(n_cal_sources, nchan, npol, ntime_gulp),\n",
    "    dtype=numpy.complex64,\n",
    "    space=\"cuda\",\n",
    ")\n",
    "\n",
    "cal_corr = bifrost.zeros(\n",
    "    shape=(nchan, npol,nstand, n_cal_sources),\n",
    "    dtype=numpy.complex64,\n",
    "    space=\"cuda\",\n",
    ")\n",
    "\n",
    "bifrost.map(\n",
    "    \"a(i,j,k,l) = b(0,l,j,k,c(i,0),c(i,1)).conj()\",\n",
    "    data={\"a\": calibration_pixel_values, \"b\": efield_cal_image, \"c\": g_inds},\n",
    "    axis_names=(\"i\", \"j\", \"k\", \"l\"),\n",
    "    shape=(n_cal_sources, nchan, npol, ntime_gulp),\n",
    ")\n",
    "\n",
    "cal_corr = cal_obj.linalg.matmul(1.0, vdata, calibration_pixel_values.transpose([1,2,3,0]), 1, cal_corr)\n",
    "system_corr = cal_corr.copy(\"system\")"
   ]
  },
  {
   "cell_type": "code",
   "execution_count": 482,
   "metadata": {
    "execution": {
     "iopub.execute_input": "2021-04-08T18:24:29.873381Z",
     "iopub.status.busy": "2021-04-08T18:24:29.872053Z",
     "iopub.status.idle": "2021-04-08T18:24:29.933034Z",
     "shell.execute_reply": "2021-04-08T18:24:29.930127Z",
     "shell.execute_reply.started": "2021-04-08T18:24:29.873286Z"
    }
   },
   "outputs": [],
   "source": [
    "junk = numpy.matmul( voltage_stream, numpy.conj(efield_system[0,:,:,:,max_inds[:,0], max_inds[:,1]].transpose([2,3,1,0])))"
   ]
  },
  {
   "cell_type": "code",
   "execution_count": 483,
   "metadata": {
    "execution": {
     "iopub.execute_input": "2021-04-08T18:24:29.938421Z",
     "iopub.status.busy": "2021-04-08T18:24:29.937184Z",
     "iopub.status.idle": "2021-04-08T18:24:29.960114Z",
     "shell.execute_reply": "2021-04-08T18:24:29.957603Z",
     "shell.execute_reply.started": "2021-04-08T18:24:29.938346Z"
    }
   },
   "outputs": [
    {
     "data": {
      "text/plain": [
       "ndarray([[[1., 1., 1.],\n",
       "          [1., 1., 1.]]], dtype=float32)"
      ]
     },
     "execution_count": 483,
     "metadata": {},
     "output_type": "execute_result"
    }
   ],
   "source": [
    "array = bifrost.zeros((1,2,3)) + 1\n",
    "array[:, :, (0, 2)] = 0\n",
    "array"
   ]
  },
  {
   "cell_type": "code",
   "execution_count": 484,
   "metadata": {
    "execution": {
     "iopub.execute_input": "2021-04-08T18:24:29.965476Z",
     "iopub.status.busy": "2021-04-08T18:24:29.963997Z",
     "iopub.status.idle": "2021-04-08T18:24:30.042526Z",
     "shell.execute_reply": "2021-04-08T18:24:30.039557Z",
     "shell.execute_reply.started": "2021-04-08T18:24:29.965391Z"
    }
   },
   "outputs": [],
   "source": [
    "gridded_cal_data = bifrost.zeros(\n",
    "    shape=(ntime_gulp, nchan, npol, grid_size, grid_size),\n",
    "    dtype=numpy.complex64,\n",
    "    space=\"cuda\",\n",
    ")\n",
    "\n",
    "cal_gains =  numpy.broadcast_to(\n",
    "    (cal_obj.get_gains().transpose([1,0,2]))[numpy.newaxis, :, :, :, numpy.newaxis, numpy.newaxis],\n",
    "    (ntime_gulp, nchan, nstand, npol, ant_extent, ant_extent)\n",
    ").copy()\n",
    "\n",
    "# cal_gains = numpy.ma.masked_invalid(cal_gains).filled(0)\n",
    "g_cal_gains = bifrost.ndarray(cal_gains)#.conj()\n",
    "g_cal_gains = g_cal_gains.copy(space=\"cuda\")\n",
    "\n",
    "bf_romein_cal = Romein()\n",
    "bf_romein_cal.init(gpu_locs, g_cal_gains, grid_size, polmajor=False)\n",
    "bf_romein_cal.execute(gpu_cal_vs, gridded_cal_data)\n",
    "gridded_cal_data = gridded_cal_data.reshape(ntime_gulp * nchan * npol, grid_size, grid_size)\n",
    "\n",
    "bf_fft = Fft()\n",
    "bf_fft.init(gridded_cal_data, gridded_cal_data, axes=(1, 2))\n",
    "bf_fft.execute(gridded_cal_data,gridded_cal_data, inverse=True)\n",
    "gridded_cal_data = gridded_cal_data.reshape(\n",
    "    1, ntime_gulp, nchan, npol, grid_size, grid_size\n",
    ")\n"
   ]
  },
  {
   "cell_type": "code",
   "execution_count": 485,
   "metadata": {
    "execution": {
     "iopub.execute_input": "2021-04-08T18:24:30.052020Z",
     "iopub.status.busy": "2021-04-08T18:24:30.050914Z",
     "iopub.status.idle": "2021-04-08T18:24:30.111878Z",
     "shell.execute_reply": "2021-04-08T18:24:30.108583Z",
     "shell.execute_reply.started": "2021-04-08T18:24:30.051926Z"
    }
   },
   "outputs": [],
   "source": [
    "crosspol_post = bifrost.zeros(\n",
    "    shape=(ntime_gulp, nchan, npol ** 2, grid_size, grid_size),\n",
    "    dtype=numpy.complex64,\n",
    "    space=\"cuda\",\n",
    ")\n",
    "\n",
    "image_post = bifrost.zeros(\n",
    "    shape=(1, nchan, npol ** 2, grid_size, grid_size),\n",
    "    dtype=numpy.complex64,\n",
    "    space=\"cuda\"\n",
    ")\n",
    "\n",
    "bifrost.map(\n",
    "    \"a(i,j,p,k,l) += b(0,i,j,p/2,k,l)*b(0,i,j,p%2,k,l).conj()\",\n",
    "    {\"a\": crosspol_post, \"b\": gridded_cal_data},\n",
    "    axis_names=(\"i\", \"j\", \"p\", \"k\", \"l\"),\n",
    "    shape=(ntime_gulp, nchan, npol ** 2, grid_size, grid_size),\n",
    ")\n",
    "    \n",
    "bifrost.reduce(crosspol_post, image_post, op=\"sum\")\n",
    "\n",
    "image_post = image_post.copy(space=\"system\")\n",
    "uv_post = numpy.fft.fft2(image_post, axes=(3, 4))\n",
    "image_post = numpy.fft.fftshift(image_post, axes=(3, 4))\n",
    "# image_post =  image_post[:, :, :, :, ::|-1]"
   ]
  },
  {
   "cell_type": "code",
   "execution_count": 486,
   "metadata": {
    "execution": {
     "iopub.execute_input": "2021-04-08T18:24:30.119817Z",
     "iopub.status.busy": "2021-04-08T18:24:30.118472Z",
     "iopub.status.idle": "2021-04-08T18:24:30.137875Z",
     "shell.execute_reply": "2021-04-08T18:24:30.134615Z",
     "shell.execute_reply.started": "2021-04-08T18:24:30.119710Z"
    }
   },
   "outputs": [
    {
     "data": {
      "text/plain": [
       "array([[ 3,  8],\n",
       "       [19, 15]])"
      ]
     },
     "execution_count": 486,
     "metadata": {},
     "output_type": "execute_result"
    }
   ],
   "source": [
    "max_inds-1"
   ]
  },
  {
   "cell_type": "code",
   "execution_count": 487,
   "metadata": {
    "execution": {
     "iopub.execute_input": "2021-04-08T18:24:30.143428Z",
     "iopub.status.busy": "2021-04-08T18:24:30.142041Z",
     "iopub.status.idle": "2021-04-08T18:24:30.156751Z",
     "shell.execute_reply": "2021-04-08T18:24:30.153513Z",
     "shell.execute_reply.started": "2021-04-08T18:24:30.143327Z"
    }
   },
   "outputs": [],
   "source": [
    "mask = numpy.isnan(numpy.fft.fftshift(lm_matrix[:,:,2], axes=(0,1)))"
   ]
  },
  {
   "cell_type": "code",
   "execution_count": 488,
   "metadata": {
    "execution": {
     "iopub.execute_input": "2021-04-08T18:24:30.163428Z",
     "iopub.status.busy": "2021-04-08T18:24:30.162192Z",
     "iopub.status.idle": "2021-04-08T18:24:30.177707Z",
     "shell.execute_reply": "2021-04-08T18:24:30.174220Z",
     "shell.execute_reply.started": "2021-04-08T18:24:30.163327Z"
    }
   },
   "outputs": [],
   "source": [
    "image_inds = numpy.asarray(\n",
    "    [\n",
    "        (grid_size // 2 + max_inds[:, 0] ) % grid_size, \n",
    "        (grid_size // 2  + max_inds[:, 1]) % grid_size,\n",
    "    ]\n",
    ").T"
   ]
  },
  {
   "cell_type": "code",
   "execution_count": 489,
   "metadata": {
    "execution": {
     "iopub.execute_input": "2021-04-08T18:24:30.183896Z",
     "iopub.status.busy": "2021-04-08T18:24:30.182228Z",
     "iopub.status.idle": "2021-04-08T18:24:30.198020Z",
     "shell.execute_reply": "2021-04-08T18:24:30.194906Z",
     "shell.execute_reply.started": "2021-04-08T18:24:30.183772Z"
    }
   },
   "outputs": [],
   "source": [
    "l = numpy.fft.ifftshift(lm_matrix[0,:,0])\n",
    "m = numpy.fft.ifftshift(lm_matrix[:,0,1])"
   ]
  },
  {
   "cell_type": "code",
   "execution_count": 490,
   "metadata": {
    "execution": {
     "iopub.execute_input": "2021-04-08T18:24:30.203611Z",
     "iopub.status.busy": "2021-04-08T18:24:30.202508Z",
     "iopub.status.idle": "2021-04-08T18:24:30.219569Z",
     "shell.execute_reply": "2021-04-08T18:24:30.216239Z",
     "shell.execute_reply.started": "2021-04-08T18:24:30.203518Z"
    }
   },
   "outputs": [
    {
     "data": {
      "text/plain": [
       "array([[ 4,  9],\n",
       "       [20, 16]])"
      ]
     },
     "execution_count": 490,
     "metadata": {},
     "output_type": "execute_result"
    }
   ],
   "source": [
    "max_inds"
   ]
  },
  {
   "cell_type": "code",
   "execution_count": 491,
   "metadata": {
    "execution": {
     "iopub.execute_input": "2021-04-08T18:24:30.225147Z",
     "iopub.status.busy": "2021-04-08T18:24:30.224001Z",
     "iopub.status.idle": "2021-04-08T18:24:33.248544Z",
     "shell.execute_reply": "2021-04-08T18:24:33.244960Z",
     "shell.execute_reply.started": "2021-04-08T18:24:30.225068Z"
    }
   },
   "outputs": [
    {
     "data": {
      "image/png": "[encoded data removed]",
      "text/plain": [
       "<Figure size 1296x360 with 6 Axes>"
      ]
     },
     "metadata": {},
     "output_type": "display_data"
    }
   ],
   "source": [
    "fig, ax = plt.subplots(ncols=3, figsize=(18,5), facecolor=\"white\")\n",
    "\n",
    "\n",
    "masked_pre = numpy.ma.masked_where(mask, image_pre[0,0,0].real)\n",
    "masked_post = numpy.ma.masked_where(mask, image_post[0,0,0].real)\n",
    "ratio = masked_pre/masked_post\n",
    "masked_pre.mask[image_inds[:, 0], image_inds[:,1]] = numpy.inf\n",
    "masked_post.mask[image_inds[:, 0], image_inds[:,1]] = numpy.inf\n",
    "# masked_post.mask[37, 24] = numpy.inf\n",
    "# masked_pre.mask[16, 12] = numpy.inf\n",
    "# norm = LogNorm(vmax=1e7, vmin=1e-1)\n",
    "norm1 = Normalize(vmin=1e6, vmax=8e6)\n",
    "norm2 = Normalize(vmin=1e6, vmax=5e6)\n",
    "norm3 = Normalize(\n",
    "    vmin=ratio.mean() - 2.5 * ratio.std(), \n",
    "    vmax=ratio.mean() + 2.5 * ratio.std(),\n",
    ")\n",
    "if ones_test:\n",
    "    norm1 = Normalize(vmin=1e2, vmax=6e6)\n",
    "    norm2 = Normalize(vmin=1e2, vmax=6e11)\n",
    "    norm3 = LogNorm(vmin=1e-5, vmax=1e1)\n",
    "\n",
    "\n",
    "im = ax[0].pcolormesh(l,m, masked_pre, norm=norm1, shading=\"auto\")\n",
    "fig.colorbar(im, ax=ax[0]);\n",
    "ax[0].set_title(\"Pre Calibration\");\n",
    "\n",
    "im = ax[1].pcolormesh(l,m,masked_post, norm=norm2, shading=\"auto\")\n",
    "fig.colorbar(im, ax=ax[1]);\n",
    "ax[1].set_title(\"Post Calibration\");\n",
    "\n",
    "im = ax[2].pcolormesh(l,m,(masked_pre / masked_post), norm=norm3, shading=\"auto\")\n",
    "fig.colorbar(im, ax=ax[2]);\n",
    "ax[2].set_title(\"Ratio pre/post\");\n",
    "\n",
    "for _ax in ax:\n",
    "    _ax.set_xlabel(r\"l\")\n",
    "    _ax.set_ylabel(r\"m\")\n",
    "    _ax.set_xlim([-1,1])\n",
    "    \n"
   ]
  },
  {
   "cell_type": "code",
   "execution_count": 507,
   "metadata": {
    "execution": {
     "iopub.execute_input": "2021-04-08T18:26:48.945660Z",
     "iopub.status.busy": "2021-04-08T18:26:48.945074Z",
     "iopub.status.idle": "2021-04-08T18:26:48.954820Z",
     "shell.execute_reply": "2021-04-08T18:26:48.953451Z",
     "shell.execute_reply.started": "2021-04-08T18:26:48.945610Z"
    }
   },
   "outputs": [
    {
     "data": {
      "text/plain": [
       "(ndarray([[ 4,  9],\n",
       "          [20, 16]]),\n",
       " array([[0.29230769, 0.13846154, 0.94624765],\n",
       "        [0.50769231, 0.63076923, 0.58683788]]),\n",
       " array([[0.27851905, 0.14201126, 0.94987364],\n",
       "        [0.49280637, 0.62005286, 0.61047222]]))"
      ]
     },
     "execution_count": 507,
     "metadata": {},
     "output_type": "execute_result"
    }
   ],
   "source": [
    "cal_obj.cal_pixel_inds, cal_obj.cal_pixel_locs, cal_obj.cal_source_locs"
   ]
  },
  {
   "cell_type": "code",
   "execution_count": 492,
   "metadata": {
    "execution": {
     "iopub.execute_input": "2021-04-08T18:24:33.254549Z",
     "iopub.status.busy": "2021-04-08T18:24:33.253235Z",
     "iopub.status.idle": "2021-04-08T18:24:33.276516Z",
     "shell.execute_reply": "2021-04-08T18:24:33.272230Z",
     "shell.execute_reply.started": "2021-04-08T18:24:33.254430Z"
    }
   },
   "outputs": [
    {
     "data": {
      "text/plain": [
       "((19, 37), 32.5)"
      ]
     },
     "execution_count": 492,
     "metadata": {},
     "output_type": "execute_result"
    }
   ],
   "source": [
    "numpy.unravel_index(masked_pre.argmax(), masked_post.shape), grid_size/2"
   ]
  },
  {
   "cell_type": "code",
   "execution_count": 493,
   "metadata": {
    "execution": {
     "iopub.execute_input": "2021-04-08T18:24:33.282377Z",
     "iopub.status.busy": "2021-04-08T18:24:33.281120Z",
     "iopub.status.idle": "2021-04-08T18:24:33.303850Z",
     "shell.execute_reply": "2021-04-08T18:24:33.299968Z",
     "shell.execute_reply.started": "2021-04-08T18:24:33.282183Z"
    }
   },
   "outputs": [
    {
     "data": {
      "text/plain": [
       "(1.97426525, 7.704195)"
      ]
     },
     "execution_count": 493,
     "metadata": {},
     "output_type": "execute_result"
    }
   ],
   "source": [
    "masked_pre.min()/1e6, masked_pre.max()/1e6"
   ]
  },
  {
   "cell_type": "code",
   "execution_count": 494,
   "metadata": {
    "execution": {
     "iopub.execute_input": "2021-04-08T18:24:33.310457Z",
     "iopub.status.busy": "2021-04-08T18:24:33.308966Z",
     "iopub.status.idle": "2021-04-08T18:24:33.331611Z",
     "shell.execute_reply": "2021-04-08T18:24:33.327940Z",
     "shell.execute_reply.started": "2021-04-08T18:24:33.310347Z"
    }
   },
   "outputs": [
    {
     "data": {
      "text/plain": [
       "(1.424702, 5.4497835)"
      ]
     },
     "execution_count": 494,
     "metadata": {},
     "output_type": "execute_result"
    }
   ],
   "source": [
    "masked_post.min()/1e6, masked_post.max()/1e6"
   ]
  },
  {
   "cell_type": "code",
   "execution_count": 495,
   "metadata": {
    "execution": {
     "iopub.execute_input": "2021-04-08T18:24:33.337655Z",
     "iopub.status.busy": "2021-04-08T18:24:33.336513Z",
     "iopub.status.idle": "2021-04-08T18:24:33.445782Z",
     "shell.execute_reply": "2021-04-08T18:24:33.442694Z",
     "shell.execute_reply.started": "2021-04-08T18:24:33.337549Z"
    }
   },
   "outputs": [
    {
     "data": {
      "text/plain": [
       "0"
      ]
     },
     "execution_count": 495,
     "metadata": {},
     "output_type": "execute_result"
    }
   ],
   "source": [
    "(~numpy.isfinite(cal_gains[:,:,cal_obj.good_ants])).sum()"
   ]
  },
  {
   "cell_type": "code",
   "execution_count": 496,
   "metadata": {
    "execution": {
     "iopub.execute_input": "2021-04-08T18:24:33.452798Z",
     "iopub.status.busy": "2021-04-08T18:24:33.450979Z",
     "iopub.status.idle": "2021-04-08T18:24:33.470849Z",
     "shell.execute_reply": "2021-04-08T18:24:33.467862Z",
     "shell.execute_reply.started": "2021-04-08T18:24:33.452708Z"
    }
   },
   "outputs": [
    {
     "data": {
      "text/plain": [
       "(1.4620685369318183, 0.3314224484851491)"
      ]
     },
     "execution_count": 496,
     "metadata": {},
     "output_type": "execute_result"
    }
   ],
   "source": [
    "ratio.mean(), ratio.std()"
   ]
  },
  {
   "cell_type": "code",
   "execution_count": 497,
   "metadata": {
    "execution": {
     "iopub.execute_input": "2021-04-08T18:24:33.475513Z",
     "iopub.status.busy": "2021-04-08T18:24:33.474391Z",
     "iopub.status.idle": "2021-04-08T18:24:38.328026Z",
     "shell.execute_reply": "2021-04-08T18:24:38.324738Z",
     "shell.execute_reply.started": "2021-04-08T18:24:33.475424Z"
    }
   },
   "outputs": [
    {
     "name": "stderr",
     "output_type": "stream",
     "text": [
      "<ipython-input-497-fabff75bd647>:5: MatplotlibDeprecationWarning: default base will change from np.e to 10 in 3.4.  To suppress this warning specify the base keyword argument.\n",
      "  norm1 = SymLogNorm(vmin=-3e8, linthresh=1e6, vmax=2e10)\n",
      "<ipython-input-497-fabff75bd647>:7: MatplotlibDeprecationWarning: default base will change from np.e to 10 in 3.4.  To suppress this warning specify the base keyword argument.\n",
      "  norm2 = SymLogNorm(vmin=-1e5, linthresh=1e5, vmax=5e11)\n"
     ]
    },
    {
     "data": {
      "image/png": "[encoded data removed]",
      "text/plain": [
       "<Figure size 1296x360 with 6 Axes>"
      ]
     },
     "metadata": {},
     "output_type": "display_data"
    }
   ],
   "source": [
    "fig, ax = plt.subplots(ncols=3, figsize=(18,5), facecolor=\"white\")\n",
    "\n",
    "# norm = LogNorm(vmax=1e7, vmin=1e-1)\n",
    "# norm1 = Normalize(vmin=1e6, vmax=1e9)\n",
    "norm1 = SymLogNorm(vmin=-3e8, linthresh=1e6, vmax=2e10)\n",
    "# norm2 = Normalize(vmin=9e5, vmax=2.5e9)\n",
    "norm2 = SymLogNorm(vmin=-1e5, linthresh=1e5, vmax=5e11)\n",
    "im = ax[0].pcolorfast(uv_pre[0,0,0].real, norm=norm1)\n",
    "fig.colorbar(im, ax=ax[0]);\n",
    "ax[0].set_title(\"Pre Calibration FFT(image)\");\n",
    "\n",
    "im = ax[1].pcolorfast(uv_post[0,0,0].real, norm=norm2)\n",
    "fig.colorbar(im, ax=ax[1]);\n",
    "ax[1].set_title(\"Post Calibration FFT(image)\");\n",
    "\n",
    "im = ax[2].pcolorfast((uv_pre - uv_post).real[0,0,0])\n",
    "fig.colorbar(im, ax=ax[2]);\n",
    "ax[2].set_title(\"Diff\");\n"
   ]
  },
  {
   "cell_type": "code",
   "execution_count": 498,
   "metadata": {
    "execution": {
     "iopub.execute_input": "2021-04-08T18:24:38.334345Z",
     "iopub.status.busy": "2021-04-08T18:24:38.332808Z",
     "iopub.status.idle": "2021-04-08T18:24:38.353109Z",
     "shell.execute_reply": "2021-04-08T18:24:38.350460Z",
     "shell.execute_reply.started": "2021-04-08T18:24:38.334204Z"
    }
   },
   "outputs": [
    {
     "data": {
      "text/plain": [
       "(-3.8374559367479306, 1.345781461425)"
      ]
     },
     "execution_count": 498,
     "metadata": {},
     "output_type": "execute_result"
    }
   ],
   "source": [
    "uv_pre[0,0,0].real.min()/1e8, uv_pre[0,0,0].real.max()/1e10"
   ]
  },
  {
   "cell_type": "code",
   "execution_count": 499,
   "metadata": {
    "execution": {
     "iopub.execute_input": "2021-04-08T18:24:38.357569Z",
     "iopub.status.busy": "2021-04-08T18:24:38.356123Z",
     "iopub.status.idle": "2021-04-08T18:24:38.372170Z",
     "shell.execute_reply": "2021-04-08T18:24:38.369418Z",
     "shell.execute_reply.started": "2021-04-08T18:24:38.357476Z"
    }
   },
   "outputs": [
    {
     "data": {
      "text/plain": [
       "(-382.8716404372716, 0.0950755925025)"
      ]
     },
     "execution_count": 499,
     "metadata": {},
     "output_type": "execute_result"
    }
   ],
   "source": [
    "uv_post[0,0,0].real.min()/1e6, uv_post[0,0,0].real.max()/1e11"
   ]
  },
  {
   "cell_type": "code",
   "execution_count": 500,
   "metadata": {
    "execution": {
     "iopub.execute_input": "2021-04-08T18:24:38.380481Z",
     "iopub.status.busy": "2021-04-08T18:24:38.379397Z",
     "iopub.status.idle": "2021-04-08T18:24:39.413657Z",
     "shell.execute_reply": "2021-04-08T18:24:39.410874Z",
     "shell.execute_reply.started": "2021-04-08T18:24:38.380394Z"
    }
   },
   "outputs": [
    {
     "data": {
      "text/plain": [
       "Text(0.5, 0, 'North/South position [m]')"
      ]
     },
     "execution_count": 500,
     "metadata": {},
     "output_type": "execute_result"
    },
    {
     "data": {
      "image/png": "[encoded data removed]",
      "text/plain": [
       "<Figure size 576x360 with 1 Axes>"
      ]
     },
     "metadata": {},
     "output_type": "display_data"
    },
    {
     "data": {
      "image/png": "[encoded data removed]",
      "text/plain": [
       "<Figure size 576x360 with 1 Axes>"
      ]
     },
     "metadata": {},
     "output_type": "display_data"
    }
   ],
   "source": [
    "fig, ax = plt.subplots(\n",
    "    figsize=(8, 5),\n",
    "    facecolor=\"white\"\n",
    ")\n",
    "ax.plot(locations[: ,0 ], locations[:, 2], 'k.');\n",
    "ax.set_ylabel(\"Antenna Height [m]\")\n",
    "ax.set_xlabel(\"East/West position [m]\")\n",
    "\n",
    "fig, ax = plt.subplots(\n",
    "    figsize=(8, 5),\n",
    "    facecolor=\"white\"\n",
    ")\n",
    "ax.plot(locations[: ,1 ], locations[:, 2], 'k.');\n",
    "ax.set_ylabel(\"Antenna Height [m]\")\n",
    "ax.set_xlabel(\"North/South position [m]\")"
   ]
  },
  {
   "cell_type": "code",
   "execution_count": 501,
   "metadata": {
    "execution": {
     "iopub.execute_input": "2021-04-08T18:24:39.419814Z",
     "iopub.status.busy": "2021-04-08T18:24:39.418602Z",
     "iopub.status.idle": "2021-04-08T18:24:39.441653Z",
     "shell.execute_reply": "2021-04-08T18:24:39.438214Z",
     "shell.execute_reply.started": "2021-04-08T18:24:39.419701Z"
    }
   },
   "outputs": [
    {
     "data": {
      "text/plain": [
       "(array([[-1.7612559 +0.67927456j, -0.99144745+1.5912879j ],\n",
       "        [-1.7981918 +0.5763315j , -1.0812914 +1.5323627j ],\n",
       "        [-1.8291142 +0.47138998j, -1.1676395 +1.468369j  ],\n",
       "        [-1.8539158 +0.3648009j , -1.2502058 +1.3995132j ]],\n",
       "       dtype=complex64),\n",
       " array([[ 0.        +0.j        , -0.01563266-0.02020708j],\n",
       "        [ 0.        +0.j        ,  0.0712929 +0.01292835j],\n",
       "        [ 0.        +0.j        ,  0.06010154+0.11922577j],\n",
       "        [ 0.        +0.j        ,  0.07738023-0.08210693j]],\n",
       "       dtype=complex64))"
      ]
     },
     "execution_count": 501,
     "metadata": {},
     "output_type": "execute_result"
    }
   ],
   "source": [
    "phases.transpose([1,0,2])[88], cal_obj.get_gains()[88]"
   ]
  },
  {
   "cell_type": "code",
   "execution_count": 502,
   "metadata": {
    "execution": {
     "iopub.execute_input": "2021-04-08T18:24:39.447124Z",
     "iopub.status.busy": "2021-04-08T18:24:39.445808Z",
     "iopub.status.idle": "2021-04-08T18:24:39.487539Z",
     "shell.execute_reply": "2021-04-08T18:24:39.484699Z",
     "shell.execute_reply.started": "2021-04-08T18:24:39.447020Z"
    }
   },
   "outputs": [],
   "source": [
    "uvws = cal_obj.locations[:, numpy.newaxis, :, :, :] - cal_obj.locations[numpy.newaxis, :, :, :, :]"
   ]
  },
  {
   "cell_type": "code",
   "execution_count": 503,
   "metadata": {
    "execution": {
     "iopub.execute_input": "2021-04-08T18:24:39.492726Z",
     "iopub.status.busy": "2021-04-08T18:24:39.491500Z",
     "iopub.status.idle": "2021-04-08T18:24:39.531375Z",
     "shell.execute_reply": "2021-04-08T18:24:39.528285Z",
     "shell.execute_reply.started": "2021-04-08T18:24:39.492594Z"
    }
   },
   "outputs": [
    {
     "data": {
      "text/plain": [
       "array([[0.58772523, 0.58772523],\n",
       "       [0.5883003 , 0.5883003 ],\n",
       "       [0.58887538, 0.58887538],\n",
       "       [0.58945045, 0.58945045]])"
      ]
     },
     "execution_count": 503,
     "metadata": {},
     "output_type": "execute_result"
    }
   ],
   "source": [
    "numpy.max(uvws[:,:,:,:,2],axis=(0,1))"
   ]
  },
  {
   "cell_type": "code",
   "execution_count": 504,
   "metadata": {
    "execution": {
     "iopub.execute_input": "2021-04-08T18:24:39.536723Z",
     "iopub.status.busy": "2021-04-08T18:24:39.535617Z",
     "iopub.status.idle": "2021-04-08T18:24:39.549786Z",
     "shell.execute_reply": "2021-04-08T18:24:39.546521Z",
     "shell.execute_reply.started": "2021-04-08T18:24:39.536636Z"
    }
   },
   "outputs": [],
   "source": [
    "ants0 = numpy.nonzero(numpy.all(cal_obj.temp_gains ==0, axis=(1,2)))[0]"
   ]
  },
  {
   "cell_type": "code",
   "execution_count": 505,
   "metadata": {
    "execution": {
     "iopub.execute_input": "2021-04-08T18:24:39.554992Z",
     "iopub.status.busy": "2021-04-08T18:24:39.553770Z",
     "iopub.status.idle": "2021-04-08T18:24:39.572010Z",
     "shell.execute_reply": "2021-04-08T18:24:39.568666Z",
     "shell.execute_reply.started": "2021-04-08T18:24:39.554878Z"
    }
   },
   "outputs": [
    {
     "data": {
      "text/plain": [
       "set()"
      ]
     },
     "execution_count": 505,
     "metadata": {},
     "output_type": "execute_result"
    }
   ],
   "source": [
    "set(ants0) - set(bad_ants)"
   ]
  },
  {
   "cell_type": "code",
   "execution_count": null,
   "metadata": {},
   "outputs": [],
   "source": []
  },
  {
   "cell_type": "code",
   "execution_count": null,
   "metadata": {},
   "outputs": [],
   "source": []
  }
 ],
 "metadata": {
  "kernelspec": {
   "display_name": "epic_py38",
   "language": "python",
   "name": "epic_py38"
  },
  "language_info": {
   "codemirror_mode": {
    "name": "ipython",
    "version": 3
   },
   "file_extension": ".py",
   "mimetype": "text/x-python",
   "name": "python",
   "nbconvert_exporter": "python",
   "pygments_lexer": "ipython3",
   "version": "3.8.8"
  }
 },
 "nbformat": 4,
 "nbformat_minor": 4
}
