{
 "cells": [
  {
   "cell_type": "code",
   "execution_count": 1,
   "metadata": {
    "execution": {
     "iopub.execute_input": "2021-03-30T16:47:21.263978Z",
     "iopub.status.busy": "2021-03-30T16:47:21.263360Z",
     "iopub.status.idle": "2021-03-30T16:47:21.797195Z",
     "shell.execute_reply": "2021-03-30T16:47:21.795670Z",
     "shell.execute_reply.started": "2021-03-30T16:47:21.263838Z"
    }
   },
   "outputs": [],
   "source": [
    "%matplotlib inline"
   ]
  },
  {
   "cell_type": "code",
   "execution_count": 182,
   "metadata": {
    "execution": {
     "iopub.execute_input": "2021-03-30T17:07:42.280294Z",
     "iopub.status.busy": "2021-03-30T17:07:42.279753Z",
     "iopub.status.idle": "2021-03-30T17:07:42.291705Z",
     "shell.execute_reply": "2021-03-30T17:07:42.290166Z",
     "shell.execute_reply.started": "2021-03-30T17:07:42.280241Z"
    }
   },
   "outputs": [],
   "source": [
    "import numpy\n",
    "import warnings\n",
    "import ctypes\n",
    "import scipy.constants as FCNST\n",
    "from matplotlib import pyplot as plt\n",
    "from matplotlib.colors import LogNorm, Normalize, SymLogNorm\n",
    "\n",
    "import healpy as hp\n",
    "\n",
    "import bifrost\n",
    "from bifrost.fft import Fft\n",
    "from bifrost.ring import Ring\n",
    "from bifrost.romein import Romein\n",
    "from bifrost.unpack import unpack as Unpack\n",
    "\n",
    "from bifrost.ndarray import memset_array, copy_array\n",
    "from bifrost.device import set_device as BFSetGPU, get_device as BFGetGPU, set_devices_no_spin_cpu as BFNoSpinZone\n",
    "\n",
    "from lsl.common.stations import lwasv\n",
    "\n",
    "from astropy import units\n",
    "from astropy.time import Time\n",
    "import astropy_healpix as ahp\n",
    "from astropy_healpix import HEALPix\n",
    "from astropy.constants import c as speed_of_light\n",
    "from astropy.coordinates import EarthLocation, TETE, SkyCoord, AltAz, Galactic\n",
    "\n",
    "from pygdsm import GlobalSkyModel"
   ]
  },
  {
   "cell_type": "code",
   "execution_count": 202,
   "metadata": {
    "execution": {
     "iopub.execute_input": "2021-03-30T17:18:54.521865Z",
     "iopub.status.busy": "2021-03-30T17:18:54.521470Z",
     "iopub.status.idle": "2021-03-30T17:18:54.532918Z",
     "shell.execute_reply": "2021-03-30T17:18:54.531560Z",
     "shell.execute_reply.started": "2021-03-30T17:18:54.521827Z"
    }
   },
   "outputs": [],
   "source": [
    "def GenerateLocations(\n",
    "    lsl_locs, frequencies, ntime, nchan, npol, grid_size=64, grid_resolution=20 / 60.\n",
    "):\n",
    "    delta = (2 * grid_size * numpy.sin(numpy.pi * grid_resolution / 360)) ** -1\n",
    "    chan_wavelengths = speed_of_light.value / frequencies\n",
    "    sample_grid = chan_wavelengths * delta\n",
    "    sll = sample_grid[0] / chan_wavelengths[0]\n",
    "    lsl_locs = lsl_locs.T\n",
    "    lsl_locsf = lsl_locs[:, numpy.newaxis, numpy.newaxis, :] / sample_grid[numpy.newaxis, numpy.newaxis, :, numpy.newaxis]\n",
    "    lsl_locsf -= numpy.min(lsl_locsf, axis=3, keepdims=True)\n",
    "\n",
    "    # Centre locations slightly\n",
    "    lsl_locsf += (grid_size - numpy.max(lsl_locsf, axis=3, keepdims=True)) / 2.\n",
    "\n",
    "    # add ntime axis\n",
    "    locc = numpy.broadcast_to(lsl_locsf, (ntime_gulp, 3, npol, nchan, lsl_locs.shape[1],)).transpose(1, 0, 3, 4, 2)\n",
    "    return delta, locc, sll\n",
    "#     np = numpy\n",
    "#     delta = (2 * grid_size * np.sin(np.pi * grid_resolution / 360)) ** -1\n",
    "#     chan_wavelengths = speed_of_light.value / frequencies\n",
    "#     sample_grid = chan_wavelengths * delta\n",
    "#     sll = sample_grid[0] / chan_wavelengths[0]\n",
    "#     lsl_locs = lsl_locs.T\n",
    "#     lsl_locs = lsl_locs.copy()\n",
    "\n",
    "#     lsl_locsf = np.zeros(shape=(3, npol, nchan, lsl_locs.shape[1]))\n",
    "#     for l in np.arange(3):\n",
    "#         for i in np.arange(nchan):\n",
    "#             lsl_locsf[l, :, i, :] = lsl_locs[l, :] / sample_grid[i]\n",
    "\n",
    "#             # I'm sure there's a more numpy way of doing this.\n",
    "#             for p in np.arange(npol):\n",
    "#                 lsl_locsf[l, p, i, :] -= np.min(lsl_locsf[l, p, i, :])\n",
    "\n",
    "#     # Centre locations slightly\n",
    "#     for l in np.arange(3):\n",
    "#         for i in np.arange(nchan):\n",
    "#             for p in np.arange(npol):\n",
    "#                 lsl_locsf[l, p, i, :] += (\n",
    "#                     grid_size - np.max(lsl_locsf[l, p, i, :])\n",
    "#                 ) / 2\n",
    "\n",
    "#     # Tile them for ntime...\n",
    "#     locx = np.tile(lsl_locsf[0, ...], (ntime, 1, 1, 1))\n",
    "#     locy = np.tile(lsl_locsf[1, ...], (ntime, 1, 1, 1))\n",
    "#     locz = np.tile(lsl_locsf[2, ...], (ntime, 1, 1, 1))\n",
    "#     # .. and then stick them all into one large array\n",
    "#     locc = np.concatenate([[locx, ], [locy, ], [locz, ]]).transpose(0, 1, 3, 4, 2).copy()\n",
    "\n",
    "#     return delta, locc, sll\n"
   ]
  },
  {
   "cell_type": "code",
   "execution_count": 4,
   "metadata": {
    "execution": {
     "iopub.execute_input": "2021-03-30T16:47:23.809112Z",
     "iopub.status.busy": "2021-03-30T16:47:23.808864Z",
     "iopub.status.idle": "2021-03-30T16:47:23.817856Z",
     "shell.execute_reply": "2021-03-30T16:47:23.817024Z",
     "shell.execute_reply.started": "2021-03-30T16:47:23.809087Z"
    }
   },
   "outputs": [],
   "source": [
    "def make_lm_matrix(skymodes1d):\n",
    "    lm_step = 2.0 / skymodes1d \n",
    "    i, j = numpy.meshgrid(numpy.arange(skymodes1d), numpy.arange(skymodes1d))\n",
    "    lm_matrix = numpy.asarray([i * lm_step - 1.0, j * lm_step - 1.0, numpy.zeros_like(j)])\n",
    "    lm_matrix = numpy.fft.fftshift(lm_matrix, axes=(1, 2))\n",
    "    lm_vector = lm_matrix.transpose([1, 2, 0 ])\n",
    "    lm_vector[..., 2] = numpy.sqrt(1 - lm_vector[..., 0] ** 2 - lm_vector[..., 1] ** 2)\n",
    "    return lm_vector\n"
   ]
  },
  {
   "cell_type": "code",
   "execution_count": 5,
   "metadata": {
    "execution": {
     "iopub.execute_input": "2021-03-30T16:47:23.819050Z",
     "iopub.status.busy": "2021-03-30T16:47:23.818777Z",
     "iopub.status.idle": "2021-03-30T16:47:23.829040Z",
     "shell.execute_reply": "2021-03-30T16:47:23.828151Z",
     "shell.execute_reply.started": "2021-03-30T16:47:23.819022Z"
    }
   },
   "outputs": [],
   "source": [
    "def get_phases(lwasv, nchan, nstand, npol):\n",
    "    phases = numpy.zeros((nchan, nstand, npol), dtype=numpy.complex64)\n",
    "    for i in range(nstand):\n",
    "        # X\n",
    "        a = lwasv.antennas[2 * i + 0]\n",
    "        delay = a.cable.delay(freq) - a.stand.z / speed_of_light.value\n",
    "        phases[:, i, 0] = numpy.exp(2j * numpy.pi * freq * delay)\n",
    "        phases[:, i, 0] /= numpy.sqrt(a.cable.gain(freq))\n",
    "        if npol == 2:\n",
    "            # Y\n",
    "            a = lwasv.antennas[2 * i + 1]\n",
    "            delay = a.cable.delay(freq) - a.stand.z / speed_of_light.value\n",
    "            phases[:, i, 1] = numpy.exp(2j * numpy.pi * freq * delay)\n",
    "            phases[:, i, 1] /= numpy.sqrt(a.cable.gain(freq))\n",
    "    return phases"
   ]
  },
  {
   "cell_type": "code",
   "execution_count": 98,
   "metadata": {
    "execution": {
     "iopub.execute_input": "2021-03-30T16:51:32.547636Z",
     "iopub.status.busy": "2021-03-30T16:51:32.547001Z",
     "iopub.status.idle": "2021-03-30T16:51:32.588416Z",
     "shell.execute_reply": "2021-03-30T16:51:32.587461Z",
     "shell.execute_reply.started": "2021-03-30T16:51:32.547582Z"
    }
   },
   "outputs": [],
   "source": [
    "# EPICal object\n",
    "class EPICal:\n",
    "    \"\"\"A Calibration Class for EPIC\n",
    "\n",
    "\n",
    "    Parameters\n",
    "    ----------\n",
    "    antenna_locations : array\n",
    "        A numpy array of antenna locations in units of wavelengths.\n",
    "        Expected shape (nstand, nchan, npol, 3).\n",
    "    cal_source_flux : array_like\n",
    "        An array like of the flux in Jy for each source.\n",
    "        Expected shape (n_sources, nchan, npol)\n",
    "    cal_source_locs : array\n",
    "        A nump array of the (l, m, n) or (l,m ) coordinates for each calibration source.\n",
    "        Expected shape (n_sources, 2) or (n_sources, 3)\n",
    "    lm_grid : array\n",
    "        The (l, m) grid points of the image\n",
    "        Expected shape (n_pixel, n_pixels, 2) or (n_pixel, n_pixel, 3)\n",
    "    current_gains : array\n",
    "        An array of current gains applied to the voltage stream.\n",
    "        Expected shape (nstand, nchan, npol). Optional, defaults to ones.\n",
    "    flagged_antennas : array\n",
    "        An array of integers of the antennas indices corresponding to flagged antennas. Optional\n",
    "    n_iter : int\n",
    "        Number of iterations of correlation updates before new gains are solved estimated.\n",
    "    ref_ant : int \n",
    "        The reference antenna for calibration.\n",
    "    damping_factor : float\n",
    "        The damping factor used when updating calibration solutions, must be in the range [0, 1]\n",
    "    phase_fit : bool\n",
    "        When True, only fits the phase of the calibration.\n",
    "    \n",
    "    \"\"\"\n",
    "    def __init__(\n",
    "        self,\n",
    "        antenna_locations,\n",
    "        cal_source_flux,\n",
    "        cal_source_locs,\n",
    "        lm_grid,\n",
    "        current_gains=None,\n",
    "        flagged_antennas=None,\n",
    "        n_iter=10,\n",
    "        ref_ant=0,\n",
    "        damping_factor=0,\n",
    "        phase_fit=False,\n",
    "        auto_noise_model=0.0,\n",
    "        exclude_autos=False,\n",
    "        fix_holographic_phase=True,\n",
    "        flatten_array=False,\n",
    "        conv_thresh=0.000001,\n",
    "        conv_max_try=2000,\n",
    "    ):\n",
    "\n",
    "        self.nstand = antenna_locations.shape[0]\n",
    "        self.nchan = antenna_locations.shape[1]\n",
    "        self.npol = antenna_locations.shape[2]\n",
    "        self.locations = antenna_locations\n",
    "        \n",
    "        self.good_ants = numpy.ones(shape=(nstand), dtype=numpy.bool)\n",
    "        if flagged_antennas is not None:\n",
    "            self.good_ants[flagged_antennas] = False\n",
    "\n",
    "        self.cal_source_flux = cal_source_flux\n",
    "        self.n_cal_sources = self.cal_source_flux.shape[0]\n",
    "        self.linalg = bifrost.linalg.LinAlg()\n",
    "        \n",
    "        if cal_source_locs.shape[-1] == 2:\n",
    "            tmp_locs = numpy.zeros((self.n_cal_sources, 3))\n",
    "            tmp_locs[:, :2] = cal_source_locs\n",
    "            tmp_locs[:, 2] = numpy.sqrt(1 - tmp_locs[:, 0] ** 2 - tmp_locs[:, 1] ** 2)\n",
    "            cal_source_locs = tmp_locs\n",
    "\n",
    "        self.cal_source_locs = cal_source_locs\n",
    "\n",
    "        self.cal_pixel_inds = None\n",
    "        self.cal_pixel_locs = None\n",
    "\n",
    "        if lm_grid.shape[2] == 2:\n",
    "            tmp_lm = numpy.zeros((lm_grid.shape[0], lm_grid.shape[1], 3))\n",
    "            tmp_lm[:, :, :2] = lm_grid\n",
    "            tmp_lm[:, :, 2] = numpy.sqrt(1 - tmp_lm[:, :, 0] ** 2 - tmp_lm[:, :, 1]**2)\n",
    "            lm_grid = tmp_lm\n",
    "        self.lm_grid = lm_grid\n",
    "\n",
    "        if current_gains is None:\n",
    "            current_gains = numpy.ones((self.nstand, self.nchan, self.npol), dtype=numpy.complex64)\n",
    "\n",
    "        self.current_gains = current_gains\n",
    "        self.n_iter = n_iter\n",
    "        self.calibration_loop_count = 0\n",
    "\n",
    "        self.ref_ant = ref_ant\n",
    "        self.damping_factor = damping_factor\n",
    "        self.phase_fit = phase_fit\n",
    "        self.auto_noise_model = auto_noise_model\n",
    "        self.exclude_autos = exclude_autos\n",
    "        self.fix_holographic_phase = fix_holographic_phase\n",
    "        self.flatten_array = flatten_array\n",
    "        self.conv_thresh = conv_thresh\n",
    "        self.conv_max_try = conv_max_try\n",
    "    \n",
    "        self.auto_corr = bifrost.zeros((self.nstand, self.nchan, self.npol), dtype=numpy.complex64, space=\"cuda\")\n",
    "        self.ant_twt = numpy.zeros((self.nstand, self.nchan, self.npol), dtype=numpy.int32)\n",
    "        \n",
    "        self.cal_corr = bifrost.zeros(\n",
    "            (self.nchan, self.npol, self.nstand, self.n_cal_sources),\n",
    "            dtype=numpy.complex64,\n",
    "            space=\"cuda\"\n",
    "        )\n",
    "\n",
    "    def calculate_model_visibilities(self):\n",
    "        self.cal_pixel_inds = numpy.ascontiguousarray(\n",
    "            numpy.atleast_2d(\n",
    "                numpy.asarray(\n",
    "                    numpy.unravel_index(\n",
    "                        numpy.argmin(\n",
    "                            (self.lm_grid[:, :, 0].reshape(-1, 1) - self.cal_source_locs[numpy.newaxis, :, 0]) ** 2\n",
    "                            + (self.lm_grid[:, :, 1].reshape(-1, 1) - self.cal_source_locs[numpy.newaxis, :, 1]) ** 2,\n",
    "                            axis=0,\n",
    "                        ),\n",
    "                        self.lm_grid.shape[:2]\n",
    "                    )\n",
    "                ).T\n",
    "            )\n",
    "        )\n",
    "        self.cal_pixel_inds = bifrost.ndarray(self.cal_pixel_inds).copy()\n",
    "        self.cal_pixel_locs = self.lm_grid[self.cal_pixel_inds[:, 0], self.cal_pixel_inds[:, 1], :]\n",
    "\n",
    "        self.model_vis = numpy.zeros((self.nstand, self.nstand, self.nchan, self.npol), dtype=numpy.complex64)\n",
    "        uvws = self.locations[numpy.newaxis, :, :, :, :] - self.locations[:, numpy.newaxis, :, :, :]\n",
    "        self.model_vis = (\n",
    "            self.cal_source_flux[:, numpy.newaxis, numpy.newaxis, :, :]\n",
    "            * numpy.exp(\n",
    "                -1j * 2 * numpy.pi \n",
    "                * numpy.sum(\n",
    "                    self.cal_source_locs[:, numpy.newaxis, numpy.newaxis, numpy.newaxis, numpy.newaxis, :]\n",
    "                    * uvws[numpy.newaxis, :, : , :, :, :],\n",
    "                    axis=-1,\n",
    "                ),\n",
    "            )\n",
    "        ).astype(numpy.complex64)\n",
    "\n",
    "        if self.exclude_autos:\n",
    "            for ant in range(self.nstand):\n",
    "                self.model_vis[:, ant, ant, :, :] = 0.0\n",
    "\n",
    "        # Add phase to flatten array\n",
    "        if self.flatten_array:\n",
    "            # TODO: check conjugation\n",
    "            self.model_vis *= numpy.exp(\n",
    "                1j * 2 * numpy.pi * uvws[numpy.newaxis, ..., 2]\n",
    "            )\n",
    "        return\n",
    "\n",
    "    def calculate_correlation(self, voltage_stream, calibration_pixel_values):\n",
    "        \"\"\"\n",
    "        \n",
    "        Parameters\n",
    "        -----------\n",
    "        voltage_stream : array\n",
    "            Array of the antenna voltage stream. Has shape (nchan, npol, nstand, ntimes)\n",
    "            \n",
    "        calibration_pixel_values : array\n",
    "            Array of the e-field image values has shape (n_cal_sources, nchan, npol, ntimes)\n",
    "        \"\"\"\n",
    "        ntimes = voltage_stream.shape[-1]\n",
    "        \n",
    "        self.linalg.matmul(1.0, voltage_stream, calibration_pixel_values.transpose([1,2,3,0]).conj(), 1, self.cal_corr)\n",
    "        \n",
    "        self.ant_twt[self.good_ants] += ntimes\n",
    "        \n",
    "        if self.exclude_autos:\n",
    "            bifrost.map(\n",
    "                \"for(auto l=0; l<{ntimes}; l++) {{a(k,i,j) += b(i,j,k,l) * b(i,j,k,l).conj();}}\".format(ntimes=ntimes),\n",
    "                data={\"a\": self.auto_corr, \"b\": voltage_stream,},\n",
    "                axis_names=(\"i\",\"j\", \"k\"),\n",
    "                shape=(self.nchan, self.npol, self.nstand),\n",
    "            )\n",
    "\n",
    "        self.calibration_loop_count += 1\n",
    "        \n",
    "    \n",
    "    def copy_calibration_pixels(self, efield_cal_image):\n",
    "        \n",
    "        ntimes = efield_cal_image.shape[1]\n",
    "        \n",
    "        calibration_pixel_values =  bifrost.zeros(\n",
    "            shape=(self.n_cal_sources, self.nchan, self.npol, ntimes),\n",
    "            dtype=numpy.complex64,\n",
    "            space=\"cuda\",\n",
    "        )\n",
    "\n",
    "        bifrost.map(\n",
    "            \"a(i,j,k,l) = b(0,l,j,k,c(i,0),c(i,1))\",\n",
    "            data={\"a\": calibration_pixel_values, \"b\": efield_cal_image, \"c\": self.cal_pixel_inds.copy(space=\"cuda\")},\n",
    "            axis_names=(\"i\", \"j\", \"k\", \"l\"),\n",
    "            shape=(self.n_cal_sources, self.nchan, self.npol, ntimes),\n",
    "        )\n",
    "        \n",
    "        return calibration_pixel_values\n",
    "\n",
    "    def estimate_gains(self, input_voltage_stream, efield_image):\n",
    "        \"\"\"\n",
    "        \n",
    "        Parameters\n",
    "        -----------\n",
    "        voltage_stream : bifrost.ndarray\n",
    "            Array of the antenna voltage stream has dtype ci4. Has shape (ntimes, nchan, nstand, npol)\n",
    "            \n",
    "        efield_image : bifrost\n",
    "            Array of the e-field image has shape (ntime, nchan, npol, npixels, npixels)\n",
    "        \"\"\"\n",
    "        \n",
    "        if self.cal_pixel_inds is None:\n",
    "            self.calculate_model_visibilities()\n",
    "            \n",
    "        calibration_pixel_values = self.copy_calibration_pixels(efield_image)\n",
    "        \n",
    "        input_voltage_stream = input_voltage_stream.transpose([1,3,2,0]).copy()\n",
    "        input_voltage_stream = input_voltage_stream.copy(space=\"cuda\")\n",
    "        \n",
    "        g_voltage_stream = bifrost.ndarray(shape=input_voltage_stream.shape, dtype=numpy.complex64, space=\"cuda\")\n",
    "        Unpack(input_voltage_stream, g_voltage_stream)\n",
    "        \n",
    "        self.calculate_correlation(g_voltage_stream, calibration_pixel_values)\n",
    "        \n",
    "        if self.calibration_loop_count == self.n_iter:\n",
    "            \n",
    "            tries = 0\n",
    "            convergence_delta = 100.0\n",
    "            temp_gains = numpy.broadcast_to(self.current_gains, (self.n_cal_sources, self.nstand, self.nchan, self.npol))\n",
    "            \n",
    "            self.cal_corr = self.cal_corr.copy(space=\"system\").transpose([3, 2, 0, 1]).copy()\n",
    "            self.auto_corr = self.auto_corr.copy(space=\"system\")\n",
    "            \n",
    "            if self.fix_holographic_phase:\n",
    "                # The holographic images have a silly phase running through them due to not centering when padding. Take it out.\n",
    "                dl = self.lm_grid[0, 1, 0] - self.lm_grid[0, 0, 0]\n",
    "                dm = self.lm_grid[1, 0, 1] - self.lm_grid[0, 0, 1]\n",
    "\n",
    "                phase_fix = numpy.exp(-1j * numpy.pi * (self.cal_pixel_locs[:,0] / dl + self.cal_pixel_locs[:,1] / dm) / 2)\n",
    "                self.cal_corr = self.cal_corr * phase_fix[:, numpy.newaxis, numpy.newaxis, numpy.newaxis]   \n",
    "            \n",
    "            self.cal_corr = self.cal_corr / self.ant_twt[numpy.newaxis] # make it an average\n",
    "            \n",
    "            # applying multiplicative gains, these get conjugated when applied\n",
    "            applied_cal = numpy.conj(self.current_gains)\n",
    "            \n",
    "            if self.exclude_autos:\n",
    "                self.auto_corr = self.auto_corr / self.ant_twt\n",
    "                \n",
    "                print(\"autos are one\", numpy.allclose(self.auto_corr, 1))\n",
    "                \n",
    "                self.cal_corr -= numpy.exp(\n",
    "                    1j * 2 * numpy.pi\n",
    "                    * numpy.sum(\n",
    "                        self.locations[numpy.newaxis, :, :, :, :2] * self.cal_pixel_locs[:, numpy.newaxis, numpy.newaxis, numpy.newaxis, :2],\n",
    "                        axis=3,\n",
    "                    )\n",
    "                ) * self.auto_corr[numpy.newaxis] * numpy.conj(applied_cal) / self.nstand\n",
    "            \n",
    "            print(\"correlations same for each ant\", numpy.allclose(self.cal_corr, self.cal_corr[:,0][:,numpy.newaxis, :, :]))\n",
    "            \n",
    "            while (tries < self.conv_max_try) and (convergence_delta > self.conv_thresh):\n",
    "                \n",
    "                prev_gains = temp_gains.copy()\n",
    "\n",
    "                temp_gains = (\n",
    "                    self.cal_corr * (self.ant_twt.sum(axis=0, keepdims=True) - self.ant_twt)[numpy.newaxis] # broadcast over the nsources dimension\n",
    "                    * self.nstand \n",
    "                    / numpy.sum(\n",
    "                        (self.nstand - 1) * self.ant_twt[numpy.newaxis, numpy.newaxis]\n",
    "                        * numpy.exp(\n",
    "                            1j * 2 * numpy.pi\n",
    "                            * numpy.sum(\n",
    "                                # broadcast the antenna positions and cal_pix_locs up to (n_cal_sources, nstand, nstand, nchan, npol, 2) to match model visibilites\n",
    "                                self.locations[numpy.newaxis, numpy.newaxis, :, :, :, 0:2] \n",
    "                                * self.cal_pixel_locs[:, numpy.newaxis, numpy.newaxis, numpy.newaxis, numpy.newaxis, 0:2],\n",
    "                                axis=5,\n",
    "                            )\n",
    "                        ) * self.model_vis * numpy.conj(applied_cal * prev_gains)[:, numpy.newaxis],\n",
    "                        axis=2,\n",
    "                    )\n",
    "                )\n",
    "\n",
    "                phasor = temp_gains[:, self.ref_ant] / numpy.abs(temp_gains[:, self.ref_ant])\n",
    "                temp_gains *= numpy.conj(phasor)[:, numpy.newaxis]\n",
    "                \n",
    "                temp_gains = prev_gains * self.damping_factor + temp_gains * (1 - self.damping_factor)\n",
    "#                 print(\"nans: \", numpy.isnan(numpy.abs(temp_gains - prev_gains) / numpy.abs(prev_gains)).sum())\n",
    "                   \n",
    "                with warnings.catch_warnings():\n",
    "                    warnings.simplefilter(\"ignore\")\n",
    "                    convergence_delta = numpy.nanmax(numpy.abs(temp_gains - prev_gains) / numpy.abs(prev_gains))\n",
    "                tries += 1\n",
    "#                 print(convergence_delta)\n",
    "            if tries == self.conv_max_try:\n",
    "                print(\"Maximum tries exceeded before convergence achieved.\")\n",
    "            else:\n",
    "                print(f\"Converged in {tries} iterations. Final change: {convergence_delta}\")\n",
    "            \n",
    "            temp_gains = numpy.average(temp_gains, weights=numpy.ones_like(temp_gains), axis=0)\n",
    "            \n",
    "            if self.phase_fit:\n",
    "                # Only fit phase\n",
    "                temp_gains = temp_gains / NP.abs(self.current_gains)\n",
    "            \n",
    "            self.current_gains = numpy.where(\n",
    "                numpy.isfinite(temp_gains),\n",
    "                self.current_gains * self.damping_factor + temp_gains * (1 - self.damping_factor),\n",
    "                self.current_gains,\n",
    "            )\n",
    "            if self.phase_fit:\n",
    "                self.current_gains = self.current_gains / numpy.abs(self.current_gains)\n",
    "            \n",
    "            # reset the necessary paramters to start a new calibration loop\n",
    "#             self.calibration_loop_count = 0\n",
    "#             self.auto_corr = bifrost.zeros((self.nstand, self.nchan, self.npol), dtype=numpy.complex64, space=\"cuda\")\n",
    "#             self.ant_twt = numpy.zeros((self.nstand, self.nchan, self.npol), dtype=numpy.int32)\n",
    "\n",
    "#             self.cal_corr = bifrost.zeros(\n",
    "#                 (self.nchan, self.npol, self.nstand, self.n_cal_sources),\n",
    "#                 dtype=numpy.complex64,\n",
    "#                 space=\"cuda\"\n",
    "#             )\n",
    "        \n",
    "    def get_gains(self):\n",
    "        return numpy.conj(self.current_gains).astype(numpy.complex64)"
   ]
  },
  {
   "cell_type": "code",
   "execution_count": 7,
   "metadata": {
    "execution": {
     "iopub.execute_input": "2021-03-30T16:47:24.673651Z",
     "iopub.status.busy": "2021-03-30T16:47:24.673080Z",
     "iopub.status.idle": "2021-03-30T16:47:24.678824Z",
     "shell.execute_reply": "2021-03-30T16:47:24.677457Z",
     "shell.execute_reply.started": "2021-03-30T16:47:24.673597Z"
    }
   },
   "outputs": [],
   "source": [
    "BFSetGPU(0)\n",
    "# cal_ring = Ring(name=\"cal_ring\", space=\"cuda\")"
   ]
  },
  {
   "cell_type": "code",
   "execution_count": 8,
   "metadata": {
    "execution": {
     "iopub.execute_input": "2021-03-30T16:47:24.960055Z",
     "iopub.status.busy": "2021-03-30T16:47:24.959566Z",
     "iopub.status.idle": "2021-03-30T16:47:24.964591Z",
     "shell.execute_reply": "2021-03-30T16:47:24.963368Z",
     "shell.execute_reply.started": "2021-03-30T16:47:24.960007Z"
    }
   },
   "outputs": [],
   "source": [
    "voltage_file = \"/data4/mkolopanis/src/LWA_EPIC/epic_data_voltages.npz\"\n",
    "efield_image = \"/data4/mkolopanis/src/LWA_EPIC/epic_efield_image.npz\""
   ]
  },
  {
   "cell_type": "code",
   "execution_count": 9,
   "metadata": {
    "execution": {
     "iopub.execute_input": "2021-03-30T16:47:25.209228Z",
     "iopub.status.busy": "2021-03-30T16:47:25.208740Z",
     "iopub.status.idle": "2021-03-30T16:47:25.217574Z",
     "shell.execute_reply": "2021-03-30T16:47:25.216349Z",
     "shell.execute_reply.started": "2021-03-30T16:47:25.209179Z"
    }
   },
   "outputs": [],
   "source": [
    "voltages = numpy.load(voltage_file, allow_pickle=True)"
   ]
  },
  {
   "cell_type": "code",
   "execution_count": 10,
   "metadata": {
    "execution": {
     "iopub.execute_input": "2021-03-30T16:47:25.423413Z",
     "iopub.status.busy": "2021-03-30T16:47:25.422912Z",
     "iopub.status.idle": "2021-03-30T16:47:25.429588Z",
     "shell.execute_reply": "2021-03-30T16:47:25.428201Z",
     "shell.execute_reply.started": "2021-03-30T16:47:25.423363Z"
    }
   },
   "outputs": [],
   "source": [
    "image = numpy.load(efield_image, allow_pickle=True)"
   ]
  },
  {
   "cell_type": "code",
   "execution_count": 11,
   "metadata": {
    "execution": {
     "iopub.execute_input": "2021-03-30T16:47:25.796330Z",
     "iopub.status.busy": "2021-03-30T16:47:25.795843Z",
     "iopub.status.idle": "2021-03-30T16:47:25.803358Z",
     "shell.execute_reply": "2021-03-30T16:47:25.802203Z",
     "shell.execute_reply.started": "2021-03-30T16:47:25.796280Z"
    }
   },
   "outputs": [],
   "source": [
    "voltage_hdr = voltages[\"hdr\"].item()\n",
    "img_hdr = image[\"hdr\"].item()"
   ]
  },
  {
   "cell_type": "code",
   "execution_count": 12,
   "metadata": {
    "execution": {
     "iopub.execute_input": "2021-03-30T16:47:26.204269Z",
     "iopub.status.busy": "2021-03-30T16:47:26.203783Z",
     "iopub.status.idle": "2021-03-30T16:47:26.222014Z",
     "shell.execute_reply": "2021-03-30T16:47:26.220539Z",
     "shell.execute_reply.started": "2021-03-30T16:47:26.204219Z"
    }
   },
   "outputs": [
    {
     "data": {
      "text/plain": [
       "(array({'time_tag': 297616560436264860, 'seq0': 0, 'chan0': 1022, 'nchan': 4, 'cfreq': 25609999.98729676, 'bw': 100000.0, 'nstand': 256, 'npol': 2, 'nbit': 4, 'complex': True, 'axes': 'time,chan,stand,pol'},\n",
       "       dtype=object),\n",
       " (512, 4, 256, 2))"
      ]
     },
     "execution_count": 12,
     "metadata": {},
     "output_type": "execute_result"
    }
   ],
   "source": [
    "voltages[\"hdr\"], voltages[\"data\"].shape"
   ]
  },
  {
   "cell_type": "code",
   "execution_count": 13,
   "metadata": {
    "execution": {
     "iopub.execute_input": "2021-03-30T16:47:26.885804Z",
     "iopub.status.busy": "2021-03-30T16:47:26.885300Z",
     "iopub.status.idle": "2021-03-30T16:47:27.088583Z",
     "shell.execute_reply": "2021-03-30T16:47:27.087359Z",
     "shell.execute_reply.started": "2021-03-30T16:47:26.885754Z"
    }
   },
   "outputs": [
    {
     "data": {
      "text/plain": [
       "(array({'time_tag': 297616560436264860, 'seq0': 0, 'chan0': 1022, 'nchan': 4, 'cfreq': 25609999.98729676, 'bw': 100000.0, 'nstand': 256, 'npol': 4, 'nbit': 64, 'complex': True, 'axes': 'time,chan,pol,gridy,gridx', 'grid_size_x': 64, 'grid_size_y': 64, 'sampling_length_x': 0.49999887562843115, 'sampling_length_y': 0.49999887562843115, 'accumulation_time': 61.44, 'FS': 196000000.0, 'latitude': 34.348358, 'longitude': -106.885783, 'telescope': 'LWA-SV', 'data_units': 'UNCALIB', 'pols': ['xx', 'xy', 'yx', 'yy']},\n",
       "       dtype=object),\n",
       " (1, 512, 4, 2, 64, 64))"
      ]
     },
     "execution_count": 13,
     "metadata": {},
     "output_type": "execute_result"
    }
   ],
   "source": [
    "image[\"hdr\"], image[\"data\"].shape"
   ]
  },
  {
   "cell_type": "code",
   "execution_count": 203,
   "metadata": {
    "execution": {
     "iopub.execute_input": "2021-03-30T17:19:08.611897Z",
     "iopub.status.busy": "2021-03-30T17:19:08.611487Z",
     "iopub.status.idle": "2021-03-30T17:19:08.824331Z",
     "shell.execute_reply": "2021-03-30T17:19:08.823213Z",
     "shell.execute_reply.started": "2021-03-30T17:19:08.611853Z"
    }
   },
   "outputs": [],
   "source": [
    "lwasv_antennas = lwasv.antennas\n",
    "obstime = Time(img_hdr[\"time_tag\"] / img_hdr[\"FS\"], format=\"unix\")\n",
    "lon = img_hdr[\"longitude\"] * units.deg\n",
    "lat = img_hdr[\"latitude\"] * units.deg\n",
    "grid_size = img_hdr[\"grid_size_x\"]\n",
    "ntime_gulp = image[\"data\"].shape[1]\n",
    "chan_bw = img_hdr[\"bw\"]\n",
    "chan0 = img_hdr[\"chan0\"]\n",
    "cfreq = img_hdr[\"cfreq\"]\n",
    "nchan = img_hdr[\"nchan\"]\n",
    "npol = voltage_hdr[\"npol\"]\n",
    "npol_image = img_hdr[\"npol\"]\n",
    "skymodes1d = img_hdr[\"grid_size_x\"]\n",
    "imageres = 1.79057\n",
    "ant_extent = 1\n",
    "freq = (cfreq + numpy.arange(nchan) * chan_bw)\n",
    "\n",
    "point_source=False\n",
    "ones_test=True"
   ]
  },
  {
   "cell_type": "code",
   "execution_count": 204,
   "metadata": {
    "execution": {
     "iopub.execute_input": "2021-03-30T17:19:09.937309Z",
     "iopub.status.busy": "2021-03-30T17:19:09.936768Z",
     "iopub.status.idle": "2021-03-30T17:19:09.948352Z",
     "shell.execute_reply": "2021-03-30T17:19:09.947183Z",
     "shell.execute_reply.started": "2021-03-30T17:19:09.937257Z"
    }
   },
   "outputs": [],
   "source": [
    "locations = numpy.array([(ant.stand.x, ant.stand.y, ant.stand.z) for ant in lwasv.antennas[::2]])\n",
    "locations[255, :] = 0.0\n",
    "nstand = locations.shape[0]\n",
    "delta, locs, sll = GenerateLocations(locations, freq, ntime_gulp, nchan, npol, grid_size=grid_size, grid_resolution=imageres)"
   ]
  },
  {
   "cell_type": "code",
   "execution_count": 205,
   "metadata": {
    "execution": {
     "iopub.execute_input": "2021-03-30T17:19:10.720391Z",
     "iopub.status.busy": "2021-03-30T17:19:10.719991Z",
     "iopub.status.idle": "2021-03-30T17:19:10.759051Z",
     "shell.execute_reply": "2021-03-30T17:19:10.758049Z",
     "shell.execute_reply.started": "2021-03-30T17:19:10.720350Z"
    }
   },
   "outputs": [
    {
     "data": {
      "text/plain": [
       "(31.986958669453898, 3.537899242503583)"
      ]
     },
     "execution_count": 205,
     "metadata": {},
     "output_type": "execute_result"
    }
   ],
   "source": [
    "locs.mean(), locs.std()"
   ]
  },
  {
   "cell_type": "code",
   "execution_count": 206,
   "metadata": {
    "execution": {
     "iopub.execute_input": "2021-03-30T17:19:11.752493Z",
     "iopub.status.busy": "2021-03-30T17:19:11.751961Z",
     "iopub.status.idle": "2021-03-30T17:19:11.815364Z",
     "shell.execute_reply": "2021-03-30T17:19:11.814389Z",
     "shell.execute_reply.started": "2021-03-30T17:19:11.752438Z"
    }
   },
   "outputs": [
    {
     "name": "stderr",
     "output_type": "stream",
     "text": [
      "<ipython-input-4-21b95f273059>:7: RuntimeWarning: invalid value encountered in sqrt\n",
      "  lm_vector[..., 2] = numpy.sqrt(1 - lm_vector[..., 0] ** 2 - lm_vector[..., 1] ** 2)\n"
     ]
    }
   ],
   "source": [
    "gpu_locs = bifrost.ndarray(locs.astype(numpy.int32).copy(), space=\"cuda\")\n",
    "\n",
    "phases = get_phases(lwasv, nchan, nstand, npol).conj()\n",
    "lm_matrix = make_lm_matrix(skymodes1d)"
   ]
  },
  {
   "cell_type": "code",
   "execution_count": 207,
   "metadata": {
    "execution": {
     "iopub.execute_input": "2021-03-30T17:19:12.049216Z",
     "iopub.status.busy": "2021-03-30T17:19:12.048939Z",
     "iopub.status.idle": "2021-03-30T17:19:12.054128Z",
     "shell.execute_reply": "2021-03-30T17:19:12.053151Z",
     "shell.execute_reply.started": "2021-03-30T17:19:12.049190Z"
    }
   },
   "outputs": [],
   "source": [
    "site_loc = EarthLocation.from_geodetic(\n",
    "    lwasv.lon * (180.0 / numpy.pi),\n",
    "    lwasv.lat * (180.0 / numpy.pi),\n",
    "    height=1511 * units.m,\n",
    ")"
   ]
  },
  {
   "cell_type": "code",
   "execution_count": 208,
   "metadata": {
    "execution": {
     "iopub.execute_input": "2021-03-30T17:19:12.281640Z",
     "iopub.status.busy": "2021-03-30T17:19:12.281247Z",
     "iopub.status.idle": "2021-03-30T17:19:12.289642Z",
     "shell.execute_reply": "2021-03-30T17:19:12.288459Z",
     "shell.execute_reply.started": "2021-03-30T17:19:12.281599Z"
    }
   },
   "outputs": [
    {
     "data": {
      "text/plain": [
       "array([378386.40795936, 375448.63639848, 372544.94554333, 369674.81027073])"
      ]
     },
     "execution_count": 208,
     "metadata": {},
     "output_type": "execute_result"
    }
   ],
   "source": [
    " numpy.asarray(2 * FCNST.Boltzmann * (FCNST.speed_of_light / freq)**2 * 10**26, dtype=numpy.float64)"
   ]
  },
  {
   "cell_type": "code",
   "execution_count": 209,
   "metadata": {
    "execution": {
     "iopub.execute_input": "2021-03-30T17:19:12.510831Z",
     "iopub.status.busy": "2021-03-30T17:19:12.510386Z",
     "iopub.status.idle": "2021-03-30T17:19:13.783789Z",
     "shell.execute_reply": "2021-03-30T17:19:13.782598Z",
     "shell.execute_reply.started": "2021-03-30T17:19:12.510784Z"
    }
   },
   "outputs": [],
   "source": [
    "if point_source:\n",
    "    radec = numpy.array([[5.233686583, 0.71094094367], [6.12377129663, 1.02645722192]])\n",
    "    fluxes = src_flux = numpy.array([20539.0, 19328.0])\n",
    "    fluxes[1] *= 0.57 # a fudging factor because it is down in the beam\n",
    "    # radec = radec[1]\n",
    "    # fluxes = fluxes[1]\n",
    "    fluxes = numpy.atleast_1d(fluxes)\n",
    "    radec = numpy.atleast_2d(radec)\n",
    "    sou_info = SkyCoord(\n",
    "        ra=radec[:, 0] * units.rad, dec=radec[:, 1] * units.rad, frame=\"icrs\",\n",
    "    )\n",
    "else:\n",
    "  \n",
    "    gsm2008 = GlobalSkyModel(freq_unit=\"Hz\")\n",
    "    fluxes = gsm2008.generate(freq)\n",
    "    fluxes = hp.pixelfunc.ud_grade(fluxes, 16)\n",
    "    gsm2008_coords = HEALPix(ahp.npix_to_nside(fluxes.shape[1]), frame=Galactic())\n",
    "    sou_info = gsm2008_coords.healpix_to_skycoord(numpy.arange(gsm2008_coords.npix))\n",
    "    sou_info = sou_info.transform_to(\"icrs\")\n",
    "    \n",
    "    fluxes *= numpy.asarray(2 * FCNST.Boltzmann * (FCNST.speed_of_light / freq)**2 * 10**26, dtype=numpy.float64)[:, numpy.newaxis] # Jy/str\n",
    "\n",
    "\n",
    "app_coord_data = sou_info.transform_to(\n",
    "    TETE(location=site_loc, obstime=obstime)\n",
    ")"
   ]
  },
  {
   "cell_type": "code",
   "execution_count": 210,
   "metadata": {
    "execution": {
     "iopub.execute_input": "2021-03-30T17:19:13.785536Z",
     "iopub.status.busy": "2021-03-30T17:19:13.785306Z",
     "iopub.status.idle": "2021-03-30T17:19:13.917147Z",
     "shell.execute_reply": "2021-03-30T17:19:13.916215Z",
     "shell.execute_reply.started": "2021-03-30T17:19:13.785500Z"
    }
   },
   "outputs": [],
   "source": [
    "lm_coords = numpy.sin(app_coord_data.altaz.zen).reshape(-1, 1)* numpy.asarray([numpy.cos(app_coord_data.altaz.az), numpy.sin(app_coord_data.altaz.az)]).T\n",
    "good_pix = app_coord_data.altaz.zen.deg <= 90   \n",
    "lm_coords = lm_coords[good_pix]\n",
    "\n",
    "if point_source: \n",
    "    cal_source_flux = numpy.broadcast_to(fluxes[:, numpy.newaxis, numpy.newaxis], (fluxes.shape[0], nchan, npol))\n",
    "    \n",
    "elif ones_test:\n",
    "    lm_coords= numpy.atleast_2d([0,0])\n",
    "    cal_source_flux = numpy.asarray([1.])\n",
    "    cal_source_flux = numpy.broadcast_to(cal_source_flux[:, numpy.newaxis, numpy.newaxis], (cal_source_flux.shape[0], nchan, npol))\n",
    "    \n",
    "else:\n",
    "    cal_source_flux = fluxes[..., good_pix].T\n",
    "    inds = numpy.argsort(cal_source_flux, axis=0)[:100]\n",
    "    \n",
    "    cal_source_flux = numpy.take(cal_source_flux, inds)\n",
    "    \n",
    "    cal_source_flux = numpy.broadcast_to(cal_source_flux[:, :, numpy.newaxis], (cal_source_flux.shape[0], nchan, npol))\n",
    "    \n",
    "    lm_coords = lm_coords[inds[:, 0]]\n",
    "    "
   ]
  },
  {
   "cell_type": "code",
   "execution_count": 211,
   "metadata": {
    "execution": {
     "iopub.execute_input": "2021-03-30T17:19:13.918864Z",
     "iopub.status.busy": "2021-03-30T17:19:13.918657Z",
     "iopub.status.idle": "2021-03-30T17:19:13.925226Z",
     "shell.execute_reply": "2021-03-30T17:19:13.924383Z",
     "shell.execute_reply.started": "2021-03-30T17:19:13.918843Z"
    }
   },
   "outputs": [],
   "source": [
    "input_vs = voltages[\"data\"]\n",
    "\n",
    "if ones_test:\n",
    "    input_vs = numpy.ones_like(input_vs)\n",
    "    "
   ]
  },
  {
   "cell_type": "code",
   "execution_count": 212,
   "metadata": {
    "execution": {
     "iopub.execute_input": "2021-03-30T17:19:13.926592Z",
     "iopub.status.busy": "2021-03-30T17:19:13.926348Z",
     "iopub.status.idle": "2021-03-30T17:19:13.941121Z",
     "shell.execute_reply": "2021-03-30T17:19:13.940324Z",
     "shell.execute_reply.started": "2021-03-30T17:19:13.926562Z"
    }
   },
   "outputs": [],
   "source": [
    "voltage_stream_c14 = bifrost.ndarray(input_vs, dtype=\"ci4\", space=\"system\")\n",
    "cal_vs = voltage_stream_c14.copy()\n",
    "gpu_cal_vs = cal_vs.copy(space=\"cuda\")\n",
    "\n",
    "voltage_stream_c14 = voltage_stream_c14.transpose([1,3,2,0])\n",
    "voltage_stream_c14 = voltage_stream_c14.copy()\n",
    "voltage_stream_c14 = voltage_stream_c14.copy(space=\"cuda\")\n",
    "\n",
    "vdata = bifrost.ndarray(shape=voltage_stream_c14.shape, dtype=numpy.complex64, space=\"cuda\")\n",
    "Unpack(voltage_stream_c14, vdata)\n",
    "\n",
    "voltage_stream = vdata.copy(\"system\")\n",
    "\n",
    "# voltage_stream = bifrost.ndarray(numpy.ascontiguousarray(voltage_stream.transpose([1,3,2,0])))\n",
    "# vdata = voltage_stream.copy(space=\"cuda\")\n",
    "# efield_system =  image[\"data\"]\n",
    "# efield_cal_image = bifrost.ndarray(\n",
    "#     image[\"data\"],\n",
    "#     dtype=numpy.complex64,\n",
    "#     space=\"cuda\",\n",
    "# )"
   ]
  },
  {
   "cell_type": "code",
   "execution_count": 213,
   "metadata": {
    "execution": {
     "iopub.execute_input": "2021-03-30T17:19:13.942126Z",
     "iopub.status.busy": "2021-03-30T17:19:13.941921Z",
     "iopub.status.idle": "2021-03-30T17:19:14.063115Z",
     "shell.execute_reply": "2021-03-30T17:19:14.062303Z",
     "shell.execute_reply.started": "2021-03-30T17:19:13.942104Z"
    }
   },
   "outputs": [],
   "source": [
    "efield_cal_image = bifrost.zeros(\n",
    "    shape=(ntime_gulp, nchan, npol, grid_size, grid_size),\n",
    "    dtype=numpy.complex64,\n",
    "    space=\"cuda\",\n",
    ")\n",
    "\n",
    "input_gains =  numpy.broadcast_to(\n",
    "    numpy.ones_like(phases)[numpy.newaxis, :, :, :, numpy.newaxis, numpy.newaxis],\n",
    "    (ntime_gulp, nchan, nstand, npol, ant_extent, ant_extent)\n",
    ")\n",
    "\n",
    "gpu_input_gains = bifrost.ndarray(input_gains).copy()\n",
    "gpu_input_gains = gpu_input_gains.copy(space=\"cuda\")\n",
    "\n",
    "\n",
    "bf_romein_input = Romein()\n",
    "bf_romein_input.init(gpu_locs, gpu_input_gains, grid_size, polmajor=False)\n",
    "bf_romein_input.execute(gpu_cal_vs, efield_cal_image)\n",
    "efield_cal_image = efield_cal_image.reshape(ntime_gulp * nchan * npol, grid_size, grid_size)\n",
    "\n",
    "bf_fft = Fft()\n",
    "bf_fft.init(efield_cal_image, efield_cal_image, axes=(1, 2))\n",
    "bf_fft.execute(efield_cal_image,efield_cal_image, inverse=True)\n",
    "efield_cal_image = efield_cal_image.reshape(\n",
    "    1, ntime_gulp, nchan, npol, grid_size, grid_size\n",
    ")\n",
    "efield_system = efield_cal_image.copy(space=\"system\")"
   ]
  },
  {
   "cell_type": "code",
   "execution_count": 214,
   "metadata": {
    "execution": {
     "iopub.execute_input": "2021-03-30T17:19:14.064435Z",
     "iopub.status.busy": "2021-03-30T17:19:14.064218Z",
     "iopub.status.idle": "2021-03-30T17:19:14.072711Z",
     "shell.execute_reply": "2021-03-30T17:19:14.071788Z",
     "shell.execute_reply.started": "2021-03-30T17:19:14.064413Z"
    }
   },
   "outputs": [],
   "source": [
    "crosspol_pre = bifrost.zeros(\n",
    "    shape=(ntime_gulp, nchan, npol ** 2, grid_size, grid_size),\n",
    "    dtype=numpy.complex64,\n",
    "    space=\"cuda\",\n",
    ")\n",
    "\n",
    "image_pre = bifrost.zeros(\n",
    "    shape=(1, nchan, npol ** 2, grid_size, grid_size),\n",
    "    dtype=numpy.complex64,\n",
    "    space=\"cuda\"\n",
    ")\n",
    "\n",
    "bifrost.map(\n",
    "    \"a(i,j,p,k,l) += b(0,i,j,p/2,k,l)*b(0,i,j,p%2,k,l).conj()\",\n",
    "    {\"a\": crosspol_pre, \"b\": efield_cal_image},\n",
    "    axis_names=(\"i\", \"j\", \"p\", \"k\", \"l\"),\n",
    "    shape=(ntime_gulp, nchan, npol ** 2, grid_size, grid_size),\n",
    ")\n",
    "crosspol_pre = crosspol_pre.reshape(\n",
    "    ntime_gulp, nchan, npol ** 2, grid_size, grid_size\n",
    ")\n",
    "\n",
    "bifrost.reduce(crosspol_pre, image_pre, op=\"sum\")"
   ]
  },
  {
   "cell_type": "code",
   "execution_count": 215,
   "metadata": {
    "execution": {
     "iopub.execute_input": "2021-03-30T17:19:14.073853Z",
     "iopub.status.busy": "2021-03-30T17:19:14.073620Z",
     "iopub.status.idle": "2021-03-30T17:19:14.079652Z",
     "shell.execute_reply": "2021-03-30T17:19:14.079018Z",
     "shell.execute_reply.started": "2021-03-30T17:19:14.073831Z"
    }
   },
   "outputs": [],
   "source": [
    "max_inds = numpy.ascontiguousarray(\n",
    "    numpy.atleast_2d(\n",
    "        numpy.asarray(\n",
    "            numpy.unravel_index(\n",
    "                numpy.argmin(\n",
    "                    (lm_matrix[:, :, 0].reshape(-1, 1) - lm_coords[numpy.newaxis, :, 0]) ** 2\n",
    "                    + (lm_matrix[:, :, 1].reshape(-1, 1) - lm_coords[numpy.newaxis, :, 1]) ** 2,\n",
    "                    axis=0,\n",
    "                ),\n",
    "                lm_matrix.shape[:2]\n",
    "            )\n",
    "        ).T\n",
    "    )\n",
    ")\n",
    "\n",
    "g_inds = bifrost.ndarray(max_inds).copy()\n",
    "g_inds = g_inds.copy(space=\"cuda\")"
   ]
  },
  {
   "cell_type": "code",
   "execution_count": 216,
   "metadata": {
    "execution": {
     "iopub.execute_input": "2021-03-30T17:19:14.081350Z",
     "iopub.status.busy": "2021-03-30T17:19:14.081133Z",
     "iopub.status.idle": "2021-03-30T17:19:14.089237Z",
     "shell.execute_reply": "2021-03-30T17:19:14.088110Z",
     "shell.execute_reply.started": "2021-03-30T17:19:14.081319Z"
    }
   },
   "outputs": [],
   "source": [
    "max_locations_lm = lm_matrix[max_inds[:, 0], max_inds[:,1], :2]\n",
    "\n",
    "cal_pixels = efield_system[0,:, :, :, max_inds[:, 0], max_inds[:,1]].transpose([0,2,3,1])\n",
    "n_cal_sources = max_inds.shape[0]"
   ]
  },
  {
   "cell_type": "code",
   "execution_count": 217,
   "metadata": {
    "execution": {
     "iopub.execute_input": "2021-03-30T17:19:14.090725Z",
     "iopub.status.busy": "2021-03-30T17:19:14.090411Z",
     "iopub.status.idle": "2021-03-30T17:19:14.100439Z",
     "shell.execute_reply": "2021-03-30T17:19:14.099438Z",
     "shell.execute_reply.started": "2021-03-30T17:19:14.090696Z"
    }
   },
   "outputs": [],
   "source": [
    "cal_obj = EPICal(\n",
    "    locs.transpose(3, 2, 4, 0, 1)[...,0],\n",
    "    cal_source_flux=cal_source_flux,\n",
    "    cal_source_locs=lm_coords,\n",
    "    lm_grid=lm_matrix,\n",
    "    n_iter=1,\n",
    "    exclude_autos=True,\n",
    "    ref_ant=0,\n",
    "    damping_factor=0.5,\n",
    "    flatten_array=True,\n",
    "#     current_gains=phases.transpose([1,0,2]),\n",
    ")"
   ]
  },
  {
   "cell_type": "code",
   "execution_count": 218,
   "metadata": {
    "execution": {
     "iopub.execute_input": "2021-03-30T17:19:14.140623Z",
     "iopub.status.busy": "2021-03-30T17:19:14.140378Z",
     "iopub.status.idle": "2021-03-30T17:19:14.300349Z",
     "shell.execute_reply": "2021-03-30T17:19:14.299717Z",
     "shell.execute_reply.started": "2021-03-30T17:19:14.140597Z"
    }
   },
   "outputs": [
    {
     "name": "stdout",
     "output_type": "stream",
     "text": [
      "autos are one True\n",
      "correlations same for each ant True\n",
      "Converged in 8 iterations. Final change: 2.342452121065704e-07\n"
     ]
    }
   ],
   "source": [
    "cal_obj.estimate_gains(cal_vs, efield_cal_image)"
   ]
  },
  {
   "cell_type": "code",
   "execution_count": 219,
   "metadata": {
    "execution": {
     "iopub.execute_input": "2021-03-30T17:19:14.316031Z",
     "iopub.status.busy": "2021-03-30T17:19:14.315815Z",
     "iopub.status.idle": "2021-03-30T17:19:14.322425Z",
     "shell.execute_reply": "2021-03-30T17:19:14.321326Z",
     "shell.execute_reply.started": "2021-03-30T17:19:14.316009Z"
    }
   },
   "outputs": [
    {
     "data": {
      "text/plain": [
       "ndarray([[[[255.99609375+0.j, 255.99609375+0.j],\n",
       "           [255.99609375+0.j, 255.99609375+0.j],\n",
       "           [255.99609375+0.j, 255.99609375+0.j],\n",
       "           [255.99609375+0.j, 255.99609375+0.j]],\n",
       "\n",
       "          [[255.99609375+0.j, 255.99609375+0.j],\n",
       "           [255.99609375+0.j, 255.99609375+0.j],\n",
       "           [255.99609375+0.j, 255.99609375+0.j],\n",
       "           [255.99609375+0.j, 255.99609375+0.j]],\n",
       "\n",
       "          [[255.99609375+0.j, 255.99609375+0.j],\n",
       "           [255.99609375+0.j, 255.99609375+0.j],\n",
       "           [255.99609375+0.j, 255.99609375+0.j],\n",
       "           [255.99609375+0.j, 255.99609375+0.j]],\n",
       "\n",
       "          ...,\n",
       "\n",
       "          [[255.99609375+0.j, 255.99609375+0.j],\n",
       "           [255.99609375+0.j, 255.99609375+0.j],\n",
       "           [255.99609375+0.j, 255.99609375+0.j],\n",
       "           [255.99609375+0.j, 255.99609375+0.j]],\n",
       "\n",
       "          [[255.99609375+0.j, 255.99609375+0.j],\n",
       "           [255.99609375+0.j, 255.99609375+0.j],\n",
       "           [255.99609375+0.j, 255.99609375+0.j],\n",
       "           [255.99609375+0.j, 255.99609375+0.j]],\n",
       "\n",
       "          [[255.99609375+0.j, 255.99609375+0.j],\n",
       "           [255.99609375+0.j, 255.99609375+0.j],\n",
       "           [255.99609375+0.j, 255.99609375+0.j],\n",
       "           [255.99609375+0.j, 255.99609375+0.j]]]])"
      ]
     },
     "execution_count": 219,
     "metadata": {},
     "output_type": "execute_result"
    }
   ],
   "source": [
    "cal_obj.cal_corr"
   ]
  },
  {
   "cell_type": "code",
   "execution_count": 220,
   "metadata": {
    "execution": {
     "iopub.execute_input": "2021-03-30T17:19:14.517217Z",
     "iopub.status.busy": "2021-03-30T17:19:14.516829Z",
     "iopub.status.idle": "2021-03-30T17:19:14.520618Z",
     "shell.execute_reply": "2021-03-30T17:19:14.519787Z",
     "shell.execute_reply.started": "2021-03-30T17:19:14.517179Z"
    }
   },
   "outputs": [],
   "source": [
    "# cal_obj.estimate_gains(cal_vs, efield_cal_image)"
   ]
  },
  {
   "cell_type": "code",
   "execution_count": 221,
   "metadata": {
    "execution": {
     "iopub.execute_input": "2021-03-30T17:19:15.138029Z",
     "iopub.status.busy": "2021-03-30T17:19:15.137652Z",
     "iopub.status.idle": "2021-03-30T17:19:15.148943Z",
     "shell.execute_reply": "2021-03-30T17:19:15.147881Z",
     "shell.execute_reply.started": "2021-03-30T17:19:15.137987Z"
    }
   },
   "outputs": [],
   "source": [
    "gridded_cal_data = bifrost.zeros(\n",
    "    shape=(ntime_gulp, nchan, npol, grid_size, grid_size),\n",
    "    dtype=numpy.complex64,\n",
    "    space=\"cuda\",\n",
    ")"
   ]
  },
  {
   "cell_type": "code",
   "execution_count": 222,
   "metadata": {
    "execution": {
     "iopub.execute_input": "2021-03-30T17:19:15.346999Z",
     "iopub.status.busy": "2021-03-30T17:19:15.346721Z",
     "iopub.status.idle": "2021-03-30T17:19:15.356764Z",
     "shell.execute_reply": "2021-03-30T17:19:15.356193Z",
     "shell.execute_reply.started": "2021-03-30T17:19:15.346973Z"
    }
   },
   "outputs": [],
   "source": [
    "cal_gains =  numpy.broadcast_to(\n",
    "    cal_obj.get_gains().transpose([1,0,2])[numpy.newaxis, :, :, :, numpy.newaxis, numpy.newaxis],\n",
    "    (ntime_gulp, nchan, nstand, npol, ant_extent, ant_extent)\n",
    ")\n",
    "\n",
    "g_cal_gains = bifrost.ndarray(cal_gains).copy()\n",
    "g_cal_gains = g_cal_gains.copy(space=\"cuda\")\n"
   ]
  },
  {
   "cell_type": "code",
   "execution_count": 223,
   "metadata": {
    "execution": {
     "iopub.execute_input": "2021-03-30T17:19:15.542758Z",
     "iopub.status.busy": "2021-03-30T17:19:15.542534Z",
     "iopub.status.idle": "2021-03-30T17:19:15.545599Z",
     "shell.execute_reply": "2021-03-30T17:19:15.545007Z",
     "shell.execute_reply.started": "2021-03-30T17:19:15.542735Z"
    }
   },
   "outputs": [],
   "source": [
    "bf_romein_cal = Romein()\n",
    "bf_romein_cal.init(gpu_locs, g_cal_gains, grid_size, polmajor=False)"
   ]
  },
  {
   "cell_type": "code",
   "execution_count": 224,
   "metadata": {
    "execution": {
     "iopub.execute_input": "2021-03-30T17:19:15.946736Z",
     "iopub.status.busy": "2021-03-30T17:19:15.946519Z",
     "iopub.status.idle": "2021-03-30T17:19:15.949697Z",
     "shell.execute_reply": "2021-03-30T17:19:15.949109Z",
     "shell.execute_reply.started": "2021-03-30T17:19:15.946713Z"
    }
   },
   "outputs": [],
   "source": [
    "bf_romein_cal.execute(gpu_cal_vs, gridded_cal_data)\n",
    "gridded_cal_data = gridded_cal_data.reshape(ntime_gulp * nchan * npol, grid_size, grid_size)"
   ]
  },
  {
   "cell_type": "code",
   "execution_count": 225,
   "metadata": {
    "execution": {
     "iopub.execute_input": "2021-03-30T17:19:16.123384Z",
     "iopub.status.busy": "2021-03-30T17:19:16.123069Z",
     "iopub.status.idle": "2021-03-30T17:19:16.137425Z",
     "shell.execute_reply": "2021-03-30T17:19:16.136916Z",
     "shell.execute_reply.started": "2021-03-30T17:19:16.123353Z"
    }
   },
   "outputs": [],
   "source": [
    "bf_fft = Fft()\n",
    "bf_fft.init(gridded_cal_data, gridded_cal_data, axes=(1, 2))\n",
    "bf_fft.execute(gridded_cal_data,gridded_cal_data, inverse=True)\n",
    "gridded_cal_data = gridded_cal_data.reshape(\n",
    "    1, ntime_gulp, nchan, npol, grid_size, grid_size\n",
    ")"
   ]
  },
  {
   "cell_type": "code",
   "execution_count": 226,
   "metadata": {
    "execution": {
     "iopub.execute_input": "2021-03-30T17:19:16.290504Z",
     "iopub.status.busy": "2021-03-30T17:19:16.290136Z",
     "iopub.status.idle": "2021-03-30T17:19:16.302871Z",
     "shell.execute_reply": "2021-03-30T17:19:16.301737Z",
     "shell.execute_reply.started": "2021-03-30T17:19:16.290466Z"
    }
   },
   "outputs": [],
   "source": [
    "crosspol_post = bifrost.zeros(\n",
    "    shape=(ntime_gulp, nchan, npol ** 2, grid_size, grid_size),\n",
    "    dtype=numpy.complex64,\n",
    "    space=\"cuda\",\n",
    ")\n",
    "\n",
    "image_post = bifrost.zeros(\n",
    "    shape=(1, nchan, npol ** 2, grid_size, grid_size),\n",
    "    dtype=numpy.complex64,\n",
    "    space=\"cuda\"\n",
    ")"
   ]
  },
  {
   "cell_type": "code",
   "execution_count": 227,
   "metadata": {
    "execution": {
     "iopub.execute_input": "2021-03-30T17:19:16.792042Z",
     "iopub.status.busy": "2021-03-30T17:19:16.791819Z",
     "iopub.status.idle": "2021-03-30T17:19:16.796502Z",
     "shell.execute_reply": "2021-03-30T17:19:16.795532Z",
     "shell.execute_reply.started": "2021-03-30T17:19:16.792019Z"
    }
   },
   "outputs": [],
   "source": [
    " bifrost.map(\n",
    "    \"a(i,j,p,k,l) += b(0,i,j,p/2,k,l)*b(0,i,j,p%2,k,l).conj()\",\n",
    "    {\"a\": crosspol_post, \"b\": gridded_cal_data},\n",
    "    axis_names=(\"i\", \"j\", \"p\", \"k\", \"l\"),\n",
    "    shape=(ntime_gulp, nchan, npol ** 2, grid_size, grid_size),\n",
    ")\n",
    "    \n",
    "bifrost.reduce(crosspol_post, image_post, op=\"sum\")    "
   ]
  },
  {
   "cell_type": "code",
   "execution_count": 228,
   "metadata": {
    "execution": {
     "iopub.execute_input": "2021-03-30T17:19:17.173208Z",
     "iopub.status.busy": "2021-03-30T17:19:17.172911Z",
     "iopub.status.idle": "2021-03-30T17:19:17.181099Z",
     "shell.execute_reply": "2021-03-30T17:19:17.179473Z",
     "shell.execute_reply.started": "2021-03-30T17:19:17.173177Z"
    }
   },
   "outputs": [],
   "source": [
    "image_pre = image_pre.copy(space=\"system\")\n",
    "image_post = image_post.copy(space=\"system\")"
   ]
  },
  {
   "cell_type": "code",
   "execution_count": 229,
   "metadata": {
    "execution": {
     "iopub.execute_input": "2021-03-30T17:19:17.366486Z",
     "iopub.status.busy": "2021-03-30T17:19:17.365946Z",
     "iopub.status.idle": "2021-03-30T17:19:17.373787Z",
     "shell.execute_reply": "2021-03-30T17:19:17.372443Z",
     "shell.execute_reply.started": "2021-03-30T17:19:17.366435Z"
    }
   },
   "outputs": [
    {
     "data": {
      "text/plain": [
       "(1, 4, 4, 64, 64)"
      ]
     },
     "execution_count": 229,
     "metadata": {},
     "output_type": "execute_result"
    }
   ],
   "source": [
    "image_pre.shape"
   ]
  },
  {
   "cell_type": "code",
   "execution_count": 230,
   "metadata": {
    "execution": {
     "iopub.execute_input": "2021-03-30T17:19:17.527933Z",
     "iopub.status.busy": "2021-03-30T17:19:17.527435Z",
     "iopub.status.idle": "2021-03-30T17:19:17.540769Z",
     "shell.execute_reply": "2021-03-30T17:19:17.540062Z",
     "shell.execute_reply.started": "2021-03-30T17:19:17.527882Z"
    }
   },
   "outputs": [],
   "source": [
    "uv_pre = numpy.fft.fft2(image_pre, axes=(3, 4))\n",
    "uv_post = numpy.fft.fft2(image_post, axes=(3, 4))"
   ]
  },
  {
   "cell_type": "code",
   "execution_count": 231,
   "metadata": {
    "execution": {
     "iopub.execute_input": "2021-03-30T17:19:17.995076Z",
     "iopub.status.busy": "2021-03-30T17:19:17.994581Z",
     "iopub.status.idle": "2021-03-30T17:19:18.001516Z",
     "shell.execute_reply": "2021-03-30T17:19:18.000397Z",
     "shell.execute_reply.started": "2021-03-30T17:19:17.995025Z"
    }
   },
   "outputs": [],
   "source": [
    "image_pre = numpy.fft.fftshift(image_pre, axes=(3, 4))\n",
    "image_pre =  image_pre[:, :, :, ::-1, :]"
   ]
  },
  {
   "cell_type": "code",
   "execution_count": 232,
   "metadata": {
    "execution": {
     "iopub.execute_input": "2021-03-30T17:19:18.183442Z",
     "iopub.status.busy": "2021-03-30T17:19:18.182921Z",
     "iopub.status.idle": "2021-03-30T17:19:18.190046Z",
     "shell.execute_reply": "2021-03-30T17:19:18.188604Z",
     "shell.execute_reply.started": "2021-03-30T17:19:18.183391Z"
    }
   },
   "outputs": [],
   "source": [
    "image_post = numpy.fft.fftshift(image_post, axes=(3, 4))\n",
    "image_post =  image_post[:, :, :, ::-1, :]"
   ]
  },
  {
   "cell_type": "code",
   "execution_count": 233,
   "metadata": {
    "execution": {
     "iopub.execute_input": "2021-03-30T17:19:18.338643Z",
     "iopub.status.busy": "2021-03-30T17:19:18.338157Z",
     "iopub.status.idle": "2021-03-30T17:19:18.885091Z",
     "shell.execute_reply": "2021-03-30T17:19:18.884347Z",
     "shell.execute_reply.started": "2021-03-30T17:19:18.338594Z"
    }
   },
   "outputs": [
    {
     "data": {
      "image/png": "[encoded data removed]",
      "text/plain": [
       "<Figure size 1296x360 with 6 Axes>"
      ]
     },
     "metadata": {},
     "output_type": "display_data"
    }
   ],
   "source": [
    "fig, ax = plt.subplots(ncols=3, figsize=(18,5), facecolor=\"white\")\n",
    "\n",
    "# norm = LogNorm(vmax=1e7, vmin=1e-1)\n",
    "norm1 = Normalize(vmin=1e6, vmax=3e7)\n",
    "# norm1 = LogNorm(vmin=1e6, vmax=1e7)\n",
    "norm2 = Normalize(vmin=9e5, vmax=2.5e9)\n",
    "# norm2 = LogNorm(vmin=1e4, vmax=2e7)\n",
    "im = ax[0].pcolorfast(image_pre[0,0,0].real, norm=norm1)\n",
    "fig.colorbar(im, ax=ax[0]);\n",
    "ax[0].set_title(\"Pre Calibration\");\n",
    "\n",
    "im = ax[1].pcolorfast(image_post[0,0,0].real, norm=norm2)\n",
    "fig.colorbar(im, ax=ax[1]);\n",
    "ax[1].set_title(\"Post Calibration\");\n",
    "\n",
    "im = ax[2].pcolorfast((image_pre - image_post).real[0,0,0])\n",
    "fig.colorbar(im, ax=ax[2]);\n",
    "ax[2].set_title(\"Diff\");\n"
   ]
  },
  {
   "cell_type": "code",
   "execution_count": 244,
   "metadata": {
    "execution": {
     "iopub.execute_input": "2021-03-30T17:20:05.687855Z",
     "iopub.status.busy": "2021-03-30T17:20:05.687568Z",
     "iopub.status.idle": "2021-03-30T17:20:06.866314Z",
     "shell.execute_reply": "2021-03-30T17:20:06.865409Z",
     "shell.execute_reply.started": "2021-03-30T17:20:05.687820Z"
    }
   },
   "outputs": [
    {
     "name": "stderr",
     "output_type": "stream",
     "text": [
      "<ipython-input-244-88c52804a034>:5: MatplotlibDeprecationWarning: default base will change from np.e to 10 in 3.4.  To suppress this warning specify the base keyword argument.\n",
      "  norm1 = SymLogNorm(vmin=-1e3, linthresh=1e2, vmax=1e9)\n",
      "<ipython-input-244-88c52804a034>:7: MatplotlibDeprecationWarning: default base will change from np.e to 10 in 3.4.  To suppress this warning specify the base keyword argument.\n",
      "  norm2 = SymLogNorm(vmin=-1e3, linthresh=1e3, vmax=3e9)\n"
     ]
    },
    {
     "data": {
      "image/png": "[encoded data removed]",
      "text/plain": [
       "<Figure size 1296x360 with 6 Axes>"
      ]
     },
     "metadata": {},
     "output_type": "display_data"
    }
   ],
   "source": [
    "fig, ax = plt.subplots(ncols=3, figsize=(18,5), facecolor=\"white\")\n",
    "\n",
    "# norm = LogNorm(vmax=1e7, vmin=1e-1)\n",
    "# norm1 = Normalize(vmin=1e6, vmax=1e9)\n",
    "norm1 = SymLogNorm(vmin=-5e2, linthresh=1e2, vmax=1e9)\n",
    "# norm2 = Normalize(vmin=9e5, vmax=2.5e9)\n",
    "norm2 = SymLogNorm(vmin=-1e3, linthresh=1e3, vmax=3e9)\n",
    "im = ax[0].pcolorfast(uv_pre[0,0,0].real, norm=norm1)\n",
    "fig.colorbar(im, ax=ax[0]);\n",
    "ax[0].set_title(\"Pre Calibration FFT(image)\");\n",
    "\n",
    "im = ax[1].pcolorfast(uv_post[0,0,0].real, norm=norm2)\n",
    "fig.colorbar(im, ax=ax[1]);\n",
    "ax[1].set_title(\"Post Calibration FFT(image)\");\n",
    "\n",
    "im = ax[2].pcolorfast((uv_pre - uv_post).real[0,0,0])\n",
    "fig.colorbar(im, ax=ax[2]);\n",
    "ax[2].set_title(\"Diff\");\n"
   ]
  },
  {
   "cell_type": "code",
   "execution_count": 245,
   "metadata": {
    "execution": {
     "iopub.execute_input": "2021-03-30T17:20:23.510366Z",
     "iopub.status.busy": "2021-03-30T17:20:23.509817Z",
     "iopub.status.idle": "2021-03-30T17:20:23.519746Z",
     "shell.execute_reply": "2021-03-30T17:20:23.518294Z",
     "shell.execute_reply.started": "2021-03-30T17:20:23.510313Z"
    }
   },
   "outputs": [
    {
     "data": {
      "text/plain": [
       "(-480.3568740192568, 7.340024698443584)"
      ]
     },
     "execution_count": 245,
     "metadata": {},
     "output_type": "execute_result"
    }
   ],
   "source": [
    "uv_pre[0,0,0].real.min(), uv_pre[0,0,0].real.max()/1e8"
   ]
  },
  {
   "cell_type": "code",
   "execution_count": 246,
   "metadata": {
    "execution": {
     "iopub.execute_input": "2021-03-30T17:20:33.234909Z",
     "iopub.status.busy": "2021-03-30T17:20:33.234370Z",
     "iopub.status.idle": "2021-03-30T17:20:33.243957Z",
     "shell.execute_reply": "2021-03-30T17:20:33.242477Z",
     "shell.execute_reply.started": "2021-03-30T17:20:33.234857Z"
    }
   },
   "outputs": [
    {
     "data": {
      "text/plain": [
       "(-59889.89270019531, 532.2665780063367)"
      ]
     },
     "execution_count": 246,
     "metadata": {},
     "output_type": "execute_result"
    }
   ],
   "source": [
    "uv_post[0,0,0].real.min()/1e8, uv_post[0,0,0].real.max()/1e8"
   ]
  },
  {
   "cell_type": "code",
   "execution_count": 237,
   "metadata": {
    "execution": {
     "iopub.execute_input": "2021-03-30T17:19:20.217312Z",
     "iopub.status.busy": "2021-03-30T17:19:20.217105Z",
     "iopub.status.idle": "2021-03-30T17:19:20.226041Z",
     "shell.execute_reply": "2021-03-30T17:19:20.225123Z",
     "shell.execute_reply.started": "2021-03-30T17:19:20.217291Z"
    }
   },
   "outputs": [
    {
     "data": {
      "text/plain": [
       "(8.4541597366333e-07, 3.3554432)"
      ]
     },
     "execution_count": 237,
     "metadata": {},
     "output_type": "execute_result"
    }
   ],
   "source": [
    "image_pre[0,0,0].real.min()/1e7, image_pre[0,0,0].real.max()/1e7"
   ]
  },
  {
   "cell_type": "code",
   "execution_count": 238,
   "metadata": {
    "execution": {
     "iopub.execute_input": "2021-03-30T17:19:20.227364Z",
     "iopub.status.busy": "2021-03-30T17:19:20.227095Z",
     "iopub.status.idle": "2021-03-30T17:19:20.234737Z",
     "shell.execute_reply": "2021-03-30T17:19:20.233786Z",
     "shell.execute_reply.started": "2021-03-30T17:19:20.227336Z"
    }
   },
   "outputs": [
    {
     "data": {
      "text/plain": [
       "(0.006130617065429687, 243.3220352)"
      ]
     },
     "execution_count": 238,
     "metadata": {},
     "output_type": "execute_result"
    }
   ],
   "source": [
    "image_post[0,0,0].real.min()/1e5, image_post[0,0,0].real.max()/1e7"
   ]
  },
  {
   "cell_type": "code",
   "execution_count": 239,
   "metadata": {
    "execution": {
     "iopub.execute_input": "2021-03-30T17:19:20.357159Z",
     "iopub.status.busy": "2021-03-30T17:19:20.356875Z",
     "iopub.status.idle": "2021-03-30T17:19:20.419483Z",
     "shell.execute_reply": "2021-03-30T17:19:20.418500Z",
     "shell.execute_reply.started": "2021-03-30T17:19:20.357129Z"
    }
   },
   "outputs": [],
   "source": [
    "uvws = cal_obj.locations[numpy.newaxis]  - cal_obj.locations[:, numpy.newaxis]\n",
    "model_vis = (\n",
    "    cal_obj.cal_source_flux[:, numpy.newaxis, numpy.newaxis, :, :] \n",
    "    * numpy.exp(\n",
    "        -1j * 2 * numpy.pi \n",
    "        * numpy.sum(\n",
    "            cal_obj.cal_source_locs[:, numpy.newaxis, numpy.newaxis, numpy.newaxis, numpy.newaxis, :]\n",
    "            * uvws[numpy.newaxis, :, : , :, :, :],\n",
    "            axis=-1,\n",
    "        ),\n",
    "    ).astype(numpy.complex64)\n",
    ")"
   ]
  },
  {
   "cell_type": "code",
   "execution_count": 240,
   "metadata": {
    "execution": {
     "iopub.execute_input": "2021-03-30T17:19:20.523119Z",
     "iopub.status.busy": "2021-03-30T17:19:20.522915Z",
     "iopub.status.idle": "2021-03-30T17:19:20.529659Z",
     "shell.execute_reply": "2021-03-30T17:19:20.528737Z",
     "shell.execute_reply.started": "2021-03-30T17:19:20.523097Z"
    }
   },
   "outputs": [
    {
     "data": {
      "text/plain": [
       "array([[[ 9.00668898-1.73849809j,  8.43848695-1.8109535j ],\n",
       "        [ 8.62786932-1.80512321j,  8.05436453-1.75510252j],\n",
       "        [ 8.24308774-1.79006815j,  7.69050524-1.61863184j],\n",
       "        [ 7.86977586-1.69382823j,  7.36364404-1.40761447j]],\n",
       "\n",
       "       [[10.36779812+0.40244967j, 10.22788981-0.84377915j],\n",
       "        [10.41308013-0.03385583j,  9.98692385-1.21996021j],\n",
       "        [10.35684529-0.46943504j,  9.66476301-1.53026856j],\n",
       "        [10.20185378-0.88095438j,  9.27885077-1.75754094j]],\n",
       "\n",
       "       [[ 7.99009684+1.9161452j ,  8.70978679+1.98509787j],\n",
       "        [ 8.48036244+1.98925137j,  9.19837746+1.87693262j],\n",
       "        [ 8.97413367+1.93874049j,  9.64530376+1.65032625j],\n",
       "        [ 9.44068489+1.76742686j, 10.0223184 +1.319227j  ]],\n",
       "\n",
       "       ...,\n",
       "\n",
       "       [[ 6.50100068-0.89686783j,  6.31931475+0.31161059j],\n",
       "        [ 6.32465843-0.27888986j,  6.50110821+0.93697066j],\n",
       "        [ 6.33384469+0.36467885j,  6.85710064+1.48351371j],\n",
       "        [ 6.52834919+0.97925699j,  7.35714546+1.90388536j]],\n",
       "\n",
       "       [[10.46787754+0.45504087j, 10.30897239-0.92879367j],\n",
       "        [10.52218369-0.05467341j, 10.01334599-1.35896766j],\n",
       "        [10.4454259 -0.56219412j,  9.61686471-1.69954468j],\n",
       "        [10.24227002-1.03432584j,  9.14573953-1.92752909j]],\n",
       "\n",
       "       [[ 7.9700993 -3.35349799j,  8.93008757-3.36766482j],\n",
       "        [ 5.39322332-1.35994101j,  5.90461663-2.17960406j],\n",
       "        [ 5.67514161+1.89363157j,  5.26070383+1.01424956j],\n",
       "        [ 8.57024775+3.42149568j,  7.60057554+3.29258824j]]])"
      ]
     },
     "execution_count": 240,
     "metadata": {},
     "output_type": "execute_result"
    }
   ],
   "source": [
    "numpy.conj(cal_obj.current_gains)-phases.transpose([1,0,2])"
   ]
  },
  {
   "cell_type": "code",
   "execution_count": null,
   "metadata": {},
   "outputs": [],
   "source": []
  },
  {
   "cell_type": "code",
   "execution_count": null,
   "metadata": {},
   "outputs": [],
   "source": []
  }
 ],
 "metadata": {
  "kernelspec": {
   "display_name": "epic_py38",
   "language": "python",
   "name": "epic_py38"
  },
  "language_info": {
   "codemirror_mode": {
    "name": "ipython",
    "version": 3
   },
   "file_extension": ".py",
   "mimetype": "text/x-python",
   "name": "python",
   "nbconvert_exporter": "python",
   "pygments_lexer": "ipython3",
   "version": "3.8.8"
  }
 },
 "nbformat": 4,
 "nbformat_minor": 4
}
