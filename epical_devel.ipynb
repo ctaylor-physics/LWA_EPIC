{
 "cells": [
  {
   "cell_type": "code",
   "execution_count": 2,
   "metadata": {
    "execution": {
     "iopub.execute_input": "2021-03-30T20:36:24.071942Z",
     "iopub.status.busy": "2021-03-30T20:36:24.070651Z",
     "iopub.status.idle": "2021-03-30T20:36:24.485775Z",
     "shell.execute_reply": "2021-03-30T20:36:24.484969Z",
     "shell.execute_reply.started": "2021-03-30T20:36:24.071872Z"
    }
   },
   "outputs": [],
   "source": [
    "%matplotlib inline"
   ]
  },
  {
   "cell_type": "code",
   "execution_count": 3,
   "metadata": {
    "execution": {
     "iopub.execute_input": "2021-03-30T20:36:24.487176Z",
     "iopub.status.busy": "2021-03-30T20:36:24.486962Z",
     "iopub.status.idle": "2021-03-30T20:36:26.239381Z",
     "shell.execute_reply": "2021-03-30T20:36:26.238341Z",
     "shell.execute_reply.started": "2021-03-30T20:36:24.487154Z"
    }
   },
   "outputs": [],
   "source": [
    "import numpy\n",
    "import warnings\n",
    "import ctypes\n",
    "import scipy.constants as FCNST\n",
    "from matplotlib import pyplot as plt\n",
    "from matplotlib.colors import LogNorm, Normalize, SymLogNorm\n",
    "\n",
    "import healpy as hp\n",
    "\n",
    "import bifrost\n",
    "from bifrost.fft import Fft\n",
    "from bifrost.ring import Ring\n",
    "from bifrost.romein import Romein\n",
    "from bifrost.unpack import unpack as Unpack\n",
    "\n",
    "from bifrost.ndarray import memset_array, copy_array\n",
    "from bifrost.device import set_device as BFSetGPU, get_device as BFGetGPU, set_devices_no_spin_cpu as BFNoSpinZone\n",
    "\n",
    "from lsl.common.stations import lwasv\n",
    "\n",
    "from astropy import units\n",
    "from astropy.time import Time\n",
    "import astropy_healpix as ahp\n",
    "from astropy_healpix import HEALPix\n",
    "from astropy.constants import c as speed_of_light\n",
    "from astropy.coordinates import EarthLocation, TETE, SkyCoord, AltAz, Galactic\n",
    "\n",
    "from pygdsm import GlobalSkyModel"
   ]
  },
  {
   "cell_type": "code",
   "execution_count": 4,
   "metadata": {
    "execution": {
     "iopub.execute_input": "2021-03-30T20:36:26.241140Z",
     "iopub.status.busy": "2021-03-30T20:36:26.240923Z",
     "iopub.status.idle": "2021-03-30T20:36:26.248086Z",
     "shell.execute_reply": "2021-03-30T20:36:26.247153Z",
     "shell.execute_reply.started": "2021-03-30T20:36:26.241118Z"
    }
   },
   "outputs": [],
   "source": [
    "def GenerateLocations(\n",
    "    lsl_locs, frequencies, ntime, nchan, npol, grid_size=64, grid_resolution=20 / 60.\n",
    "):\n",
    "    delta = (2 * grid_size * numpy.sin(numpy.pi * grid_resolution / 360)) ** -1\n",
    "    chan_wavelengths = speed_of_light.value / frequencies\n",
    "    sample_grid = chan_wavelengths * delta\n",
    "    sll = sample_grid[0] / chan_wavelengths[0]\n",
    "    lsl_locs = lsl_locs.T\n",
    "    lsl_locsf = lsl_locs[:, numpy.newaxis, numpy.newaxis, :] / sample_grid[numpy.newaxis, numpy.newaxis, :, numpy.newaxis]\n",
    "    lsl_locsf -= numpy.min(lsl_locsf, axis=3, keepdims=True)\n",
    "\n",
    "    # Centre locations slightly\n",
    "    lsl_locsf += (grid_size - numpy.max(lsl_locsf, axis=3, keepdims=True)) / 2.\n",
    "\n",
    "    # add ntime axis\n",
    "    locc = numpy.broadcast_to(lsl_locsf, (ntime_gulp, 3, npol, nchan, lsl_locs.shape[1],)).transpose(1, 0, 3, 4, 2)\n",
    "    return delta, locc, sll\n",
    "#     np = numpy\n",
    "#     delta = (2 * grid_size * np.sin(np.pi * grid_resolution / 360)) ** -1\n",
    "#     chan_wavelengths = speed_of_light.value / frequencies\n",
    "#     sample_grid = chan_wavelengths * delta\n",
    "#     sll = sample_grid[0] / chan_wavelengths[0]\n",
    "#     lsl_locs = lsl_locs.T\n",
    "#     lsl_locs = lsl_locs.copy()\n",
    "\n",
    "#     lsl_locsf = np.zeros(shape=(3, npol, nchan, lsl_locs.shape[1]))\n",
    "#     for l in np.arange(3):\n",
    "#         for i in np.arange(nchan):\n",
    "#             lsl_locsf[l, :, i, :] = lsl_locs[l, :] / sample_grid[i]\n",
    "\n",
    "#             # I'm sure there's a more numpy way of doing this.\n",
    "#             for p in np.arange(npol):\n",
    "#                 lsl_locsf[l, p, i, :] -= np.min(lsl_locsf[l, p, i, :])\n",
    "\n",
    "#     # Centre locations slightly\n",
    "#     for l in np.arange(3):\n",
    "#         for i in np.arange(nchan):\n",
    "#             for p in np.arange(npol):\n",
    "#                 lsl_locsf[l, p, i, :] += (\n",
    "#                     grid_size - np.max(lsl_locsf[l, p, i, :])\n",
    "#                 ) / 2\n",
    "\n",
    "#     # Tile them for ntime...\n",
    "#     locx = np.tile(lsl_locsf[0, ...], (ntime, 1, 1, 1))\n",
    "#     locy = np.tile(lsl_locsf[1, ...], (ntime, 1, 1, 1))\n",
    "#     locz = np.tile(lsl_locsf[2, ...], (ntime, 1, 1, 1))\n",
    "#     # .. and then stick them all into one large array\n",
    "#     locc = np.concatenate([[locx, ], [locy, ], [locz, ]]).transpose(0, 1, 3, 4, 2).copy()\n",
    "\n",
    "#     return delta, locc, sll\n"
   ]
  },
  {
   "cell_type": "code",
   "execution_count": 5,
   "metadata": {
    "execution": {
     "iopub.execute_input": "2021-03-30T20:36:26.249426Z",
     "iopub.status.busy": "2021-03-30T20:36:26.249184Z",
     "iopub.status.idle": "2021-03-30T20:36:26.258452Z",
     "shell.execute_reply": "2021-03-30T20:36:26.257389Z",
     "shell.execute_reply.started": "2021-03-30T20:36:26.249402Z"
    }
   },
   "outputs": [],
   "source": [
    "def make_lm_matrix(skymodes1d):\n",
    "    lm_step = 2.0 / skymodes1d \n",
    "    i, j = numpy.meshgrid(numpy.arange(skymodes1d), numpy.arange(skymodes1d))\n",
    "    lm_matrix = numpy.asarray([i * lm_step - 1.0, j * lm_step - 1.0, numpy.zeros_like(j)])\n",
    "    lm_matrix = numpy.fft.fftshift(lm_matrix, axes=(1, 2))\n",
    "    lm_vector = lm_matrix.transpose([1, 2, 0 ])\n",
    "    lm_vector[..., 2] = numpy.sqrt(1 - lm_vector[..., 0] ** 2 - lm_vector[..., 1] ** 2)\n",
    "    return lm_vector\n"
   ]
  },
  {
   "cell_type": "code",
   "execution_count": 6,
   "metadata": {
    "execution": {
     "iopub.execute_input": "2021-03-30T20:36:26.259967Z",
     "iopub.status.busy": "2021-03-30T20:36:26.259691Z",
     "iopub.status.idle": "2021-03-30T20:36:26.268139Z",
     "shell.execute_reply": "2021-03-30T20:36:26.267171Z",
     "shell.execute_reply.started": "2021-03-30T20:36:26.259940Z"
    }
   },
   "outputs": [],
   "source": [
    "def get_phases(lwasv, nchan, nstand, npol):\n",
    "    phases = numpy.zeros((nchan, nstand, npol), dtype=numpy.complex64)\n",
    "    bad_ants = []\n",
    "    for i in range(nstand):\n",
    "        # X\n",
    "        a = lwasv.antennas[2 * i + 0]\n",
    "        delay = a.cable.delay(freq) - a.stand.z / speed_of_light.value\n",
    "        phases[:, i, 0] = numpy.exp(2j * numpy.pi * freq * delay)\n",
    "        phases[:, i, 0] /= numpy.sqrt(a.cable.gain(freq))\n",
    "        if npol == 2:\n",
    "            # Y\n",
    "            a = lwasv.antennas[2 * i + 1]\n",
    "            delay = a.cable.delay(freq) - a.stand.z / speed_of_light.value\n",
    "            phases[:, i, 1] = numpy.exp(2j * numpy.pi * freq * delay)\n",
    "            phases[:, i, 1] /= numpy.sqrt(a.cable.gain(freq))\n",
    "        if lwasv.antennas[2 * i + 0].combined_status < 33 or lwasv.antennas[2 * i + 1].combined_status < 33:\n",
    "            bad_ants.append(i)\n",
    "    return phases, bad_ants"
   ]
  },
  {
   "cell_type": "code",
   "execution_count": 374,
   "metadata": {
    "execution": {
     "iopub.execute_input": "2021-03-30T22:13:10.392933Z",
     "iopub.status.busy": "2021-03-30T22:13:10.392376Z",
     "iopub.status.idle": "2021-03-30T22:13:10.434390Z",
     "shell.execute_reply": "2021-03-30T22:13:10.433479Z",
     "shell.execute_reply.started": "2021-03-30T22:13:10.392882Z"
    }
   },
   "outputs": [],
   "source": [
    "# EPICal object\n",
    "class EPICal:\n",
    "    \"\"\"A Calibration Class for EPIC\n",
    "\n",
    "\n",
    "    Parameters\n",
    "    ----------\n",
    "    antenna_locations : array\n",
    "        A numpy array of antenna locations in units of wavelengths.\n",
    "        Expected shape (nstand, nchan, npol, 3).\n",
    "    cal_source_flux : array_like\n",
    "        An array like of the flux in Jy for each source.\n",
    "        Expected shape (n_sources, nchan, npol)\n",
    "    cal_source_locs : array\n",
    "        A nump array of the (l, m, n) or (l,m ) coordinates for each calibration source.\n",
    "        Expected shape (n_sources, 2) or (n_sources, 3)\n",
    "    lm_grid : array\n",
    "        The (l, m) grid points of the image\n",
    "        Expected shape (n_pixel, n_pixels, 2) or (n_pixel, n_pixel, 3)\n",
    "    current_gains : array\n",
    "        An array of current gains applied to the voltage stream.\n",
    "        Expected shape (nstand, nchan, npol). Optional, defaults to ones.\n",
    "    flagged_antennas : array\n",
    "        An array of integers of the antennas indices corresponding to flagged antennas. Optional\n",
    "    n_iter : int\n",
    "        Number of iterations of correlation updates before new gains are solved estimated.\n",
    "    ref_ant : int \n",
    "        The reference antenna for calibration.\n",
    "    damping_factor : float\n",
    "        The damping factor used when updating calibration solutions, must be in the range [0, 1]\n",
    "    phase_fit : bool\n",
    "        When True, only fits the phase of the calibration.\n",
    "    \n",
    "    \"\"\"\n",
    "    def __init__(\n",
    "        self,\n",
    "        antenna_locations,\n",
    "        cal_source_flux,\n",
    "        cal_source_locs,\n",
    "        lm_grid,\n",
    "        current_gains=None,\n",
    "        flagged_antennas=None,\n",
    "        n_iter=10,\n",
    "        ref_ant=0,\n",
    "        damping_factor=0,\n",
    "        phase_fit=False,\n",
    "        auto_noise_model=0.0,\n",
    "        exclude_autos=False,\n",
    "        fix_holographic_phase=True,\n",
    "        flatten_array=False,\n",
    "        conv_thresh=0.000001,\n",
    "        conv_max_try=2000,\n",
    "    ):\n",
    "\n",
    "        self.nstand = antenna_locations.shape[0]\n",
    "        self.nchan = antenna_locations.shape[1]\n",
    "        self.npol = antenna_locations.shape[2]\n",
    "        self.locations = antenna_locations\n",
    "        \n",
    "        self.good_ants = numpy.ones(shape=(nstand), dtype=numpy.bool)\n",
    "        if flagged_antennas is not None:\n",
    "            self.good_ants[flagged_antennas] = False\n",
    "        \n",
    "        self.cal_source_flux = cal_source_flux\n",
    "        self.n_cal_sources = self.cal_source_flux.shape[0]\n",
    "        self.linalg = bifrost.linalg.LinAlg()\n",
    "        \n",
    "        if cal_source_locs.shape[-1] == 2:\n",
    "            tmp_locs = numpy.zeros((self.n_cal_sources, 3))\n",
    "            tmp_locs[:, :2] = cal_source_locs\n",
    "            tmp_locs[:, 2] = numpy.sqrt(1 - tmp_locs[:, 0] ** 2 - tmp_locs[:, 1] ** 2)\n",
    "            cal_source_locs = tmp_locs\n",
    "\n",
    "        self.cal_source_locs = cal_source_locs\n",
    "\n",
    "        self.cal_pixel_inds = None\n",
    "        self.cal_pixel_locs = None\n",
    "\n",
    "        if lm_grid.shape[2] == 2:\n",
    "            tmp_lm = numpy.zeros((lm_grid.shape[0], lm_grid.shape[1], 3))\n",
    "            tmp_lm[:, :, :2] = lm_grid\n",
    "            tmp_lm[:, :, 2] = numpy.sqrt(1 - tmp_lm[:, :, 0] ** 2 - tmp_lm[:, :, 1]**2)\n",
    "            lm_grid = tmp_lm\n",
    "        self.lm_grid = lm_grid\n",
    "\n",
    "        if current_gains is None:\n",
    "            current_gains = numpy.ones((self.nstand, self.nchan, self.npol), dtype=numpy.complex64)\n",
    "\n",
    "        self.current_gains = current_gains\n",
    "        self.n_iter = n_iter\n",
    "        self.calibration_loop_count = 0\n",
    "\n",
    "        self.ref_ant = ref_ant\n",
    "        self.damping_factor = damping_factor\n",
    "        self.phase_fit = phase_fit\n",
    "        self.auto_noise_model = auto_noise_model\n",
    "        self.exclude_autos = exclude_autos\n",
    "        self.fix_holographic_phase = fix_holographic_phase\n",
    "        self.flatten_array = flatten_array\n",
    "        self.conv_thresh = conv_thresh\n",
    "        self.conv_max_try = conv_max_try\n",
    "    \n",
    "        self.auto_corr = bifrost.zeros((self.nstand, self.nchan, self.npol), dtype=numpy.complex64, space=\"cuda\")\n",
    "        self.ant_twt = numpy.zeros((self.nstand, self.nchan, self.npol), dtype=numpy.int32)\n",
    "        \n",
    "        self.cal_corr = bifrost.zeros(\n",
    "            (self.nchan, self.npol, self.nstand, self.n_cal_sources),\n",
    "            dtype=numpy.complex64,\n",
    "            space=\"cuda\"\n",
    "        )\n",
    "\n",
    "    def calculate_model_visibilities(self):\n",
    "        self.cal_pixel_inds = numpy.ascontiguousarray(\n",
    "            numpy.atleast_2d(\n",
    "                numpy.asarray(\n",
    "                    numpy.unravel_index(\n",
    "                        numpy.argmin(\n",
    "                            (self.lm_grid[:, :, 0].reshape(-1, 1) - self.cal_source_locs[numpy.newaxis, :, 0]) ** 2\n",
    "                            + (self.lm_grid[:, :, 1].reshape(-1, 1) - self.cal_source_locs[numpy.newaxis, :, 1]) ** 2,\n",
    "                            axis=0,\n",
    "                        ),\n",
    "                        self.lm_grid.shape[:2]\n",
    "                    )\n",
    "                ).T\n",
    "            )\n",
    "        )\n",
    "        self.cal_pixel_inds = bifrost.ndarray(self.cal_pixel_inds).copy()\n",
    "        self.cal_pixel_locs = self.lm_grid[self.cal_pixel_inds[:, 0], self.cal_pixel_inds[:, 1], :]\n",
    "\n",
    "        self.model_vis = numpy.zeros((self.nstand, self.nstand, self.nchan, self.npol), dtype=numpy.complex64)\n",
    "        uvws = self.locations[numpy.newaxis, :, :, :, :] - self.locations[:, numpy.newaxis, :, :, :]\n",
    "        self.model_vis = (\n",
    "            self.cal_source_flux[:, numpy.newaxis, numpy.newaxis, :, :]\n",
    "            * numpy.exp(\n",
    "                -1j * 2 * numpy.pi \n",
    "                * numpy.sum(\n",
    "                    self.cal_source_locs[:, numpy.newaxis, numpy.newaxis, numpy.newaxis, numpy.newaxis, :]\n",
    "                    * uvws[numpy.newaxis, :, : , :, :, :],\n",
    "                    axis=-1,\n",
    "                ),\n",
    "            )\n",
    "        ).astype(numpy.complex64)\n",
    "\n",
    "        if self.exclude_autos:\n",
    "            for ant in range(self.nstand):\n",
    "                self.model_vis[:, ant, ant, :, :] = 0.0\n",
    "\n",
    "        # Add phase to flatten array\n",
    "        if self.flatten_array:\n",
    "            # TODO: check conjugation\n",
    "            self.model_vis *= numpy.exp(\n",
    "                1j * 2 * numpy.pi * uvws[numpy.newaxis, ..., 2]\n",
    "            )\n",
    "        return\n",
    "\n",
    "    def calculate_correlation(self, voltage_stream, calibration_pixel_values):\n",
    "        \"\"\"\n",
    "        \n",
    "        Parameters\n",
    "        -----------\n",
    "        voltage_stream : array\n",
    "            Array of the antenna voltage stream. Has shape (nchan, npol, nstand, ntimes)\n",
    "            \n",
    "        calibration_pixel_values : array\n",
    "            Array of the e-field image values has shape (n_cal_sources, nchan, npol, ntimes)\n",
    "        \"\"\"\n",
    "        ntimes = voltage_stream.shape[-1]\n",
    "        \n",
    "        self.cal_corr = self.linalg.matmul(1.0, voltage_stream, calibration_pixel_values.transpose([1,2,3,0]).conj(), 1, self.cal_corr)\n",
    "        \n",
    "        self.ant_twt += ntimes\n",
    "        \n",
    "        if self.exclude_autos:\n",
    "            bifrost.map(\n",
    "                \"for(auto l=0; l<{ntimes}; l++) {{a(k,i,j) += b(i,j,k,l) * b(i,j,k,l).conj();}}\".format(ntimes=ntimes),\n",
    "                data={\"a\": self.auto_corr, \"b\": voltage_stream},\n",
    "                axis_names=(\"i\",\"j\", \"k\"),\n",
    "                shape=(self.nchan, self.npol, self.nstand),\n",
    "            )\n",
    "\n",
    "        self.calibration_loop_count += 1\n",
    "        \n",
    "    \n",
    "    def copy_calibration_pixels(self, efield_cal_image):\n",
    "        \n",
    "        ntimes = efield_cal_image.shape[1]\n",
    "        \n",
    "        calibration_pixel_values =  bifrost.zeros(\n",
    "            shape=(self.n_cal_sources, self.nchan, self.npol, ntimes),\n",
    "            dtype=numpy.complex64,\n",
    "            space=\"cuda\",\n",
    "        )\n",
    "\n",
    "        bifrost.map(\n",
    "            \"a(i,j,k,l) = b(0,l,j,k,c(i,0),c(i,1))\",\n",
    "            data={\"a\": calibration_pixel_values, \"b\": efield_cal_image, \"c\": self.cal_pixel_inds.copy(space=\"cuda\")},\n",
    "            axis_names=(\"i\", \"j\", \"k\", \"l\"),\n",
    "            shape=(self.n_cal_sources, self.nchan, self.npol, ntimes),\n",
    "        )\n",
    "        \n",
    "        return calibration_pixel_values\n",
    "\n",
    "    def estimate_gains(self, input_voltage_stream, efield_image):\n",
    "        \"\"\"\n",
    "        \n",
    "        Parameters\n",
    "        -----------\n",
    "        voltage_stream : bifrost.ndarray\n",
    "            Array of the antenna voltage stream has dtype ci4. Has shape (ntimes, nchan, nstand, npol)\n",
    "            \n",
    "        efield_image : bifrost\n",
    "            Array of the e-field image has shape (ntime, nchan, npol, npixels, npixels)\n",
    "        \"\"\"\n",
    "        \n",
    "        if self.cal_pixel_inds is None:\n",
    "            self.calculate_model_visibilities()\n",
    "            \n",
    "        calibration_pixel_values = self.copy_calibration_pixels(efield_image)\n",
    "        \n",
    "        input_voltage_stream = input_voltage_stream.transpose([1,3,2,0]).copy()\n",
    "        input_voltage_stream = input_voltage_stream.copy(space=\"cuda\")\n",
    "        \n",
    "        g_voltage_stream = bifrost.ndarray(shape=input_voltage_stream.shape, dtype=numpy.complex64, space=\"cuda\")\n",
    "        Unpack(input_voltage_stream, g_voltage_stream)\n",
    "        \n",
    "        self.calculate_correlation(g_voltage_stream, calibration_pixel_values)\n",
    "        \n",
    "        if self.calibration_loop_count == self.n_iter:\n",
    "            \n",
    "            tries = 0\n",
    "            convergence_delta = 100.0\n",
    "            temp_gains = numpy.broadcast_to(\n",
    "                self.current_gains[numpy.newaxis], \n",
    "                (self.n_cal_sources, self.nstand, self.nchan, self.npol),\n",
    "            ).copy()\n",
    "            \n",
    "            temp_gains[:, ~self.good_ants] = 0\n",
    "            \n",
    "            self.ant_twt[~self.good_ants] = 0\n",
    "            self.cal_corr = numpy.asarray(\n",
    "                self.cal_corr.copy(space=\"system\").transpose([3, 2, 0, 1]).copy()\n",
    "            )\n",
    "            self.auto_corr = numpy.asarray(\n",
    "                self.auto_corr.copy(space=\"system\").copy()\n",
    "            )\n",
    "            \n",
    "            if self.fix_holographic_phase:\n",
    "                # The holographic images have a silly phase running through them due to not centering when padding. Take it out.\n",
    "                dl = self.lm_grid[0, 1, 0] - self.lm_grid[0, 0, 0]\n",
    "                dm = self.lm_grid[1, 0, 1] - self.lm_grid[0, 0, 1]\n",
    "\n",
    "                phase_fix = numpy.exp(-1j * numpy.pi * (self.cal_pixel_locs[:,0] / dl + self.cal_pixel_locs[:,1] / dm) / 2)\n",
    "                self.cal_corr *=  phase_fix[:, numpy.newaxis, numpy.newaxis, numpy.newaxis]   \n",
    "            \n",
    "            self.cal_corr /=  self.ant_twt # make it an average\n",
    "            self.cal_corr[:, ~self.good_ants, :, :] = 0\n",
    "\n",
    "            # applying multiplicative gains, these get conjugated when applied\n",
    "            applied_cal = numpy.conj(numpy.asarray(self.current_gains))\n",
    "            applied_cal[~self.good_ants] = 0\n",
    "            \n",
    "            if self.exclude_autos:\n",
    "                self.auto_corr /= self.ant_twt\n",
    "                self.auto_corr[~self.good_ants, ...] = 0\n",
    "\n",
    "                print(\"autos are one\", numpy.allclose(self.auto_corr[self.good_ants], 1))\n",
    "                \n",
    "                self.cal_corr -= numpy.exp(\n",
    "                    1j * 2 * numpy.pi\n",
    "                    * numpy.sum(\n",
    "                        self.locations[numpy.newaxis, :, :, :, :2] * self.cal_pixel_locs[:, numpy.newaxis, numpy.newaxis, numpy.newaxis, :2],\n",
    "                        axis=3,\n",
    "                    )\n",
    "                ) * self.auto_corr[numpy.newaxis] * numpy.conj(applied_cal) / self.nstand\n",
    "            \n",
    "            ant_index = numpy.arange(self.nstand)[self.good_ants][0]\n",
    "            print(\"correlations same for each ant\", numpy.allclose(self.cal_corr[:,self.good_ants], self.cal_corr[:,ant_index][:, numpy.newaxis]))\n",
    "            \n",
    "            while (tries < self.conv_max_try) and (convergence_delta > self.conv_thresh):\n",
    "\n",
    "                prev_gains = temp_gains.copy()\n",
    "                b_dot_s = numpy.sum(\n",
    "                    # broadcast the antenna positions and cal_pix_locs up to (n_cal_sources, nstand, nstand, nchan, npol, 2) to match model visibilites\n",
    "                    self.locations[numpy.newaxis, numpy.newaxis, :, :, :, 0:2] \n",
    "                    * self.cal_pixel_locs[:, numpy.newaxis, numpy.newaxis, numpy.newaxis, numpy.newaxis, 0:2],\n",
    "                    axis=5,\n",
    "                )\n",
    "                cal_conj = numpy.conj(applied_cal * prev_gains)[:, numpy.newaxis]\n",
    "\n",
    "                temp_gains = (\n",
    "                    self.cal_corr * (self.ant_twt.sum(axis=0, keepdims=True) - self.ant_twt)[numpy.newaxis] # broadcast over the nsources dimension\n",
    "                    * self.nstand \n",
    "                    / numpy.sum(\n",
    "                        (self.nstand - 1) * self.ant_twt[numpy.newaxis, numpy.newaxis]\n",
    "                        * numpy.exp( 1j * 2 * numpy.pi *  b_dot_s) \n",
    "                        * self.model_vis * cal_conj,\n",
    "                        axis=2,\n",
    "                    )\n",
    "                )\n",
    "\n",
    "                phasor = temp_gains[:, self.ref_ant] / numpy.abs(temp_gains[:, self.ref_ant])\n",
    "                temp_gains *= numpy.conj(phasor)[:, numpy.newaxis]\n",
    "                \n",
    "                \n",
    "                temp_gains = prev_gains * self.damping_factor + temp_gains * (1 - self.damping_factor)\n",
    "                   \n",
    "                with warnings.catch_warnings():\n",
    "                    warnings.simplefilter(\"ignore\")\n",
    "                    convergence_delta = numpy.nanmax(numpy.abs(temp_gains - prev_gains) / numpy.abs(prev_gains))\n",
    "                tries += 1\n",
    "            if tries == self.conv_max_try:\n",
    "                print(f\"Maximum tries exceeded before convergence achieved. Final change: {convergence_delta}\")\n",
    "            else:\n",
    "                print(f\"Converged in {tries} iterations.\")\n",
    "            \n",
    "            temp_gains = numpy.average(temp_gains, weights=numpy.ones_like(temp_gains), axis=0)\n",
    "            \n",
    "            if self.phase_fit:\n",
    "                # Only fit phase\n",
    "                temp_gains /=  numpy.abs(self.current_gains)\n",
    "            \n",
    "            self.current_gains = numpy.where(\n",
    "                numpy.isnan(temp_gains),\n",
    "                self.current_gains,\n",
    "                self.current_gains * self.damping_factor + temp_gains * (1 - self.damping_factor),\n",
    "            )\n",
    "            \n",
    "            if self.phase_fit:\n",
    "                self.current_gains /=  numpy.abs(self.current_gains)\n",
    "            self.current_gains[~self.good_ants] = 0\n",
    "            \n",
    "            self.temp_gains = temp_gains\n",
    "            # reset the necessary paramters to start a new calibration loop\n",
    "            self.calibration_loop_count = 0\n",
    "            self.auto_corr = bifrost.zeros((self.nstand, self.nchan, self.npol), dtype=numpy.complex64, space=\"cuda\")\n",
    "            self.ant_twt = numpy.zeros((self.nstand, self.nchan, self.npol), dtype=numpy.int32)\n",
    "\n",
    "            self.cal_corr = bifrost.zeros(\n",
    "                (self.nchan, self.npol, self.nstand, self.n_cal_sources),\n",
    "                dtype=numpy.complex64,\n",
    "                space=\"cuda\"\n",
    "            )\n",
    "        \n",
    "    def get_gains(self):\n",
    "        return self.current_gains.astype(numpy.complex64)"
   ]
  },
  {
   "cell_type": "code",
   "execution_count": 8,
   "metadata": {
    "execution": {
     "iopub.execute_input": "2021-03-30T20:36:26.858428Z",
     "iopub.status.busy": "2021-03-30T20:36:26.857935Z",
     "iopub.status.idle": "2021-03-30T20:36:26.863416Z",
     "shell.execute_reply": "2021-03-30T20:36:26.862139Z",
     "shell.execute_reply.started": "2021-03-30T20:36:26.858380Z"
    }
   },
   "outputs": [],
   "source": [
    "BFSetGPU(0)"
   ]
  },
  {
   "cell_type": "code",
   "execution_count": 9,
   "metadata": {
    "execution": {
     "iopub.execute_input": "2021-03-30T20:36:27.071572Z",
     "iopub.status.busy": "2021-03-30T20:36:27.071061Z",
     "iopub.status.idle": "2021-03-30T20:36:27.076224Z",
     "shell.execute_reply": "2021-03-30T20:36:27.074929Z",
     "shell.execute_reply.started": "2021-03-30T20:36:27.071524Z"
    }
   },
   "outputs": [],
   "source": [
    "voltage_file = \"/data4/mkolopanis/src/LWA_EPIC/epic_data_voltages.npz\"\n",
    "efield_image = \"/data4/mkolopanis/src/LWA_EPIC/epic_efield_image.npz\""
   ]
  },
  {
   "cell_type": "code",
   "execution_count": 10,
   "metadata": {
    "execution": {
     "iopub.execute_input": "2021-03-30T20:36:27.282797Z",
     "iopub.status.busy": "2021-03-30T20:36:27.282326Z",
     "iopub.status.idle": "2021-03-30T20:36:27.291785Z",
     "shell.execute_reply": "2021-03-30T20:36:27.290485Z",
     "shell.execute_reply.started": "2021-03-30T20:36:27.282750Z"
    }
   },
   "outputs": [],
   "source": [
    "voltages = numpy.load(voltage_file, allow_pickle=True)"
   ]
  },
  {
   "cell_type": "code",
   "execution_count": 11,
   "metadata": {
    "execution": {
     "iopub.execute_input": "2021-03-30T20:36:27.435437Z",
     "iopub.status.busy": "2021-03-30T20:36:27.435073Z",
     "iopub.status.idle": "2021-03-30T20:36:27.441369Z",
     "shell.execute_reply": "2021-03-30T20:36:27.440163Z",
     "shell.execute_reply.started": "2021-03-30T20:36:27.435402Z"
    }
   },
   "outputs": [],
   "source": [
    "image = numpy.load(efield_image, allow_pickle=True)"
   ]
  },
  {
   "cell_type": "code",
   "execution_count": 12,
   "metadata": {
    "execution": {
     "iopub.execute_input": "2021-03-30T20:36:27.661458Z",
     "iopub.status.busy": "2021-03-30T20:36:27.660973Z",
     "iopub.status.idle": "2021-03-30T20:36:27.668264Z",
     "shell.execute_reply": "2021-03-30T20:36:27.667136Z",
     "shell.execute_reply.started": "2021-03-30T20:36:27.661410Z"
    }
   },
   "outputs": [],
   "source": [
    "voltage_hdr = voltages[\"hdr\"].item()\n",
    "img_hdr = image[\"hdr\"].item()"
   ]
  },
  {
   "cell_type": "code",
   "execution_count": 13,
   "metadata": {
    "execution": {
     "iopub.execute_input": "2021-03-30T20:36:27.846987Z",
     "iopub.status.busy": "2021-03-30T20:36:27.846506Z",
     "iopub.status.idle": "2021-03-30T20:36:27.862579Z",
     "shell.execute_reply": "2021-03-30T20:36:27.861917Z",
     "shell.execute_reply.started": "2021-03-30T20:36:27.846940Z"
    }
   },
   "outputs": [
    {
     "data": {
      "text/plain": [
       "(array({'time_tag': 297616560436264860, 'seq0': 0, 'chan0': 1022, 'nchan': 4, 'cfreq': 25609999.98729676, 'bw': 100000.0, 'nstand': 256, 'npol': 2, 'nbit': 4, 'complex': True, 'axes': 'time,chan,stand,pol'},\n",
       "       dtype=object),\n",
       " (512, 4, 256, 2))"
      ]
     },
     "execution_count": 13,
     "metadata": {},
     "output_type": "execute_result"
    }
   ],
   "source": [
    "voltages[\"hdr\"], voltages[\"data\"].shape"
   ]
  },
  {
   "cell_type": "code",
   "execution_count": 14,
   "metadata": {
    "execution": {
     "iopub.execute_input": "2021-03-30T20:36:28.009092Z",
     "iopub.status.busy": "2021-03-30T20:36:28.008892Z",
     "iopub.status.idle": "2021-03-30T20:36:28.214822Z",
     "shell.execute_reply": "2021-03-30T20:36:28.213901Z",
     "shell.execute_reply.started": "2021-03-30T20:36:28.009072Z"
    }
   },
   "outputs": [
    {
     "data": {
      "text/plain": [
       "(array({'time_tag': 297616560436264860, 'seq0': 0, 'chan0': 1022, 'nchan': 4, 'cfreq': 25609999.98729676, 'bw': 100000.0, 'nstand': 256, 'npol': 4, 'nbit': 64, 'complex': True, 'axes': 'time,chan,pol,gridy,gridx', 'grid_size_x': 64, 'grid_size_y': 64, 'sampling_length_x': 0.49999887562843115, 'sampling_length_y': 0.49999887562843115, 'accumulation_time': 61.44, 'FS': 196000000.0, 'latitude': 34.348358, 'longitude': -106.885783, 'telescope': 'LWA-SV', 'data_units': 'UNCALIB', 'pols': ['xx', 'xy', 'yx', 'yy']},\n",
       "       dtype=object),\n",
       " (1, 512, 4, 2, 64, 64))"
      ]
     },
     "execution_count": 14,
     "metadata": {},
     "output_type": "execute_result"
    }
   ],
   "source": [
    "image[\"hdr\"], image[\"data\"].shape"
   ]
  },
  {
   "cell_type": "code",
   "execution_count": 15,
   "metadata": {
    "execution": {
     "iopub.execute_input": "2021-03-30T20:36:28.216216Z",
     "iopub.status.busy": "2021-03-30T20:36:28.215993Z",
     "iopub.status.idle": "2021-03-30T20:36:28.414094Z",
     "shell.execute_reply": "2021-03-30T20:36:28.413196Z",
     "shell.execute_reply.started": "2021-03-30T20:36:28.216184Z"
    }
   },
   "outputs": [],
   "source": [
    "lwasv_antennas = lwasv.antennas\n",
    "obstime = Time(img_hdr[\"time_tag\"] / img_hdr[\"FS\"], format=\"unix\")\n",
    "lon = img_hdr[\"longitude\"] * units.deg\n",
    "lat = img_hdr[\"latitude\"] * units.deg\n",
    "ntime_gulp = image[\"data\"].shape[1]\n",
    "chan_bw = img_hdr[\"bw\"]\n",
    "FS = 196.0e6\n",
    "CHAN_BW = 25.0e3\n",
    "chan0 = img_hdr[\"chan0\"]\n",
    "cfreq = img_hdr[\"cfreq\"]\n",
    "nchan = img_hdr[\"nchan\"]\n",
    "npol = voltage_hdr[\"npol\"]\n",
    "grid_size = skymodes1d = 65\n",
    "imageres = 1.79057\n",
    "ant_extent = 1\n",
    "# freq = (cfreq + numpy.arange(nchan) * chan_bw)\n",
    "freq = (chan0 + numpy.arange(nchan)) * CHAN_BW\n",
    "point_source=True\n",
    "ones_test=False\n",
    "n_source_gsm=75"
   ]
  },
  {
   "cell_type": "code",
   "execution_count": 16,
   "metadata": {
    "execution": {
     "iopub.execute_input": "2021-03-30T20:36:28.433191Z",
     "iopub.status.busy": "2021-03-30T20:36:28.432917Z",
     "iopub.status.idle": "2021-03-30T20:36:28.439905Z",
     "shell.execute_reply": "2021-03-30T20:36:28.438636Z",
     "shell.execute_reply.started": "2021-03-30T20:36:28.433163Z"
    }
   },
   "outputs": [],
   "source": [
    "locations = numpy.array([(ant.stand.x, ant.stand.y, ant.stand.z) for ant in lwasv.antennas[::2]])\n",
    "locations[255, :] = 0.0\n",
    "nstand = locations.shape[0]\n",
    "sampling_length, locs, sll = GenerateLocations(locations, freq, ntime_gulp, nchan, npol, grid_size=grid_size, grid_resolution=imageres)"
   ]
  },
  {
   "cell_type": "code",
   "execution_count": 17,
   "metadata": {
    "execution": {
     "iopub.execute_input": "2021-03-30T20:36:28.613628Z",
     "iopub.status.busy": "2021-03-30T20:36:28.613208Z",
     "iopub.status.idle": "2021-03-30T20:36:28.961906Z",
     "shell.execute_reply": "2021-03-30T20:36:28.961034Z",
     "shell.execute_reply.started": "2021-03-30T20:36:28.613589Z"
    }
   },
   "outputs": [
    {
     "name": "stderr",
     "output_type": "stream",
     "text": [
      "<ipython-input-5-21b95f273059>:7: RuntimeWarning: invalid value encountered in sqrt\n",
      "  lm_vector[..., 2] = numpy.sqrt(1 - lm_vector[..., 0] ** 2 - lm_vector[..., 1] ** 2)\n"
     ]
    }
   ],
   "source": [
    "gpu_locs = bifrost.ndarray(locs.astype(numpy.int32).copy(), space=\"cuda\")\n",
    "\n",
    "phases, bad_ants = get_phases(lwasv, nchan, nstand, npol)\n",
    "bad_ants.append(255)\n",
    "bad_ants = numpy.asarray(bad_ants)\n",
    "phases[:, bad_ants, :] =0\n",
    "lm_matrix = make_lm_matrix(skymodes1d)"
   ]
  },
  {
   "cell_type": "code",
   "execution_count": 18,
   "metadata": {
    "execution": {
     "iopub.execute_input": "2021-03-30T20:36:28.963149Z",
     "iopub.status.busy": "2021-03-30T20:36:28.962930Z",
     "iopub.status.idle": "2021-03-30T20:36:28.967414Z",
     "shell.execute_reply": "2021-03-30T20:36:28.966484Z",
     "shell.execute_reply.started": "2021-03-30T20:36:28.963127Z"
    }
   },
   "outputs": [],
   "source": [
    "site_loc = EarthLocation.from_geodetic(\n",
    "    lwasv.lon * (180.0 / numpy.pi),\n",
    "    lwasv.lat * (180.0 / numpy.pi),\n",
    "    height=1511 * units.m,\n",
    ")"
   ]
  },
  {
   "cell_type": "code",
   "execution_count": 19,
   "metadata": {
    "execution": {
     "iopub.execute_input": "2021-03-30T20:36:28.969050Z",
     "iopub.status.busy": "2021-03-30T20:36:28.968705Z",
     "iopub.status.idle": "2021-03-30T20:36:28.975719Z",
     "shell.execute_reply": "2021-03-30T20:36:28.974857Z",
     "shell.execute_reply.started": "2021-03-30T20:36:28.969025Z"
    }
   },
   "outputs": [
    {
     "data": {
      "text/plain": [
       "array([380165.65156163, 379422.77796955, 378682.07970209, 377943.54827431])"
      ]
     },
     "execution_count": 19,
     "metadata": {},
     "output_type": "execute_result"
    }
   ],
   "source": [
    " numpy.asarray(2 * FCNST.Boltzmann * (FCNST.speed_of_light / freq)**2 * 10**26, dtype=numpy.float64)"
   ]
  },
  {
   "cell_type": "code",
   "execution_count": 61,
   "metadata": {
    "execution": {
     "iopub.execute_input": "2021-03-30T20:42:15.265826Z",
     "iopub.status.busy": "2021-03-30T20:42:15.265270Z",
     "iopub.status.idle": "2021-03-30T20:42:15.304534Z",
     "shell.execute_reply": "2021-03-30T20:42:15.303488Z",
     "shell.execute_reply.started": "2021-03-30T20:42:15.265769Z"
    }
   },
   "outputs": [],
   "source": [
    "if point_source:\n",
    "    radec = numpy.array([[5.233686583, 0.71094094367], [6.12377129663, 1.02645722192]])\n",
    "    fluxes = src_flux = numpy.array([20539.0, 19328.0])\n",
    "#     fluxes[1] *= 0.57 # a fudging factor because it is down in the beam\n",
    "    # radec = radec[1]\n",
    "    # fluxes = fluxes[1]\n",
    "    fluxes = numpy.atleast_1d(fluxes)\n",
    "    radec = numpy.atleast_2d(radec)\n",
    "    sou_info = SkyCoord(\n",
    "        ra=radec[:, 0] * units.rad, dec=radec[:, 1] * units.rad, frame=\"icrs\",\n",
    "    )\n",
    "else:\n",
    "  \n",
    "    gsm2008 = GlobalSkyModel(freq_unit=\"Hz\")\n",
    "    fluxes = gsm2008.generate(freq)\n",
    "    fluxes = hp.pixelfunc.ud_grade(fluxes, 16)\n",
    "    gsm2008_coords = HEALPix(ahp.npix_to_nside(fluxes.shape[1]), frame=Galactic())\n",
    "    sou_info = gsm2008_coords.healpix_to_skycoord(numpy.arange(gsm2008_coords.npix))\n",
    "    sou_info = sou_info.transform_to(\"icrs\")\n",
    "    \n",
    "    fluxes *= numpy.asarray(2 * FCNST.Boltzmann * (FCNST.speed_of_light / freq)**2 * 10**26, dtype=numpy.float64)[:, numpy.newaxis] # Jy/str\n",
    "\n",
    "\n",
    "app_coord_data = sou_info.transform_to(\n",
    "    TETE(location=site_loc, obstime=obstime)\n",
    ")"
   ]
  },
  {
   "cell_type": "code",
   "execution_count": 62,
   "metadata": {
    "execution": {
     "iopub.execute_input": "2021-03-30T20:42:15.562410Z",
     "iopub.status.busy": "2021-03-30T20:42:15.562151Z",
     "iopub.status.idle": "2021-03-30T20:42:15.676942Z",
     "shell.execute_reply": "2021-03-30T20:42:15.676018Z",
     "shell.execute_reply.started": "2021-03-30T20:42:15.562387Z"
    }
   },
   "outputs": [],
   "source": [
    "lm_coords = numpy.sin(app_coord_data.altaz.zen).reshape(-1, 1)* numpy.asarray([numpy.cos(app_coord_data.altaz.az), numpy.sin(app_coord_data.altaz.az)]).T\n",
    "good_pix = app_coord_data.altaz.zen.deg <= 90   \n",
    "lm_coords = lm_coords[good_pix]\n",
    "\n",
    "if point_source: \n",
    "    cal_source_flux = numpy.broadcast_to(fluxes[:, numpy.newaxis, numpy.newaxis], (fluxes.shape[0], nchan, npol))\n",
    "    \n",
    "elif ones_test:\n",
    "    lm_coords= numpy.atleast_2d([0,0])\n",
    "    cal_source_flux = numpy.asarray([1.])\n",
    "    cal_source_flux = numpy.broadcast_to(cal_source_flux[:, numpy.newaxis, numpy.newaxis], (cal_source_flux.shape[0], nchan, npol))\n",
    "    \n",
    "else:\n",
    "    cal_source_flux = fluxes[..., good_pix].T\n",
    "    inds = numpy.argsort(cal_source_flux, axis=0)[:n_source_gsm]\n",
    "    \n",
    "    cal_source_flux = numpy.take(cal_source_flux, inds)\n",
    "    \n",
    "    cal_source_flux = numpy.broadcast_to(cal_source_flux[:, :, numpy.newaxis], (cal_source_flux.shape[0], nchan, npol))\n",
    "    \n",
    "    lm_coords = lm_coords[inds[:, 0]]\n",
    "    "
   ]
  },
  {
   "cell_type": "code",
   "execution_count": 63,
   "metadata": {
    "execution": {
     "iopub.execute_input": "2021-03-30T20:42:15.767307Z",
     "iopub.status.busy": "2021-03-30T20:42:15.767078Z",
     "iopub.status.idle": "2021-03-30T20:42:15.774817Z",
     "shell.execute_reply": "2021-03-30T20:42:15.773949Z",
     "shell.execute_reply.started": "2021-03-30T20:42:15.767263Z"
    }
   },
   "outputs": [],
   "source": [
    "input_vs = voltages[\"data\"]\n",
    "\n",
    "if ones_test:\n",
    "    input_vs = numpy.ones_like(input_vs)\n",
    "    "
   ]
  },
  {
   "cell_type": "code",
   "execution_count": 64,
   "metadata": {
    "execution": {
     "iopub.execute_input": "2021-03-30T20:42:15.900629Z",
     "iopub.status.busy": "2021-03-30T20:42:15.900237Z",
     "iopub.status.idle": "2021-03-30T20:42:15.922397Z",
     "shell.execute_reply": "2021-03-30T20:42:15.921523Z",
     "shell.execute_reply.started": "2021-03-30T20:42:15.900590Z"
    }
   },
   "outputs": [],
   "source": [
    "voltage_stream_c14 = bifrost.ndarray(input_vs, dtype=\"ci4\", space=\"system\")\n",
    "cal_vs = voltage_stream_c14.copy()\n",
    "gpu_cal_vs = cal_vs.copy(space=\"cuda\")\n",
    "\n",
    "voltage_stream_c14 = voltage_stream_c14.transpose([1,3,2,0])\n",
    "voltage_stream_c14 = voltage_stream_c14.copy()\n",
    "voltage_stream_c14 = voltage_stream_c14.copy(space=\"cuda\")\n",
    "\n",
    "vdata = bifrost.ndarray(shape=voltage_stream_c14.shape, dtype=numpy.complex64, space=\"cuda\")\n",
    "Unpack(voltage_stream_c14, vdata)\n",
    "\n",
    "voltage_stream = vdata.copy(\"system\")\n",
    "\n",
    "# voltage_stream = bifrost.ndarray(numpy.ascontiguousarray(voltage_stream.transpose([1,3,2,0])))\n",
    "# vdata = voltage_stream.copy(space=\"cuda\")\n",
    "# efield_system =  image[\"data\"]\n",
    "# efield_cal_image = bifrost.ndarray(\n",
    "#     image[\"data\"],\n",
    "#     dtype=numpy.complex64,\n",
    "#     space=\"cuda\",\n",
    "# )"
   ]
  },
  {
   "cell_type": "code",
   "execution_count": 65,
   "metadata": {
    "execution": {
     "iopub.execute_input": "2021-03-30T20:42:16.081015Z",
     "iopub.status.busy": "2021-03-30T20:42:16.080817Z",
     "iopub.status.idle": "2021-03-30T20:42:16.205304Z",
     "shell.execute_reply": "2021-03-30T20:42:16.204427Z",
     "shell.execute_reply.started": "2021-03-30T20:42:16.080995Z"
    }
   },
   "outputs": [],
   "source": [
    "efield_cal_image = bifrost.zeros(\n",
    "    shape=(ntime_gulp, nchan, npol, grid_size, grid_size),\n",
    "    dtype=numpy.complex64,\n",
    "    space=\"cuda\",\n",
    ")\n",
    "\n",
    "input_gains =  numpy.broadcast_to(\n",
    "    phases[numpy.newaxis, :, :, :, numpy.newaxis, numpy.newaxis],\n",
    "#     numpy.ones_like(phases)[numpy.newaxis, :, :, :, numpy.newaxis, numpy.newaxis],\n",
    "    (ntime_gulp, nchan, nstand, npol, ant_extent, ant_extent)\n",
    ").copy()\n",
    "\n",
    "gpu_input_gains = bifrost.ndarray(input_gains).conj()\n",
    "gpu_input_gains = gpu_input_gains.copy(space=\"cuda\")\n",
    "\n",
    "\n",
    "bf_romein_input = Romein()\n",
    "bf_romein_input.init(gpu_locs, gpu_input_gains, grid_size, polmajor=False)\n",
    "bf_romein_input.execute(gpu_cal_vs, efield_cal_image)\n",
    "efield_cal_image = efield_cal_image.reshape(ntime_gulp * nchan * npol, grid_size, grid_size)\n",
    "\n",
    "bf_fft_input = Fft()\n",
    "bf_fft_input.init(efield_cal_image, efield_cal_image, axes=(1, 2))\n",
    "bf_fft_input.execute(efield_cal_image,efield_cal_image, inverse=True)\n",
    "efield_cal_image = efield_cal_image.reshape(\n",
    "    1, ntime_gulp, nchan, npol, grid_size, grid_size\n",
    ")\n",
    "efield_system = efield_cal_image.copy(space=\"system\")"
   ]
  },
  {
   "cell_type": "code",
   "execution_count": 66,
   "metadata": {
    "execution": {
     "iopub.execute_input": "2021-03-30T20:42:16.432557Z",
     "iopub.status.busy": "2021-03-30T20:42:16.431895Z",
     "iopub.status.idle": "2021-03-30T20:42:16.467669Z",
     "shell.execute_reply": "2021-03-30T20:42:16.465688Z",
     "shell.execute_reply.started": "2021-03-30T20:42:16.432492Z"
    }
   },
   "outputs": [],
   "source": [
    "crosspol_pre = bifrost.zeros(\n",
    "    shape=(ntime_gulp, nchan, npol ** 2, grid_size, grid_size),\n",
    "    dtype=numpy.complex64,\n",
    "    space=\"cuda\",\n",
    ")\n",
    "\n",
    "image_pre = bifrost.zeros(\n",
    "    shape=(1, nchan, npol ** 2, grid_size, grid_size),\n",
    "    dtype=numpy.complex64,\n",
    "    space=\"cuda\"\n",
    ")\n",
    "\n",
    "bifrost.map(\n",
    "    \"a(i,j,p,k,l) += b(0,i,j,p/2,k,l)*b(0,i,j,p%2,k,l).conj()\",\n",
    "    {\"a\": crosspol_pre, \"b\": efield_cal_image},\n",
    "    axis_names=(\"i\", \"j\", \"p\", \"k\", \"l\"),\n",
    "    shape=(ntime_gulp, nchan, npol ** 2, grid_size, grid_size),\n",
    ")\n",
    "crosspol_pre = crosspol_pre.reshape(\n",
    "    ntime_gulp, nchan, npol ** 2, grid_size, grid_size\n",
    ")\n",
    "\n",
    "bifrost.reduce(crosspol_pre, image_pre, op=\"sum\")\n",
    "\n",
    "image_pre = image_pre.copy(space=\"system\")\n",
    "uv_pre = numpy.fft.fft2(image_pre, axes=(3,4))\n",
    "image_pre = numpy.fft.fftshift(image_pre, axes=(3, 4))\n",
    "image_pre =  image_pre[:, :, :, :, ::-1]"
   ]
  },
  {
   "cell_type": "code",
   "execution_count": 67,
   "metadata": {
    "execution": {
     "iopub.execute_input": "2021-03-30T20:42:16.806200Z",
     "iopub.status.busy": "2021-03-30T20:42:16.805877Z",
     "iopub.status.idle": "2021-03-30T20:42:16.816252Z",
     "shell.execute_reply": "2021-03-30T20:42:16.814968Z",
     "shell.execute_reply.started": "2021-03-30T20:42:16.806167Z"
    }
   },
   "outputs": [],
   "source": [
    "max_inds = numpy.ascontiguousarray(\n",
    "    numpy.atleast_2d(\n",
    "        numpy.asarray(\n",
    "            numpy.unravel_index(\n",
    "                numpy.argmin(\n",
    "                    (lm_matrix[:, :, 0].reshape(-1, 1) - lm_coords[numpy.newaxis, :, 0]) ** 2\n",
    "                    + (lm_matrix[:, :, 1].reshape(-1, 1) - lm_coords[numpy.newaxis, :, 1]) ** 2,\n",
    "                    axis=0,\n",
    "                ),\n",
    "                lm_matrix.shape[:2]\n",
    "            )\n",
    "        ).T\n",
    "    )\n",
    ")\n",
    "\n",
    "g_inds = bifrost.ndarray(max_inds).copy()\n",
    "g_inds = g_inds.copy(space=\"cuda\")"
   ]
  },
  {
   "cell_type": "code",
   "execution_count": 68,
   "metadata": {
    "execution": {
     "iopub.execute_input": "2021-03-30T20:42:17.158787Z",
     "iopub.status.busy": "2021-03-30T20:42:17.158533Z",
     "iopub.status.idle": "2021-03-30T20:42:17.162553Z",
     "shell.execute_reply": "2021-03-30T20:42:17.161836Z",
     "shell.execute_reply.started": "2021-03-30T20:42:17.158763Z"
    }
   },
   "outputs": [],
   "source": [
    "max_locations_lm = lm_matrix[max_inds[:, 0], max_inds[:,1], :2]\n",
    "\n",
    "cal_pixels = efield_system[0,:, :, :, max_inds[:, 0], max_inds[:,1]].transpose([0,2,3,1])\n",
    "n_cal_sources = max_inds.shape[0]"
   ]
  },
  {
   "cell_type": "code",
   "execution_count": 326,
   "metadata": {
    "execution": {
     "iopub.execute_input": "2021-03-30T21:52:13.058357Z",
     "iopub.status.busy": "2021-03-30T21:52:13.057814Z",
     "iopub.status.idle": "2021-03-30T21:52:13.064323Z",
     "shell.execute_reply": "2021-03-30T21:52:13.062875Z",
     "shell.execute_reply.started": "2021-03-30T21:52:13.058305Z"
    }
   },
   "outputs": [],
   "source": [
    "locations_waves = locs[:, 0,:, :,0].transpose([2,1,0])"
   ]
  },
  {
   "cell_type": "code",
   "execution_count": 375,
   "metadata": {
    "execution": {
     "iopub.execute_input": "2021-03-30T22:13:19.419887Z",
     "iopub.status.busy": "2021-03-30T22:13:19.419337Z",
     "iopub.status.idle": "2021-03-30T22:13:19.430602Z",
     "shell.execute_reply": "2021-03-30T22:13:19.426276Z",
     "shell.execute_reply.started": "2021-03-30T22:13:19.419835Z"
    }
   },
   "outputs": [
    {
     "data": {
      "text/plain": [
       "array([-37.116,  26.191,   2.503])"
      ]
     },
     "execution_count": 375,
     "metadata": {},
     "output_type": "execute_result"
    }
   ],
   "source": [
    "locations[0]"
   ]
  },
  {
   "cell_type": "code",
   "execution_count": 378,
   "metadata": {
    "execution": {
     "iopub.execute_input": "2021-03-30T22:13:35.190317Z",
     "iopub.status.busy": "2021-03-30T22:13:35.189748Z",
     "iopub.status.idle": "2021-03-30T22:13:35.198222Z",
     "shell.execute_reply": "2021-03-30T22:13:35.196978Z",
     "shell.execute_reply.started": "2021-03-30T22:13:35.190264Z"
    }
   },
   "outputs": [
    {
     "data": {
      "text/plain": [
       "array([24.88372154, 34.50899891, 32.77066521])"
      ]
     },
     "execution_count": 378,
     "metadata": {},
     "output_type": "execute_result"
    }
   ],
   "source": [
    "locations_waves[0,0]"
   ]
  },
  {
   "cell_type": "code",
   "execution_count": 371,
   "metadata": {
    "execution": {
     "iopub.execute_input": "2021-03-30T22:09:24.470689Z",
     "iopub.status.busy": "2021-03-30T22:09:24.470129Z",
     "iopub.status.idle": "2021-03-30T22:09:24.487128Z",
     "shell.execute_reply": "2021-03-30T22:09:24.486084Z",
     "shell.execute_reply.started": "2021-03-30T22:09:24.470631Z"
    }
   },
   "outputs": [],
   "source": [
    "cal_obj = EPICal(\n",
    "    locs.transpose(3, 2, 4, 0, 1)[...,0],\n",
    "    cal_source_flux=cal_source_flux,\n",
    "    cal_source_locs=lm_coords,\n",
    "    lm_grid=lm_matrix,\n",
    "    n_iter=1,\n",
    "    exclude_autos=True,\n",
    "    ref_ant=0,\n",
    "    damping_factor=0.3,\n",
    "    flatten_array=False,\n",
    "    flagged_antennas=bad_ants,\n",
    "    current_gains=phases.transpose([1,0,2]),\n",
    "#     conv_max_try=20,\n",
    ")"
   ]
  },
  {
   "cell_type": "code",
   "execution_count": 372,
   "metadata": {
    "execution": {
     "iopub.execute_input": "2021-03-30T22:09:24.884679Z",
     "iopub.status.busy": "2021-03-30T22:09:24.884282Z",
     "iopub.status.idle": "2021-03-30T22:09:37.183037Z",
     "shell.execute_reply": "2021-03-30T22:09:37.182003Z",
     "shell.execute_reply.started": "2021-03-30T22:09:24.884642Z"
    }
   },
   "outputs": [
    {
     "name": "stderr",
     "output_type": "stream",
     "text": [
      "<ipython-input-331-6f59d7d505de>:255: RuntimeWarning: divide by zero encountered in true_divide\n",
      "  self.cal_corr /=  self.ant_twt # make it an average\n",
      "<ipython-input-331-6f59d7d505de>:255: RuntimeWarning: invalid value encountered in true_divide\n",
      "  self.cal_corr /=  self.ant_twt # make it an average\n",
      "<ipython-input-331-6f59d7d505de>:263: RuntimeWarning: divide by zero encountered in true_divide\n",
      "  self.auto_corr /= self.ant_twt\n",
      "<ipython-input-331-6f59d7d505de>:263: RuntimeWarning: invalid value encountered in true_divide\n",
      "  self.auto_corr /= self.ant_twt\n"
     ]
    },
    {
     "name": "stdout",
     "output_type": "stream",
     "text": [
      "autos are one False\n",
      "correlations same for each ant False\n",
      "Converged in 621 iterations.\n"
     ]
    }
   ],
   "source": [
    "cal_obj.estimate_gains(cal_vs, efield_cal_image)"
   ]
  },
  {
   "cell_type": "code",
   "execution_count": 373,
   "metadata": {
    "execution": {
     "iopub.execute_input": "2021-03-30T22:09:41.524570Z",
     "iopub.status.busy": "2021-03-30T22:09:41.523971Z",
     "iopub.status.idle": "2021-03-30T22:09:41.540951Z",
     "shell.execute_reply": "2021-03-30T22:09:41.539615Z",
     "shell.execute_reply.started": "2021-03-30T22:09:41.524515Z"
    }
   },
   "outputs": [
    {
     "name": "stderr",
     "output_type": "stream",
     "text": [
      "<ipython-input-373-b33b8ac9c0b2>:1: RuntimeWarning: invalid value encountered in true_divide\n",
      "  (numpy.abs(cal_obj.get_gains()) / numpy.abs(phases.transpose([1,0,2])))\n"
     ]
    },
    {
     "data": {
      "text/plain": [
       "array([[[0.2926348 , 0.29899895],\n",
       "        [0.2873413 , 0.30062762],\n",
       "        [0.2869251 , 0.30408287],\n",
       "        [0.29188946, 0.30339777]],\n",
       "\n",
       "       [[0.32206383, 0.31589624],\n",
       "        [0.32809338, 0.33785948],\n",
       "        [0.32926023, 0.3471285 ],\n",
       "        [0.31459203, 0.29448766]],\n",
       "\n",
       "       [[0.28878412, 0.32032385],\n",
       "        [0.30329528, 0.30993786],\n",
       "        [0.32302913, 0.31285468],\n",
       "        [0.29795632, 0.2528234 ]],\n",
       "\n",
       "       ...,\n",
       "\n",
       "       [[0.3052318 , 0.30005467],\n",
       "        [0.30893862, 0.29614693],\n",
       "        [0.30928725, 0.3094388 ],\n",
       "        [0.29735553, 0.29980958]],\n",
       "\n",
       "       [[0.3045053 , 0.3084106 ],\n",
       "        [0.2806805 , 0.28732473],\n",
       "        [0.3085231 , 0.2988495 ],\n",
       "        [0.29342365, 0.29961988]],\n",
       "\n",
       "       [[       nan,        nan],\n",
       "        [       nan,        nan],\n",
       "        [       nan,        nan],\n",
       "        [       nan,        nan]]], dtype=float32)"
      ]
     },
     "execution_count": 373,
     "metadata": {},
     "output_type": "execute_result"
    }
   ],
   "source": [
    "(numpy.abs(cal_obj.get_gains()) / numpy.abs(phases.transpose([1,0,2])))"
   ]
  },
  {
   "cell_type": "code",
   "execution_count": 370,
   "metadata": {
    "execution": {
     "iopub.execute_input": "2021-03-30T22:02:07.418173Z",
     "iopub.status.busy": "2021-03-30T22:02:07.417630Z",
     "iopub.status.idle": "2021-03-30T22:02:07.427713Z",
     "shell.execute_reply": "2021-03-30T22:02:07.426509Z",
     "shell.execute_reply.started": "2021-03-30T22:02:07.418122Z"
    }
   },
   "outputs": [
    {
     "data": {
      "text/plain": [
       "ndarray([[[1., 1., 1.],\n",
       "          [1., 1., 1.]]], dtype=float32)"
      ]
     },
     "execution_count": 370,
     "metadata": {},
     "output_type": "execute_result"
    }
   ],
   "source": [
    "array = bifrost.zeros((1,2,3)) + 1\n",
    "array[:, :, (0, 2)] = 0\n",
    "array"
   ]
  },
  {
   "cell_type": "code",
   "execution_count": 338,
   "metadata": {
    "execution": {
     "iopub.execute_input": "2021-03-30T21:54:07.801579Z",
     "iopub.status.busy": "2021-03-30T21:54:07.801089Z",
     "iopub.status.idle": "2021-03-30T21:54:07.815208Z",
     "shell.execute_reply": "2021-03-30T21:54:07.814242Z",
     "shell.execute_reply.started": "2021-03-30T21:54:07.801531Z"
    }
   },
   "outputs": [],
   "source": [
    "gridded_cal_data = bifrost.zeros(\n",
    "    shape=(ntime_gulp, nchan, npol, grid_size, grid_size),\n",
    "    dtype=numpy.complex64,\n",
    "    space=\"cuda\",\n",
    ")"
   ]
  },
  {
   "cell_type": "code",
   "execution_count": 339,
   "metadata": {
    "execution": {
     "iopub.execute_input": "2021-03-30T21:54:08.331882Z",
     "iopub.status.busy": "2021-03-30T21:54:08.331463Z",
     "iopub.status.idle": "2021-03-30T21:54:08.352339Z",
     "shell.execute_reply": "2021-03-30T21:54:08.351420Z",
     "shell.execute_reply.started": "2021-03-30T21:54:08.331840Z"
    }
   },
   "outputs": [],
   "source": [
    "cal_gains =  numpy.broadcast_to(\n",
    "    cal_obj.get_gains().transpose([1,0,2])[numpy.newaxis, :, :, :, numpy.newaxis, numpy.newaxis],\n",
    "    (ntime_gulp, nchan, nstand, npol, ant_extent, ant_extent)\n",
    ").copy()\n",
    "\n",
    "g_cal_gains = bifrost.ndarray(cal_gains).conj()\n",
    "g_cal_gains = g_cal_gains.copy(space=\"cuda\")\n"
   ]
  },
  {
   "cell_type": "code",
   "execution_count": 340,
   "metadata": {
    "execution": {
     "iopub.execute_input": "2021-03-30T21:54:08.990454Z",
     "iopub.status.busy": "2021-03-30T21:54:08.989890Z",
     "iopub.status.idle": "2021-03-30T21:54:08.996368Z",
     "shell.execute_reply": "2021-03-30T21:54:08.995019Z",
     "shell.execute_reply.started": "2021-03-30T21:54:08.990402Z"
    }
   },
   "outputs": [],
   "source": [
    "bf_romein_cal = Romein()\n",
    "bf_romein_cal.init(gpu_locs, g_cal_gains, grid_size, polmajor=False)"
   ]
  },
  {
   "cell_type": "code",
   "execution_count": 341,
   "metadata": {
    "execution": {
     "iopub.execute_input": "2021-03-30T21:54:09.232448Z",
     "iopub.status.busy": "2021-03-30T21:54:09.231870Z",
     "iopub.status.idle": "2021-03-30T21:54:09.238725Z",
     "shell.execute_reply": "2021-03-30T21:54:09.237428Z",
     "shell.execute_reply.started": "2021-03-30T21:54:09.232396Z"
    }
   },
   "outputs": [],
   "source": [
    "bf_romein_cal.execute(gpu_cal_vs, gridded_cal_data)\n",
    "gridded_cal_data = gridded_cal_data.reshape(ntime_gulp * nchan * npol, grid_size, grid_size)"
   ]
  },
  {
   "cell_type": "code",
   "execution_count": 342,
   "metadata": {
    "execution": {
     "iopub.execute_input": "2021-03-30T21:54:09.443076Z",
     "iopub.status.busy": "2021-03-30T21:54:09.442597Z",
     "iopub.status.idle": "2021-03-30T21:54:09.456319Z",
     "shell.execute_reply": "2021-03-30T21:54:09.455648Z",
     "shell.execute_reply.started": "2021-03-30T21:54:09.443028Z"
    }
   },
   "outputs": [],
   "source": [
    "bf_fft = Fft()\n",
    "bf_fft.init(gridded_cal_data, gridded_cal_data, axes=(1, 2))\n",
    "bf_fft.execute(gridded_cal_data,gridded_cal_data, inverse=True)\n",
    "gridded_cal_data = gridded_cal_data.reshape(\n",
    "    1, ntime_gulp, nchan, npol, grid_size, grid_size\n",
    ")"
   ]
  },
  {
   "cell_type": "code",
   "execution_count": 343,
   "metadata": {
    "execution": {
     "iopub.execute_input": "2021-03-30T21:54:09.640248Z",
     "iopub.status.busy": "2021-03-30T21:54:09.639768Z",
     "iopub.status.idle": "2021-03-30T21:54:09.651126Z",
     "shell.execute_reply": "2021-03-30T21:54:09.650052Z",
     "shell.execute_reply.started": "2021-03-30T21:54:09.640201Z"
    }
   },
   "outputs": [],
   "source": [
    "crosspol_post = bifrost.zeros(\n",
    "    shape=(ntime_gulp, nchan, npol ** 2, grid_size, grid_size),\n",
    "    dtype=numpy.complex64,\n",
    "    space=\"cuda\",\n",
    ")\n",
    "\n",
    "image_post = bifrost.zeros(\n",
    "    shape=(1, nchan, npol ** 2, grid_size, grid_size),\n",
    "    dtype=numpy.complex64,\n",
    "    space=\"cuda\"\n",
    ")"
   ]
  },
  {
   "cell_type": "code",
   "execution_count": 344,
   "metadata": {
    "execution": {
     "iopub.execute_input": "2021-03-30T21:54:09.889110Z",
     "iopub.status.busy": "2021-03-30T21:54:09.888794Z",
     "iopub.status.idle": "2021-03-30T21:54:09.911228Z",
     "shell.execute_reply": "2021-03-30T21:54:09.909919Z",
     "shell.execute_reply.started": "2021-03-30T21:54:09.889080Z"
    }
   },
   "outputs": [],
   "source": [
    " bifrost.map(\n",
    "    \"a(i,j,p,k,l) += b(0,i,j,p/2,k,l)*b(0,i,j,p%2,k,l).conj()\",\n",
    "    {\"a\": crosspol_post, \"b\": gridded_cal_data},\n",
    "    axis_names=(\"i\", \"j\", \"p\", \"k\", \"l\"),\n",
    "    shape=(ntime_gulp, nchan, npol ** 2, grid_size, grid_size),\n",
    ")\n",
    "    \n",
    "bifrost.reduce(crosspol_post, image_post, op=\"sum\")\n",
    "\n",
    "image_post = image_post.copy(space=\"system\")\n",
    "uv_post = numpy.fft.fft2(image_post, axes=(3, 4))\n",
    "image_post = numpy.fft.fftshift(image_post, axes=(3, 4))\n",
    "image_post =  image_post[:, :, :, :, ::-1]"
   ]
  },
  {
   "cell_type": "code",
   "execution_count": 345,
   "metadata": {
    "execution": {
     "iopub.execute_input": "2021-03-30T21:54:10.087625Z",
     "iopub.status.busy": "2021-03-30T21:54:10.087203Z",
     "iopub.status.idle": "2021-03-30T21:54:10.092618Z",
     "shell.execute_reply": "2021-03-30T21:54:10.091644Z",
     "shell.execute_reply.started": "2021-03-30T21:54:10.087583Z"
    }
   },
   "outputs": [],
   "source": [
    "mask = numpy.isnan(numpy.fft.fftshift(lm_matrix[:,:,2], axes=(0,1)))"
   ]
  },
  {
   "cell_type": "code",
   "execution_count": 346,
   "metadata": {
    "execution": {
     "iopub.execute_input": "2021-03-30T21:54:10.456355Z",
     "iopub.status.busy": "2021-03-30T21:54:10.455859Z",
     "iopub.status.idle": "2021-03-30T21:54:11.017839Z",
     "shell.execute_reply": "2021-03-30T21:54:11.017098Z",
     "shell.execute_reply.started": "2021-03-30T21:54:10.456306Z"
    }
   },
   "outputs": [
    {
     "data": {
      "image/png": "[encoded data removed]",
      "text/plain": [
       "<Figure size 1296x360 with 6 Axes>"
      ]
     },
     "metadata": {},
     "output_type": "display_data"
    }
   ],
   "source": [
    "fig, ax = plt.subplots(ncols=3, figsize=(18,5), facecolor=\"white\")\n",
    "\n",
    "\n",
    "masked_pre = numpy.ma.masked_where(mask, image_pre[0,0,0].real)\n",
    "masked_post = numpy.ma.masked_where(mask, image_post[0,0,0].real)\n",
    "ratio = masked_pre/masked_post\n",
    "\n",
    "# norm = LogNorm(vmax=1e7, vmin=1e-1)\n",
    "norm1 = Normalize(vmin=1e6, vmax=8e6)\n",
    "norm2 = Normalize(vmin=1e4, vmax=8e4)\n",
    "norm3 = Normalize(\n",
    "    vmin=ratio.mean() - 2 * ratio.std(), \n",
    "    vmax=ratio.mean() + 2 * ratio.std(),\n",
    ")\n",
    "if ones_test:\n",
    "    norm1 = Normalize(vmin=1e2, vmax=6e6)\n",
    "    norm2 = Normalize(vmin=1e2, vmax=1e9)\n",
    "    norm3 = LogNorm(vmin=1e-10, vmax=1e0)\n",
    "\n",
    "\n",
    "im = ax[0].pcolorfast(masked_pre, norm=norm1)\n",
    "fig.colorbar(im, ax=ax[0]);\n",
    "ax[0].set_title(\"Pre Calibration\");\n",
    "\n",
    "im = ax[1].pcolorfast(masked_post, norm=norm2)\n",
    "fig.colorbar(im, ax=ax[1]);\n",
    "ax[1].set_title(\"Post Calibration\");\n",
    "\n",
    "im = ax[2].pcolorfast((masked_pre / masked_post), norm=norm3)\n",
    "fig.colorbar(im, ax=ax[2]);\n",
    "ax[2].set_title(\"Ratio pre/post\");\n"
   ]
  },
  {
   "cell_type": "code",
   "execution_count": 347,
   "metadata": {
    "execution": {
     "iopub.execute_input": "2021-03-30T21:54:11.019012Z",
     "iopub.status.busy": "2021-03-30T21:54:11.018813Z",
     "iopub.status.idle": "2021-03-30T21:54:11.023374Z",
     "shell.execute_reply": "2021-03-30T21:54:11.022791Z",
     "shell.execute_reply.started": "2021-03-30T21:54:11.018991Z"
    }
   },
   "outputs": [
    {
     "data": {
      "text/plain": [
       "((20, 28), 32.5)"
      ]
     },
     "execution_count": 347,
     "metadata": {},
     "output_type": "execute_result"
    }
   ],
   "source": [
    "numpy.unravel_index(masked_post.argmax(), masked_post.shape), grid_size/2"
   ]
  },
  {
   "cell_type": "code",
   "execution_count": 348,
   "metadata": {
    "execution": {
     "iopub.execute_input": "2021-03-30T21:54:11.191202Z",
     "iopub.status.busy": "2021-03-30T21:54:11.190926Z",
     "iopub.status.idle": "2021-03-30T21:54:11.197297Z",
     "shell.execute_reply": "2021-03-30T21:54:11.196405Z",
     "shell.execute_reply.started": "2021-03-30T21:54:11.191174Z"
    }
   },
   "outputs": [
    {
     "data": {
      "text/plain": [
       "(1974.26525, 7.704195)"
      ]
     },
     "execution_count": 348,
     "metadata": {},
     "output_type": "execute_result"
    }
   ],
   "source": [
    "masked_pre.min()/1e3, masked_pre.max()/1e6"
   ]
  },
  {
   "cell_type": "code",
   "execution_count": 349,
   "metadata": {
    "execution": {
     "iopub.execute_input": "2021-03-30T21:54:13.956401Z",
     "iopub.status.busy": "2021-03-30T21:54:13.955859Z",
     "iopub.status.idle": "2021-03-30T21:54:13.965186Z",
     "shell.execute_reply": "2021-03-30T21:54:13.963644Z",
     "shell.execute_reply.started": "2021-03-30T21:54:13.956350Z"
    }
   },
   "outputs": [
    {
     "data": {
      "text/plain": [
       "(2.18236484375, 7.848775)"
      ]
     },
     "execution_count": 349,
     "metadata": {},
     "output_type": "execute_result"
    }
   ],
   "source": [
    "masked_post.min()/1e4, masked_post.max()/1e4"
   ]
  },
  {
   "cell_type": "code",
   "execution_count": 350,
   "metadata": {
    "execution": {
     "iopub.execute_input": "2021-03-30T21:54:14.137153Z",
     "iopub.status.busy": "2021-03-30T21:54:14.136676Z",
     "iopub.status.idle": "2021-03-30T21:54:15.480486Z",
     "shell.execute_reply": "2021-03-30T21:54:15.479781Z",
     "shell.execute_reply.started": "2021-03-30T21:54:14.137105Z"
    }
   },
   "outputs": [
    {
     "name": "stderr",
     "output_type": "stream",
     "text": [
      "<ipython-input-350-41876382d9f6>:5: MatplotlibDeprecationWarning: default base will change from np.e to 10 in 3.4.  To suppress this warning specify the base keyword argument.\n",
      "  norm1 = SymLogNorm(vmin=-3e8, linthresh=1e6, vmax=2e10)\n",
      "<ipython-input-350-41876382d9f6>:7: MatplotlibDeprecationWarning: default base will change from np.e to 10 in 3.4.  To suppress this warning specify the base keyword argument.\n",
      "  norm2 = SymLogNorm(vmin=-1e8, linthresh=1e4, vmax=4e9)\n"
     ]
    },
    {
     "data": {
      "image/png": "[encoded data removed]",
      "text/plain": [
       "<Figure size 1296x360 with 6 Axes>"
      ]
     },
     "metadata": {},
     "output_type": "display_data"
    }
   ],
   "source": [
    "fig, ax = plt.subplots(ncols=3, figsize=(18,5), facecolor=\"white\")\n",
    "\n",
    "# norm = LogNorm(vmax=1e7, vmin=1e-1)\n",
    "# norm1 = Normalize(vmin=1e6, vmax=1e9)\n",
    "norm1 = SymLogNorm(vmin=-3e8, linthresh=1e6, vmax=2e10)\n",
    "# norm2 = Normalize(vmin=9e5, vmax=2.5e9)\n",
    "norm2 = SymLogNorm(vmin=-1e8, linthresh=1e4, vmax=4e9)\n",
    "im = ax[0].pcolorfast(uv_pre[0,0,0].real, norm=norm1)\n",
    "fig.colorbar(im, ax=ax[0]);\n",
    "ax[0].set_title(\"Pre Calibration FFT(image)\");\n",
    "\n",
    "im = ax[1].pcolorfast(uv_post[0,0,0].real, norm=norm2)\n",
    "fig.colorbar(im, ax=ax[1]);\n",
    "ax[1].set_title(\"Post Calibration FFT(image)\");\n",
    "\n",
    "im = ax[2].pcolorfast((uv_pre - uv_post).real[0,0,0])\n",
    "fig.colorbar(im, ax=ax[2]);\n",
    "ax[2].set_title(\"Diff\");\n"
   ]
  },
  {
   "cell_type": "code",
   "execution_count": 351,
   "metadata": {
    "execution": {
     "iopub.execute_input": "2021-03-30T21:54:15.481837Z",
     "iopub.status.busy": "2021-03-30T21:54:15.481623Z",
     "iopub.status.idle": "2021-03-30T21:54:15.487012Z",
     "shell.execute_reply": "2021-03-30T21:54:15.486367Z",
     "shell.execute_reply.started": "2021-03-30T21:54:15.481814Z"
    }
   },
   "outputs": [
    {
     "data": {
      "text/plain": [
       "(-3.8374559367479306, 1.345781461425)"
      ]
     },
     "execution_count": 351,
     "metadata": {},
     "output_type": "execute_result"
    }
   ],
   "source": [
    "uv_pre[0,0,0].real.min()/1e8, uv_pre[0,0,0].real.max()/1e10"
   ]
  },
  {
   "cell_type": "code",
   "execution_count": 352,
   "metadata": {
    "execution": {
     "iopub.execute_input": "2021-03-30T21:54:15.488795Z",
     "iopub.status.busy": "2021-03-30T21:54:15.488575Z",
     "iopub.status.idle": "2021-03-30T21:54:15.494266Z",
     "shell.execute_reply": "2021-03-30T21:54:15.493541Z",
     "shell.execute_reply.started": "2021-03-30T21:54:15.488774Z"
    }
   },
   "outputs": [
    {
     "data": {
      "text/plain": [
       "(-0.032582986501262776, 0.014248680053320313)"
      ]
     },
     "execution_count": 352,
     "metadata": {},
     "output_type": "execute_result"
    }
   ],
   "source": [
    "uv_post[0,0,0].real.min()/1e8, uv_post[0,0,0].real.max()/1e10"
   ]
  },
  {
   "cell_type": "code",
   "execution_count": null,
   "metadata": {},
   "outputs": [],
   "source": []
  },
  {
   "cell_type": "code",
   "execution_count": null,
   "metadata": {},
   "outputs": [],
   "source": []
  }
 ],
 "metadata": {
  "kernelspec": {
   "display_name": "epic_py38",
   "language": "python",
   "name": "epic_py38"
  },
  "language_info": {
   "codemirror_mode": {
    "name": "ipython",
    "version": 3
   },
   "file_extension": ".py",
   "mimetype": "text/x-python",
   "name": "python",
   "nbconvert_exporter": "python",
   "pygments_lexer": "ipython3",
   "version": "3.8.8"
  }
 },
 "nbformat": 4,
 "nbformat_minor": 4
}
