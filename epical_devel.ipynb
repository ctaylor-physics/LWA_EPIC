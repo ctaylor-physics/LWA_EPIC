{
 "cells": [
  {
   "cell_type": "code",
   "execution_count": 1,
   "metadata": {
    "execution": {
     "iopub.execute_input": "2021-03-30T14:56:59.838761Z",
     "iopub.status.busy": "2021-03-30T14:56:59.838139Z",
     "iopub.status.idle": "2021-03-30T14:57:00.281341Z",
     "shell.execute_reply": "2021-03-30T14:57:00.280632Z",
     "shell.execute_reply.started": "2021-03-30T14:56:59.838623Z"
    }
   },
   "outputs": [],
   "source": [
    "%matplotlib inline"
   ]
  },
  {
   "cell_type": "code",
   "execution_count": 2,
   "metadata": {
    "execution": {
     "iopub.execute_input": "2021-03-30T14:57:00.282614Z",
     "iopub.status.busy": "2021-03-30T14:57:00.282397Z",
     "iopub.status.idle": "2021-03-30T14:57:02.171052Z",
     "shell.execute_reply": "2021-03-30T14:57:02.170049Z",
     "shell.execute_reply.started": "2021-03-30T14:57:00.282582Z"
    }
   },
   "outputs": [],
   "source": [
    "import numpy\n",
    "import warnings\n",
    "import ctypes\n",
    "import scipy.constants as FCNST\n",
    "from matplotlib import pyplot as plt\n",
    "from matplotlib.colors import LogNorm, Normalize\n",
    "\n",
    "import healpy as hp\n",
    "\n",
    "import bifrost\n",
    "from bifrost.fft import Fft\n",
    "from bifrost.ring import Ring\n",
    "from bifrost.romein import Romein\n",
    "from bifrost.unpack import unpack as Unpack\n",
    "\n",
    "from bifrost.ndarray import memset_array, copy_array\n",
    "from bifrost.device import set_device as BFSetGPU, get_device as BFGetGPU, set_devices_no_spin_cpu as BFNoSpinZone\n",
    "\n",
    "from lsl.common.stations import lwasv\n",
    "\n",
    "from astropy import units\n",
    "from astropy.time import Time\n",
    "import astropy_healpix as ahp\n",
    "from astropy_healpix import HEALPix\n",
    "from astropy.constants import c as speed_of_light\n",
    "from astropy.coordinates import EarthLocation, TETE, SkyCoord, AltAz, Galactic\n",
    "\n",
    "from pygdsm import GlobalSkyModel"
   ]
  },
  {
   "cell_type": "code",
   "execution_count": 3,
   "metadata": {
    "execution": {
     "iopub.execute_input": "2021-03-30T14:57:02.173153Z",
     "iopub.status.busy": "2021-03-30T14:57:02.172879Z",
     "iopub.status.idle": "2021-03-30T14:57:02.179551Z",
     "shell.execute_reply": "2021-03-30T14:57:02.178481Z",
     "shell.execute_reply.started": "2021-03-30T14:57:02.173115Z"
    }
   },
   "outputs": [],
   "source": [
    "def GenerateLocations(\n",
    "    lsl_locs, frequencies, ntime, nchan, npol, grid_size=64, grid_resolution=20 / 60.\n",
    "):\n",
    "    delta = (2 * grid_size * numpy.sin(numpy.pi * grid_resolution / 360)) ** -1\n",
    "    chan_wavelengths = speed_of_light.value / frequencies\n",
    "    sample_grid = chan_wavelengths * delta\n",
    "    sll = sample_grid[0] / chan_wavelengths[0]\n",
    "    lsl_locs = lsl_locs.T\n",
    "    lsl_locsf = lsl_locs[:, numpy.newaxis, numpy.newaxis, :] / sample_grid[numpy.newaxis, numpy.newaxis, :, numpy.newaxis]\n",
    "    lsl_locsf -= numpy.min(lsl_locsf, axis=3, keepdims=True)\n",
    "\n",
    "    # Centre locations slightly\n",
    "    lsl_locsf += (grid_size - numpy.max(lsl_locsf, axis=3, keepdims=True)) / 2.\n",
    "\n",
    "    # add ntime axis\n",
    "    locc = numpy.broadcast_to(lsl_locsf, (ntime_gulp, 3, npol, nchan, lsl_locs.shape[1],)).transpose(1, 0, 3, 4, 2)\n",
    "    return delta, locc, sll\n"
   ]
  },
  {
   "cell_type": "code",
   "execution_count": 4,
   "metadata": {
    "execution": {
     "iopub.execute_input": "2021-03-30T14:57:02.181090Z",
     "iopub.status.busy": "2021-03-30T14:57:02.180885Z",
     "iopub.status.idle": "2021-03-30T14:57:02.187658Z",
     "shell.execute_reply": "2021-03-30T14:57:02.186811Z",
     "shell.execute_reply.started": "2021-03-30T14:57:02.181071Z"
    }
   },
   "outputs": [],
   "source": [
    "def make_lm_matrix(skymodes1d):\n",
    "    lm_step = 2.0 / skymodes1d \n",
    "    i, j = numpy.meshgrid(numpy.arange(skymodes1d), numpy.arange(skymodes1d))\n",
    "    lm_matrix = numpy.asarray([i * lm_step - 1.0, j * lm_step - 1.0, numpy.zeros_like(j)])\n",
    "    lm_matrix = numpy.fft.fftshift(lm_matrix, axes=(1, 2))\n",
    "    lm_vector = lm_matrix.transpose([1, 2, 0 ])\n",
    "    lm_vector[..., 2] = numpy.sqrt(1 - lm_vector[..., 0] ** 2 - lm_vector[..., 1] ** 2)\n",
    "    return lm_vector\n"
   ]
  },
  {
   "cell_type": "code",
   "execution_count": 5,
   "metadata": {
    "execution": {
     "iopub.execute_input": "2021-03-30T14:57:02.188966Z",
     "iopub.status.busy": "2021-03-30T14:57:02.188685Z",
     "iopub.status.idle": "2021-03-30T14:57:02.195477Z",
     "shell.execute_reply": "2021-03-30T14:57:02.194486Z",
     "shell.execute_reply.started": "2021-03-30T14:57:02.188941Z"
    }
   },
   "outputs": [],
   "source": [
    "def get_phases(lwasv, nchan, nstand, npol):\n",
    "    phases = numpy.zeros((nchan, nstand, npol), dtype=numpy.complex64)\n",
    "    for i in range(nstand):\n",
    "        # X\n",
    "        a = lwasv.antennas[2 * i + 0]\n",
    "        delay = a.cable.delay(freq) - a.stand.z / speed_of_light.value\n",
    "        phases[:, i, 0] = numpy.exp(2j * numpy.pi * freq * delay)\n",
    "        phases[:, i, 0] /= numpy.sqrt(a.cable.gain(freq))\n",
    "        if npol == 2:\n",
    "            # Y\n",
    "            a = lwasv.antennas[2 * i + 1]\n",
    "            delay = a.cable.delay(freq) - a.stand.z / speed_of_light.value\n",
    "            phases[:, i, 1] = numpy.exp(2j * numpy.pi * freq * delay)\n",
    "            phases[:, i, 1] /= numpy.sqrt(a.cable.gain(freq))\n",
    "    return phases"
   ]
  },
  {
   "cell_type": "code",
   "execution_count": 6,
   "metadata": {
    "execution": {
     "iopub.execute_input": "2021-03-30T14:57:02.196903Z",
     "iopub.status.busy": "2021-03-30T14:57:02.196647Z",
     "iopub.status.idle": "2021-03-30T14:57:02.227390Z",
     "shell.execute_reply": "2021-03-30T14:57:02.226543Z",
     "shell.execute_reply.started": "2021-03-30T14:57:02.196878Z"
    }
   },
   "outputs": [],
   "source": [
    "# EPICal object\n",
    "class EPICal:\n",
    "    \"\"\"A Calibration Class for EPIC\n",
    "\n",
    "\n",
    "    Parameters\n",
    "    ----------\n",
    "    antenna_locations : array\n",
    "        A numpy array of antenna locations in units of wavelengths.\n",
    "        Expected shape (nstand, nchan, npol, 3).\n",
    "    cal_source_flux : array_like\n",
    "        An array like of the flux in Jy for each source.\n",
    "        Expected shape (n_sources, nchan, npol)\n",
    "    cal_source_locs : array\n",
    "        A nump array of the (l, m, n) or (l,m ) coordinates for each calibration source.\n",
    "        Expected shape (n_sources, 2) or (n_sources, 3)\n",
    "    lm_grid : array\n",
    "        The (l, m) grid points of the image\n",
    "        Expected shape (n_pixel, n_pixels, 2) or (n_pixel, n_pixel, 3)\n",
    "    current_gains : array\n",
    "        An array of current gains applied to the voltage stream.\n",
    "        Expected shape (nstand, nchan, npol). Optional, defaults to ones.\n",
    "    flagged_antennas : array\n",
    "        An array of integers of the antennas indices corresponding to flagged antennas. Optional\n",
    "    n_iter : int\n",
    "        Number of iterations of correlation updates before new gains are solved estimated.\n",
    "    ref_ant : int \n",
    "        The reference antenna for calibration.\n",
    "    damping_factor : float\n",
    "        The damping factor used when updating calibration solutions, must be in the range [0, 1]\n",
    "    phase_fit : bool\n",
    "        When True, only fits the phase of the calibration.\n",
    "    \n",
    "    \"\"\"\n",
    "    def __init__(\n",
    "        self,\n",
    "        antenna_locations,\n",
    "        cal_source_flux,\n",
    "        cal_source_locs,\n",
    "        lm_grid,\n",
    "        current_gains=None,\n",
    "        flagged_antennas=None,\n",
    "        n_iter=10,\n",
    "        ref_ant=0,\n",
    "        damping_factor=0,\n",
    "        phase_fit=False,\n",
    "        auto_noise_model=0.0,\n",
    "        exclude_autos=False,\n",
    "        fix_holographic_phase=True,\n",
    "        flatten_array=False,\n",
    "        conv_thresh=0.000001,\n",
    "        conv_max_try=2000,\n",
    "    ):\n",
    "\n",
    "        self.nstand = antenna_locations.shape[0]\n",
    "        self.nchan = antenna_locations.shape[1]\n",
    "        self.npol = antenna_locations.shape[2]\n",
    "        self.locations = antenna_locations\n",
    "        \n",
    "        self.good_ants = numpy.ones(shape=(nstand), dtype=numpy.bool)\n",
    "        if flagged_antennas is not None:\n",
    "            self.good_ants[flagged_antennas] = False\n",
    "\n",
    "        self.cal_source_flux = cal_source_flux\n",
    "        self.n_cal_sources = self.cal_source_flux.shape[0]\n",
    "        self.linalg = bifrost.linalg.LinAlg()\n",
    "        \n",
    "        if cal_source_locs.shape[-1] == 2:\n",
    "            tmp_locs = numpy.zeros((self.n_cal_sources, 3))\n",
    "            tmp_locs[:, :2] = cal_source_locs\n",
    "            tmp_locs[:, 2] = numpy.sqrt(1 - tmp_locs[:, 0] ** 2 - tmp_locs[:, 1] ** 2)\n",
    "            cal_source_locs = tmp_locs\n",
    "\n",
    "        self.cal_source_locs = cal_source_locs\n",
    "\n",
    "        self.cal_pixel_inds = None\n",
    "        self.cal_pixel_locs = None\n",
    "\n",
    "        if lm_grid.shape[2] == 2:\n",
    "            tmp_lm = numpy.zeros((lm_grid.shape[0], lm_grid.shape[1], 3))\n",
    "            tmp_lm[:, :, :2] = lm_grid\n",
    "            tmp_lm[:, :, 2] = numpy.sqrt(1 - tmp_lm[:, :, 0] ** 2 - tmp_lm[:, :, 1]**2)\n",
    "            lm_grid = tmp_lm\n",
    "        self.lm_grid = lm_grid\n",
    "\n",
    "        if current_gains is None:\n",
    "            current_gains = numpy.ones((self.nstand, self.nchan, self.npol), dtype=numpy.complex64)\n",
    "\n",
    "        self.current_gains = current_gains\n",
    "        self.n_iter = n_iter\n",
    "        self.calibration_loop_count = 0\n",
    "\n",
    "        self.ref_ant = ref_ant\n",
    "        self.damping_factor = damping_factor\n",
    "        self.phase_fit = phase_fit\n",
    "        self.auto_noise_model = auto_noise_model\n",
    "        self.exclude_autos = exclude_autos\n",
    "        self.fix_holographic_phase = fix_holographic_phase\n",
    "        self.flatten_array = flatten_array\n",
    "        self.conv_thresh = conv_thresh\n",
    "        self.conv_max_try = conv_max_try\n",
    "    \n",
    "        self.auto_corr = bifrost.zeros((self.nstand, self.nchan, self.npol), dtype=numpy.complex64, space=\"cuda\")\n",
    "        self.ant_twt = numpy.zeros((self.nstand, self.nchan, self.npol), dtype=numpy.int32)\n",
    "        \n",
    "        self.cal_corr = bifrost.zeros(\n",
    "            (self.nchan, self.npol, self.nstand, self.n_cal_sources),\n",
    "            dtype=numpy.complex64,\n",
    "            space=\"cuda\"\n",
    "        )\n",
    "\n",
    "    def calculate_model_visibilities(self):\n",
    "        self.cal_pixel_inds = numpy.ascontiguousarray(\n",
    "            numpy.atleast_2d(\n",
    "                numpy.asarray(\n",
    "                    numpy.unravel_index(\n",
    "                        numpy.argmin(\n",
    "                            (self.lm_grid[:, :, 0].reshape(-1, 1) - self.cal_source_locs[numpy.newaxis, :, 0]) ** 2\n",
    "                            + (self.lm_grid[:, :, 1].reshape(-1, 1) - self.cal_source_locs[numpy.newaxis, :, 1]) ** 2,\n",
    "                            axis=0,\n",
    "                        ),\n",
    "                        self.lm_grid.shape[:2]\n",
    "                    )\n",
    "                ).T\n",
    "            )\n",
    "        )\n",
    "        self.cal_pixel_inds = bifrost.ndarray(self.cal_pixel_inds).copy()\n",
    "        self.cal_pixel_locs = self.lm_grid[self.cal_pixel_inds[:, 0], self.cal_pixel_inds[:, 1], :]\n",
    "\n",
    "        self.model_vis = numpy.zeros((self.nstand, self.nstand, self.nchan, self.npol), dtype=numpy.complex64)\n",
    "        uvws = self.locations[numpy.newaxis, :, :, :, :] - self.locations[:, numpy.newaxis, :, :, :]\n",
    "        self.model_vis = (\n",
    "            self.cal_source_flux[:, numpy.newaxis, numpy.newaxis, :, :]\n",
    "            * numpy.exp(\n",
    "                -1j * 2 * numpy.pi \n",
    "                * numpy.sum(\n",
    "                    self.cal_source_locs[:, numpy.newaxis, numpy.newaxis, numpy.newaxis, numpy.newaxis, :]\n",
    "                    * uvws[numpy.newaxis, :, : , :, :, :],\n",
    "                    axis=-1,\n",
    "                ),\n",
    "            )\n",
    "        ).astype(numpy.complex64)\n",
    "\n",
    "        if self.exclude_autos:\n",
    "            for ant in range(self.nstand):\n",
    "                self.model_vis[:, ant, ant, :, :] = 0.0\n",
    "\n",
    "        # Add phase to flatten array\n",
    "        if self.flatten_array:\n",
    "            # TODO: check conjugation\n",
    "            self.model_vis *= numpy.exp(\n",
    "                1j * 2 * numpy.pi * uvws[numpy.newaxis, ..., 2]\n",
    "            )\n",
    "        return\n",
    "\n",
    "    def calculate_correlation(self, voltage_stream, calibration_pixel_values):\n",
    "        \"\"\"\n",
    "        \n",
    "        Parameters\n",
    "        -----------\n",
    "        voltage_stream : array\n",
    "            Array of the antenna voltage stream. Has shape (nchan, npol, nstand, ntimes)\n",
    "            \n",
    "        calibration_pixel_values : array\n",
    "            Array of the e-field image values has shape (n_cal_sources, nchan, npol, ntimes)\n",
    "        \"\"\"\n",
    "        ntimes = voltage_stream.shape[-1]\n",
    "\n",
    "        self.linalg.matmul(1.0, voltage_stream, calibration_pixel_values.transpose([1,2,3,0]).conj(), 1, self.cal_corr)\n",
    "        \n",
    "        self.ant_twt[self.good_ants] += ntimes\n",
    "        \n",
    "        if self.exclude_autos:\n",
    "            bifrost.map(\n",
    "                \"for(auto l=0; l<{ntimes}; l++) {{a(k,i,j) += b(i,j,k,l) * b(i,j,k,l).conj();}}\".format(ntimes=ntimes),\n",
    "                data={\"a\": self.auto_corr, \"b\": voltage_stream,},\n",
    "                axis_names=(\"i\",\"j\", \"k\"),\n",
    "                shape=(self.nchan, self.npol, self.nstand),\n",
    "            )\n",
    "\n",
    "        self.calibration_loop_count += 1\n",
    "        \n",
    "    \n",
    "    def copy_calibration_pixels(self, efield_cal_image):\n",
    "        \n",
    "        ntimes = efield_cal_image.shape[1]\n",
    "        \n",
    "        calibration_pixel_values =  bifrost.zeros(\n",
    "            shape=(self.n_cal_sources, self.nchan, self.npol, ntimes),\n",
    "            dtype=numpy.complex64,\n",
    "            space=\"cuda\",\n",
    "        )\n",
    "\n",
    "        bifrost.map(\n",
    "            \"a(i,j,k,l) = b(0,l,j,k,c(i,0),c(i,1))\",\n",
    "            data={\"a\": calibration_pixel_values, \"b\": efield_cal_image, \"c\": self.cal_pixel_inds.copy(space=\"cuda\")},\n",
    "            axis_names=(\"i\", \"j\", \"k\", \"l\"),\n",
    "            shape=(self.n_cal_sources, self.nchan, self.npol, ntimes),\n",
    "        )\n",
    "        \n",
    "        return calibration_pixel_values\n",
    "\n",
    "    def estimate_gains(self, input_voltage_stream, efield_image):\n",
    "        \"\"\"\n",
    "        \n",
    "        Parameters\n",
    "        -----------\n",
    "        voltage_stream : bifrost.ndarray\n",
    "            Array of the antenna voltage stream has dtype ci4. Has shape (ntimes, nchan, nstand, npol)\n",
    "            \n",
    "        efield_image : bifrost\n",
    "            Array of the e-field image has shape (ntime, nchan, npol, npixels, npixels)\n",
    "        \"\"\"\n",
    "        \n",
    "        if self.cal_pixel_inds is None:\n",
    "            self.calculate_model_visibilities()\n",
    "            \n",
    "        calibration_pixel_values = self.copy_calibration_pixels(efield_image)\n",
    "        \n",
    "        input_voltage_stream = input_voltage_stream.transpose([1,3,2,0]).copy()\n",
    "        input_voltage_stream = input_voltage_stream.copy(space=\"cuda\")\n",
    "        \n",
    "        g_voltage_stream = bifrost.ndarray(shape=input_voltage_stream.shape, dtype=numpy.complex64, space=\"cuda\")\n",
    "        Unpack(input_voltage_stream, g_voltage_stream)\n",
    "\n",
    "        self.calculate_correlation(g_voltage_stream, calibration_pixel_values)\n",
    "        \n",
    "        if self.calibration_loop_count == self.n_iter:\n",
    "            \n",
    "            tries = 0\n",
    "            convergence_delta = 100.0\n",
    "            temp_gains = numpy.broadcast_to(self.current_gains, (self.n_cal_sources, self.nstand, self.nchan, self.npol))\n",
    "            \n",
    "            self.cal_corr = self.cal_corr.copy(space=\"system\").transpose([3, 2, 0, 1]).copy()\n",
    "            self.auto_corr = self.auto_corr.copy(space=\"system\")\n",
    "            \n",
    "            if self.fix_holographic_phase:\n",
    "                # The holographic images have a silly phase running through them due to not centering when padding. Take it out.\n",
    "                dl = self.lm_grid[0, 1, 0] - self.lm_grid[0, 0, 0]\n",
    "                dm = self.lm_grid[1, 0, 1] - self.lm_grid[0, 0, 1]\n",
    "\n",
    "                phase_fix = numpy.exp(-1j * numpy.pi * (self.cal_pixel_locs[:,0] / dl + self.cal_pixel_locs[:,1] / dm) / 2)\n",
    "                self.cal_corr = self.cal_corr * phase_fix[:, numpy.newaxis, numpy.newaxis, numpy.newaxis]   \n",
    "            \n",
    "            self.cal_corr = self.cal_corr / self.ant_twt[numpy.newaxis] # make it an average\n",
    "            \n",
    "            # applying multiplicative gains, these get conjugated when applied\n",
    "            applied_cal = numpy.conj(self.current_gains)\n",
    "            \n",
    "            if self.exclude_autos:\n",
    "                self.auto_corr = self.auto_corr / self.ant_twt\n",
    "                \n",
    "                self.cal_corr -= numpy.exp(\n",
    "                    1j * 2 * numpy.pi\n",
    "                    * numpy.sum(\n",
    "                        self.locations[numpy.newaxis, :, :, :, :2] * self.cal_pixel_locs[:, numpy.newaxis, numpy.newaxis, numpy.newaxis, :2],\n",
    "                        axis=3,\n",
    "                    )\n",
    "                ) * self.auto_corr[numpy.newaxis] * numpy.conj(applied_cal) / self.nstand\n",
    "            \n",
    "            while (tries < self.conv_max_try) and (convergence_delta > self.conv_thresh):\n",
    "                \n",
    "                prev_gains = temp_gains.copy()\n",
    "\n",
    "                temp_gains = (\n",
    "                    self.cal_corr * (self.ant_twt.sum(axis=0, keepdims=True) - self.ant_twt)[numpy.newaxis] # broadcast over the nsources dimension\n",
    "                    * self.nstand \n",
    "                    / numpy.sum(\n",
    "                        (self.nstand - 1) * self.ant_twt[numpy.newaxis, numpy.newaxis]\n",
    "                        * numpy.exp(\n",
    "                            1j * 2 * numpy.pi\n",
    "                            * numpy.sum(\n",
    "                                # broadcast the antenna positions and cal_pix_locs up to (n_cal_sources, nstand, nstand, nchan, npol, 2) to match model visibilites\n",
    "                                self.locations[numpy.newaxis, numpy.newaxis, :, :, :, 0:2] \n",
    "                                * self.cal_pixel_locs[:, numpy.newaxis, numpy.newaxis, numpy.newaxis, numpy.newaxis, 0:2],\n",
    "                                axis=5,\n",
    "                            )\n",
    "                        ) * self.model_vis * numpy.conj(applied_cal * prev_gains)[:, numpy.newaxis],\n",
    "                        axis=2,\n",
    "                    )\n",
    "                )\n",
    "\n",
    "                phasor = temp_gains[:, self.ref_ant] / numpy.abs(temp_gains[:, self.ref_ant])\n",
    "                temp_gains *= numpy.conj(phasor)[:, numpy.newaxis]\n",
    "                \n",
    "                temp_gains = prev_gains * self.damping_factor + temp_gains * (1 - self.damping_factor)\n",
    "#                 print(\"nans: \", numpy.isnan(numpy.abs(temp_gains - prev_gains) / numpy.abs(prev_gains)).sum())\n",
    "                   \n",
    "                with warnings.catch_warnings():\n",
    "                    warnings.simplefilter(\"ignore\")\n",
    "                    convergence_delta = numpy.nanmax(numpy.abs(temp_gains - prev_gains) / numpy.abs(prev_gains))\n",
    "                tries += 1\n",
    "#                 print(convergence_delta)\n",
    "            if tries == self.conv_max_try:\n",
    "                print(\"Maximum tries exceeded before convergence achieved.\")\n",
    "            else:\n",
    "                print(f\"Converged in {tries} iterations. Final change: {convergence_delta}\")\n",
    "            \n",
    "            temp_gains = numpy.average(temp_gains, weights=numpy.ones_like(temp_gains), axis=0)\n",
    "            \n",
    "            if self.phase_fit:\n",
    "                # Only fit phase\n",
    "                temp_gains = temp_gains / NP.abs(self.current_gains)\n",
    "            \n",
    "            self.current_gains = numpy.where(\n",
    "                numpy.isfinite(temp_gains),\n",
    "                self.current_gains * self.damping_factor + temp_gains * (1 - self.damping_factor),\n",
    "                self.current_gains,\n",
    "            )\n",
    "            if self.phase_fit:\n",
    "                self.current_gains = self.current_gains / numpy.abs(self.current_gains)\n",
    "            \n",
    "            # reset the necessary paramters to start a new calibration loop\n",
    "            self.calibration_loop_count = 0\n",
    "            self.auto_corr = bifrost.zeros((self.nstand, self.nchan, self.npol), dtype=numpy.complex64, space=\"cuda\")\n",
    "            self.ant_twt = numpy.zeros((self.nstand, self.nchan, self.npol), dtype=numpy.int32)\n",
    "\n",
    "            self.cal_corr = bifrost.zeros(\n",
    "                (self.nchan, self.npol, self.nstand, self.n_cal_sources),\n",
    "                dtype=numpy.complex64,\n",
    "                space=\"cuda\"\n",
    "            )\n",
    "        \n",
    "    def get_gains(self):\n",
    "        return numpy.conj(self.current_gains).astype(numpy.complex64)"
   ]
  },
  {
   "cell_type": "code",
   "execution_count": 7,
   "metadata": {
    "execution": {
     "iopub.execute_input": "2021-03-30T14:57:02.228706Z",
     "iopub.status.busy": "2021-03-30T14:57:02.228468Z",
     "iopub.status.idle": "2021-03-30T14:57:02.233246Z",
     "shell.execute_reply": "2021-03-30T14:57:02.232489Z",
     "shell.execute_reply.started": "2021-03-30T14:57:02.228667Z"
    }
   },
   "outputs": [],
   "source": [
    "BFSetGPU(0)\n",
    "# cal_ring = Ring(name=\"cal_ring\", space=\"cuda\")"
   ]
  },
  {
   "cell_type": "code",
   "execution_count": 8,
   "metadata": {
    "execution": {
     "iopub.execute_input": "2021-03-30T14:57:02.236340Z",
     "iopub.status.busy": "2021-03-30T14:57:02.236025Z",
     "iopub.status.idle": "2021-03-30T14:57:02.238918Z",
     "shell.execute_reply": "2021-03-30T14:57:02.238173Z",
     "shell.execute_reply.started": "2021-03-30T14:57:02.236319Z"
    }
   },
   "outputs": [],
   "source": [
    "voltage_file = \"/data4/mkolopanis/src/LWA_EPIC/epic_data_voltages.npz\"\n",
    "efield_image = \"/data4/mkolopanis/src/LWA_EPIC/epic_efield_image.npz\""
   ]
  },
  {
   "cell_type": "code",
   "execution_count": 9,
   "metadata": {
    "execution": {
     "iopub.execute_input": "2021-03-30T14:57:02.240673Z",
     "iopub.status.busy": "2021-03-30T14:57:02.240385Z",
     "iopub.status.idle": "2021-03-30T14:57:02.249417Z",
     "shell.execute_reply": "2021-03-30T14:57:02.248093Z",
     "shell.execute_reply.started": "2021-03-30T14:57:02.240652Z"
    }
   },
   "outputs": [],
   "source": [
    "voltages = numpy.load(voltage_file, allow_pickle=True)"
   ]
  },
  {
   "cell_type": "code",
   "execution_count": 10,
   "metadata": {
    "execution": {
     "iopub.execute_input": "2021-03-30T14:57:02.251699Z",
     "iopub.status.busy": "2021-03-30T14:57:02.251191Z",
     "iopub.status.idle": "2021-03-30T14:57:02.257400Z",
     "shell.execute_reply": "2021-03-30T14:57:02.256303Z",
     "shell.execute_reply.started": "2021-03-30T14:57:02.251651Z"
    }
   },
   "outputs": [],
   "source": [
    "image = numpy.load(efield_image, allow_pickle=True)"
   ]
  },
  {
   "cell_type": "code",
   "execution_count": 11,
   "metadata": {
    "execution": {
     "iopub.execute_input": "2021-03-30T14:57:02.259479Z",
     "iopub.status.busy": "2021-03-30T14:57:02.258973Z",
     "iopub.status.idle": "2021-03-30T14:57:02.265869Z",
     "shell.execute_reply": "2021-03-30T14:57:02.264850Z",
     "shell.execute_reply.started": "2021-03-30T14:57:02.259432Z"
    }
   },
   "outputs": [],
   "source": [
    "voltage_hdr = voltages[\"hdr\"].item()\n",
    "img_hdr = image[\"hdr\"].item()"
   ]
  },
  {
   "cell_type": "code",
   "execution_count": 12,
   "metadata": {
    "execution": {
     "iopub.execute_input": "2021-03-30T14:57:02.266967Z",
     "iopub.status.busy": "2021-03-30T14:57:02.266756Z",
     "iopub.status.idle": "2021-03-30T14:57:02.276499Z",
     "shell.execute_reply": "2021-03-30T14:57:02.275689Z",
     "shell.execute_reply.started": "2021-03-30T14:57:02.266937Z"
    }
   },
   "outputs": [
    {
     "data": {
      "text/plain": [
       "(array({'time_tag': 297616560436264860, 'seq0': 0, 'chan0': 1022, 'nchan': 4, 'cfreq': 25609999.98729676, 'bw': 100000.0, 'nstand': 256, 'npol': 2, 'nbit': 4, 'complex': True, 'axes': 'time,chan,stand,pol'},\n",
       "       dtype=object),\n",
       " (512, 4, 256, 2))"
      ]
     },
     "execution_count": 12,
     "metadata": {},
     "output_type": "execute_result"
    }
   ],
   "source": [
    "voltages[\"hdr\"], voltages[\"data\"].shape"
   ]
  },
  {
   "cell_type": "code",
   "execution_count": 13,
   "metadata": {
    "execution": {
     "iopub.execute_input": "2021-03-30T14:57:02.277551Z",
     "iopub.status.busy": "2021-03-30T14:57:02.277340Z",
     "iopub.status.idle": "2021-03-30T14:57:02.476330Z",
     "shell.execute_reply": "2021-03-30T14:57:02.475809Z",
     "shell.execute_reply.started": "2021-03-30T14:57:02.277522Z"
    }
   },
   "outputs": [
    {
     "data": {
      "text/plain": [
       "(array({'time_tag': 297616560436264860, 'seq0': 0, 'chan0': 1022, 'nchan': 4, 'cfreq': 25609999.98729676, 'bw': 100000.0, 'nstand': 256, 'npol': 4, 'nbit': 64, 'complex': True, 'axes': 'time,chan,pol,gridy,gridx', 'grid_size_x': 64, 'grid_size_y': 64, 'sampling_length_x': 0.49999887562843115, 'sampling_length_y': 0.49999887562843115, 'accumulation_time': 61.44, 'FS': 196000000.0, 'latitude': 34.348358, 'longitude': -106.885783, 'telescope': 'LWA-SV', 'data_units': 'UNCALIB', 'pols': ['xx', 'xy', 'yx', 'yy']},\n",
       "       dtype=object),\n",
       " (1, 512, 4, 2, 64, 64))"
      ]
     },
     "execution_count": 13,
     "metadata": {},
     "output_type": "execute_result"
    }
   ],
   "source": [
    "image[\"hdr\"], image[\"data\"].shape"
   ]
  },
  {
   "cell_type": "code",
   "execution_count": 14,
   "metadata": {
    "execution": {
     "iopub.execute_input": "2021-03-30T14:57:02.477441Z",
     "iopub.status.busy": "2021-03-30T14:57:02.477245Z",
     "iopub.status.idle": "2021-03-30T14:57:02.671975Z",
     "shell.execute_reply": "2021-03-30T14:57:02.671006Z",
     "shell.execute_reply.started": "2021-03-30T14:57:02.477420Z"
    }
   },
   "outputs": [],
   "source": [
    "lwasv_antennas = lwasv.antennas\n",
    "obstime = Time(img_hdr[\"time_tag\"] / img_hdr[\"FS\"], format=\"unix\")\n",
    "lon = img_hdr[\"longitude\"] * units.deg\n",
    "lat = img_hdr[\"latitude\"] * units.deg\n",
    "grid_size = img_hdr[\"grid_size_x\"]\n",
    "ntime_gulp = image[\"data\"].shape[1]\n",
    "chan_bw = img_hdr[\"bw\"]\n",
    "chan0 = img_hdr[\"chan0\"]\n",
    "cfreq = img_hdr[\"cfreq\"]\n",
    "nchan = img_hdr[\"nchan\"]\n",
    "npol = voltage_hdr[\"npol\"]\n",
    "npol_image = img_hdr[\"npol\"]\n",
    "skymodes1d = img_hdr[\"grid_size_x\"]\n",
    "ant_extent = 1\n",
    "freq = (cfreq + numpy.arange(nchan) * chan_bw)\n",
    "\n",
    "point_source=False\n",
    "ones_test=True"
   ]
  },
  {
   "cell_type": "code",
   "execution_count": 15,
   "metadata": {
    "execution": {
     "iopub.execute_input": "2021-03-30T14:57:02.673094Z",
     "iopub.status.busy": "2021-03-30T14:57:02.672896Z",
     "iopub.status.idle": "2021-03-30T14:57:02.677411Z",
     "shell.execute_reply": "2021-03-30T14:57:02.676786Z",
     "shell.execute_reply.started": "2021-03-30T14:57:02.673073Z"
    }
   },
   "outputs": [],
   "source": [
    "locations = numpy.array([(ant.stand.x, ant.stand.y, ant.stand.z) for ant in lwasv.antennas[::2]])\n",
    "locations[255, :] = 0.0\n",
    "nstand = locations.shape[0]\n",
    "delta, locs, sll = GenerateLocations(locations, freq, ntime_gulp, nchan, npol)"
   ]
  },
  {
   "cell_type": "code",
   "execution_count": 16,
   "metadata": {
    "execution": {
     "iopub.execute_input": "2021-03-30T14:57:02.678779Z",
     "iopub.status.busy": "2021-03-30T14:57:02.678544Z",
     "iopub.status.idle": "2021-03-30T14:57:03.020942Z",
     "shell.execute_reply": "2021-03-30T14:57:03.019773Z",
     "shell.execute_reply.started": "2021-03-30T14:57:02.678749Z"
    }
   },
   "outputs": [
    {
     "name": "stderr",
     "output_type": "stream",
     "text": [
      "<ipython-input-4-21b95f273059>:7: RuntimeWarning: invalid value encountered in sqrt\n",
      "  lm_vector[..., 2] = numpy.sqrt(1 - lm_vector[..., 0] ** 2 - lm_vector[..., 1] ** 2)\n"
     ]
    }
   ],
   "source": [
    "gpu_locs = bifrost.ndarray(locs.astype(numpy.int32).copy(), space=\"cuda\")\n",
    "\n",
    "phases = get_phases(lwasv, nchan, nstand, npol)\n",
    "lm_matrix = make_lm_matrix(skymodes1d)"
   ]
  },
  {
   "cell_type": "code",
   "execution_count": 17,
   "metadata": {
    "execution": {
     "iopub.execute_input": "2021-03-30T14:57:03.022032Z",
     "iopub.status.busy": "2021-03-30T14:57:03.021837Z",
     "iopub.status.idle": "2021-03-30T14:57:03.025729Z",
     "shell.execute_reply": "2021-03-30T14:57:03.024937Z",
     "shell.execute_reply.started": "2021-03-30T14:57:03.022011Z"
    }
   },
   "outputs": [],
   "source": [
    "site_loc = EarthLocation.from_geodetic(\n",
    "    lwasv.lon * (180.0 / numpy.pi),\n",
    "    lwasv.lat * (180.0 / numpy.pi),\n",
    "    height=1511 * units.m,\n",
    ")"
   ]
  },
  {
   "cell_type": "code",
   "execution_count": 18,
   "metadata": {
    "execution": {
     "iopub.execute_input": "2021-03-30T14:57:03.027088Z",
     "iopub.status.busy": "2021-03-30T14:57:03.026825Z",
     "iopub.status.idle": "2021-03-30T14:57:03.035975Z",
     "shell.execute_reply": "2021-03-30T14:57:03.035099Z",
     "shell.execute_reply.started": "2021-03-30T14:57:03.027058Z"
    }
   },
   "outputs": [
    {
     "data": {
      "text/plain": [
       "array([378386.40795936, 375448.63639848, 372544.94554333, 369674.81027073])"
      ]
     },
     "execution_count": 18,
     "metadata": {},
     "output_type": "execute_result"
    }
   ],
   "source": [
    " numpy.asarray(2 * FCNST.Boltzmann * (FCNST.speed_of_light / freq)**2 * 10**26, dtype=numpy.float64)"
   ]
  },
  {
   "cell_type": "code",
   "execution_count": 20,
   "metadata": {
    "execution": {
     "iopub.execute_input": "2021-03-30T14:59:17.244511Z",
     "iopub.status.busy": "2021-03-30T14:59:17.243935Z",
     "iopub.status.idle": "2021-03-30T14:59:19.304412Z",
     "shell.execute_reply": "2021-03-30T14:59:19.303321Z",
     "shell.execute_reply.started": "2021-03-30T14:59:17.244458Z"
    }
   },
   "outputs": [],
   "source": [
    "if point_source:\n",
    "    radec = numpy.array([[5.233686583, 0.71094094367], [6.12377129663, 1.02645722192]])\n",
    "    fluxes = src_flux = numpy.array([20539.0, 19328.0])\n",
    "    fluxes[1] *= 0.57 # a fudging factor because it is down in the beam\n",
    "    # radec = radec[1]\n",
    "    # fluxes = fluxes[1]\n",
    "    fluxes = numpy.atleast_1d(fluxes)\n",
    "    radec = numpy.atleast_2d(radec)\n",
    "    sou_info = SkyCoord(\n",
    "        ra=radec[:, 0] * units.rad, dec=radec[:, 1] * units.rad, frame=\"icrs\",\n",
    "    )\n",
    "else:\n",
    "  \n",
    "    gsm2008 = GlobalSkyModel(freq_unit=\"Hz\")\n",
    "    fluxes = gsm2008.generate(freq)\n",
    "    fluxes = hp.pixelfunc.ud_grade(fluxes, 16)\n",
    "    gsm2008_coords = HEALPix(ahp.npix_to_nside(fluxes.shape[1]), frame=Galactic())\n",
    "    sou_info = gsm2008_coords.healpix_to_skycoord(numpy.arange(gsm2008_coords.npix))\n",
    "    sou_info = sou_info.transform_to(\"icrs\")\n",
    "    \n",
    "    fluxes *= numpy.asarray(2 * FCNST.Boltzmann * (FCNST.speed_of_light / freq)**2 * 10**26, dtype=numpy.float64)[:, numpy.newaxis] # Jy/str\n",
    "\n",
    "\n",
    "app_coord_data = sou_info.transform_to(\n",
    "    TETE(location=site_loc, obstime=obstime)\n",
    ")"
   ]
  },
  {
   "cell_type": "code",
   "execution_count": 35,
   "metadata": {
    "execution": {
     "iopub.execute_input": "2021-03-30T15:01:32.154447Z",
     "iopub.status.busy": "2021-03-30T15:01:32.153859Z",
     "iopub.status.idle": "2021-03-30T15:01:32.301442Z",
     "shell.execute_reply": "2021-03-30T15:01:32.300110Z",
     "shell.execute_reply.started": "2021-03-30T15:01:32.154393Z"
    }
   },
   "outputs": [],
   "source": [
    "lm_coords = numpy.sin(app_coord_data.altaz.zen).reshape(-1, 1)* numpy.asarray([numpy.cos(app_coord_data.altaz.az), numpy.sin(app_coord_data.altaz.az)]).T\n",
    "good_pix = app_coord_data.altaz.zen.deg <= 90   \n",
    "lm_coords = lm_coords[good_pix]\n",
    "\n",
    "if point_source: \n",
    "    cal_source_flux = numpy.broadcast_to(fluxes[:, numpy.newaxis, numpy.newaxis], (fluxes.shape[0], nchan, npol))\n",
    "    \n",
    "elif ones_test:\n",
    "    lm_coords= numpy.atleast_2d([0,0])\n",
    "    cal_source_flux = numpy.asarray([1.])\n",
    "    cal_source_flux = numpy.broadcast_to(cal_source_flux[:, numpy.newaxis, numpy.newaxis], (cal_source_flux.shape[0], nchan, npol))\n",
    "    \n",
    "else:\n",
    "    cal_source_flux = fluxes[..., good_pix].T\n",
    "    inds = numpy.argsort(cal_source_flux, axis=0)[:100]\n",
    "    \n",
    "    cal_source_flux = numpy.take(cal_source_flux, inds)\n",
    "    \n",
    "    cal_source_flux = numpy.broadcast_to(cal_source_flux[:, :, numpy.newaxis], (cal_source_flux.shape[0], nchan, npol))\n",
    "    \n",
    "    lm_coords = lm_coords[inds[:, 0]]\n",
    "    "
   ]
  },
  {
   "cell_type": "code",
   "execution_count": 29,
   "metadata": {
    "execution": {
     "iopub.execute_input": "2021-03-30T15:00:32.129446Z",
     "iopub.status.busy": "2021-03-30T15:00:32.128885Z",
     "iopub.status.idle": "2021-03-30T15:00:32.140963Z",
     "shell.execute_reply": "2021-03-30T15:00:32.139852Z",
     "shell.execute_reply.started": "2021-03-30T15:00:32.129393Z"
    }
   },
   "outputs": [],
   "source": [
    "input_vs = voltages[\"data\"]\n",
    "\n",
    "if ones_test:\n",
    "    input_vs = numpy.ones_like(input_vs)\n",
    "    "
   ]
  },
  {
   "cell_type": "code",
   "execution_count": 32,
   "metadata": {
    "execution": {
     "iopub.execute_input": "2021-03-30T15:00:59.750240Z",
     "iopub.status.busy": "2021-03-30T15:00:59.749693Z",
     "iopub.status.idle": "2021-03-30T15:01:00.217093Z",
     "shell.execute_reply": "2021-03-30T15:01:00.216307Z",
     "shell.execute_reply.started": "2021-03-30T15:00:59.750188Z"
    }
   },
   "outputs": [],
   "source": [
    "voltage_stream_c14 = bifrost.ndarray(shape=input_vs.shape, buffer=input_vs.ctypes.data, native=False, dtype=\"ci4\", space=\"system\")\n",
    "cal_vs = voltage_stream_c14.copy()\n",
    "gpu_cal_vs = cal_vs.copy(space=\"cuda\")\n",
    "\n",
    "voltage_stream_c14 = voltage_stream_c14.transpose([1,3,2,0])\n",
    "voltage_stream_c14 = voltage_stream_c14.copy()\n",
    "voltage_stream_c14 = voltage_stream_c14.copy(space=\"cuda\")\n",
    "\n",
    "vdata = bifrost.ndarray(shape=voltage_stream_c14.shape, dtype=numpy.complex64, space=\"cuda\")\n",
    "Unpack(voltage_stream_c14, vdata)\n",
    "\n",
    "voltage_stream = vdata.copy(\"system\")\n",
    "\n",
    "# voltage_stream = bifrost.ndarray(numpy.ascontiguousarray(voltage_stream.transpose([1,3,2,0])))\n",
    "# vdata = voltage_stream.copy(space=\"cuda\")\n",
    "efield_system =  image[\"data\"]\n",
    "efield_cal_image = bifrost.ndarray(\n",
    "    image[\"data\"],\n",
    "    dtype=numpy.complex64,\n",
    "    space=\"cuda\",\n",
    ")"
   ]
  },
  {
   "cell_type": "code",
   "execution_count": 37,
   "metadata": {
    "execution": {
     "iopub.execute_input": "2021-03-30T15:01:37.213013Z",
     "iopub.status.busy": "2021-03-30T15:01:37.212467Z",
     "iopub.status.idle": "2021-03-30T15:01:37.229701Z",
     "shell.execute_reply": "2021-03-30T15:01:37.229113Z",
     "shell.execute_reply.started": "2021-03-30T15:01:37.212961Z"
    }
   },
   "outputs": [],
   "source": [
    "max_inds = numpy.ascontiguousarray(\n",
    "    numpy.atleast_2d(\n",
    "        numpy.asarray(\n",
    "            numpy.unravel_index(\n",
    "                numpy.argmin(\n",
    "                    (lm_matrix[:, :, 0].reshape(-1, 1) - lm_coords[numpy.newaxis, :, 0]) ** 2\n",
    "                    + (lm_matrix[:, :, 1].reshape(-1, 1) - lm_coords[numpy.newaxis, :, 1]) ** 2,\n",
    "                    axis=0,\n",
    "                ),\n",
    "                lm_matrix.shape[:2]\n",
    "            )\n",
    "        ).T\n",
    "    )\n",
    ")\n",
    "\n",
    "g_inds = bifrost.ndarray(max_inds).copy()\n",
    "g_inds = g_inds.copy(space=\"cuda\")"
   ]
  },
  {
   "cell_type": "code",
   "execution_count": 38,
   "metadata": {
    "execution": {
     "iopub.execute_input": "2021-03-30T15:01:38.714801Z",
     "iopub.status.busy": "2021-03-30T15:01:38.714256Z",
     "iopub.status.idle": "2021-03-30T15:01:38.721847Z",
     "shell.execute_reply": "2021-03-30T15:01:38.720714Z",
     "shell.execute_reply.started": "2021-03-30T15:01:38.714750Z"
    }
   },
   "outputs": [],
   "source": [
    "max_locations_lm = lm_matrix[max_inds[:, 0], max_inds[:,1], :2]\n",
    "\n",
    "cal_pixels = efield_system[0,:, :, :, max_inds[:, 0], max_inds[:,1]].transpose([0,2,3,1])\n",
    "n_cal_sources = max_inds.shape[0]"
   ]
  },
  {
   "cell_type": "code",
   "execution_count": 39,
   "metadata": {
    "execution": {
     "iopub.execute_input": "2021-03-30T15:01:40.382510Z",
     "iopub.status.busy": "2021-03-30T15:01:40.381934Z",
     "iopub.status.idle": "2021-03-30T15:01:40.557853Z",
     "shell.execute_reply": "2021-03-30T15:01:40.557118Z",
     "shell.execute_reply.started": "2021-03-30T15:01:40.382457Z"
    }
   },
   "outputs": [],
   "source": [
    "cal_obj = EPICal(\n",
    "    locs.transpose(3, 2, 4, 0, 1)[...,0],\n",
    "    cal_source_flux=cal_source_flux,\n",
    "    cal_source_locs=lm_coords,\n",
    "    lm_grid=lm_matrix,\n",
    "    n_iter=1,\n",
    "    exclude_autos=True,\n",
    "    ref_ant=0,\n",
    "    damping_factor=0.5,\n",
    "    flatten_array=True,\n",
    "    current_gains=phases.transpose([1,0,2]),\n",
    ")"
   ]
  },
  {
   "cell_type": "code",
   "execution_count": 40,
   "metadata": {
    "execution": {
     "iopub.execute_input": "2021-03-30T15:01:42.618146Z",
     "iopub.status.busy": "2021-03-30T15:01:42.617621Z",
     "iopub.status.idle": "2021-03-30T15:01:43.383567Z",
     "shell.execute_reply": "2021-03-30T15:01:43.382883Z",
     "shell.execute_reply.started": "2021-03-30T15:01:42.618094Z"
    }
   },
   "outputs": [
    {
     "name": "stdout",
     "output_type": "stream",
     "text": [
      "Converged in 50 iterations. Final change: 7.819825645990034e-07\n"
     ]
    }
   ],
   "source": [
    "cal_obj.estimate_gains(cal_vs, efield_cal_image)"
   ]
  },
  {
   "cell_type": "code",
   "execution_count": 41,
   "metadata": {
    "execution": {
     "iopub.execute_input": "2021-03-30T15:02:35.920681Z",
     "iopub.status.busy": "2021-03-30T15:02:35.920122Z",
     "iopub.status.idle": "2021-03-30T15:02:35.928026Z",
     "shell.execute_reply": "2021-03-30T15:02:35.926903Z",
     "shell.execute_reply.started": "2021-03-30T15:02:35.920630Z"
    }
   },
   "outputs": [
    {
     "data": {
      "text/plain": [
       "(1, 256, 256, 4, 2)"
      ]
     },
     "execution_count": 41,
     "metadata": {},
     "output_type": "execute_result"
    }
   ],
   "source": [
    "cal_obj.model_vis.shape"
   ]
  },
  {
   "cell_type": "code",
   "execution_count": 42,
   "metadata": {
    "execution": {
     "iopub.execute_input": "2021-03-30T15:02:37.173384Z",
     "iopub.status.busy": "2021-03-30T15:02:37.172901Z",
     "iopub.status.idle": "2021-03-30T15:02:37.177619Z",
     "shell.execute_reply": "2021-03-30T15:02:37.176337Z",
     "shell.execute_reply.started": "2021-03-30T15:02:37.173335Z"
    }
   },
   "outputs": [],
   "source": [
    "# for i in range(8):\n",
    "#     cal_obj.estimate_gains(cal_vs, efield_cal_image)"
   ]
  },
  {
   "cell_type": "code",
   "execution_count": 43,
   "metadata": {
    "execution": {
     "iopub.execute_input": "2021-03-30T15:02:37.330206Z",
     "iopub.status.busy": "2021-03-30T15:02:37.329722Z",
     "iopub.status.idle": "2021-03-30T15:02:37.334431Z",
     "shell.execute_reply": "2021-03-30T15:02:37.333220Z",
     "shell.execute_reply.started": "2021-03-30T15:02:37.330158Z"
    }
   },
   "outputs": [],
   "source": [
    "# cal_obj.estimate_gains(cal_vs, efield_cal_image)"
   ]
  },
  {
   "cell_type": "code",
   "execution_count": 44,
   "metadata": {
    "execution": {
     "iopub.execute_input": "2021-03-30T15:02:37.909782Z",
     "iopub.status.busy": "2021-03-30T15:02:37.909246Z",
     "iopub.status.idle": "2021-03-30T15:02:37.925069Z",
     "shell.execute_reply": "2021-03-30T15:02:37.924407Z",
     "shell.execute_reply.started": "2021-03-30T15:02:37.909732Z"
    }
   },
   "outputs": [],
   "source": [
    "crosspol_pre = bifrost.zeros(\n",
    "    shape=(ntime_gulp, nchan, npol ** 2, grid_size, grid_size),\n",
    "    dtype=numpy.complex64,\n",
    "    space=\"cuda\",\n",
    ")\n",
    "\n",
    "image_pre = bifrost.zeros(\n",
    "    shape=(1, nchan, npol ** 2, grid_size, grid_size),\n",
    "    dtype=numpy.complex64,\n",
    "    space=\"cuda\"\n",
    ")"
   ]
  },
  {
   "cell_type": "code",
   "execution_count": 45,
   "metadata": {
    "execution": {
     "iopub.execute_input": "2021-03-30T15:02:38.663947Z",
     "iopub.status.busy": "2021-03-30T15:02:38.663407Z",
     "iopub.status.idle": "2021-03-30T15:02:38.849680Z",
     "shell.execute_reply": "2021-03-30T15:02:38.847894Z",
     "shell.execute_reply.started": "2021-03-30T15:02:38.663894Z"
    }
   },
   "outputs": [],
   "source": [
    "bifrost.map(\n",
    "    \"a(i,j,p,k,l) += b(0,i,j,p/2,k,l)*b(0,i,j,p%2,k,l).conj()\",\n",
    "    {\"a\": crosspol_pre, \"b\": efield_cal_image},\n",
    "    axis_names=(\"i\", \"j\", \"p\", \"k\", \"l\"),\n",
    "    shape=(ntime_gulp, nchan, npol ** 2, grid_size, grid_size),\n",
    ")\n",
    "crosspol_pre = crosspol_pre.reshape(\n",
    "    ntime_gulp, nchan, npol ** 2, grid_size, grid_size\n",
    ")\n",
    "\n",
    "bifrost.reduce(crosspol_pre, image_pre, op=\"sum\")"
   ]
  },
  {
   "cell_type": "code",
   "execution_count": 46,
   "metadata": {
    "execution": {
     "iopub.execute_input": "2021-03-30T15:02:39.177182Z",
     "iopub.status.busy": "2021-03-30T15:02:39.176667Z",
     "iopub.status.idle": "2021-03-30T15:02:39.184568Z",
     "shell.execute_reply": "2021-03-30T15:02:39.183194Z",
     "shell.execute_reply.started": "2021-03-30T15:02:39.177125Z"
    }
   },
   "outputs": [],
   "source": [
    "gridded_cal_data = bifrost.zeros(\n",
    "    shape=(ntime_gulp, nchan, npol, grid_size, grid_size),\n",
    "    dtype=numpy.complex64,\n",
    "    space=\"cuda\",\n",
    ")"
   ]
  },
  {
   "cell_type": "code",
   "execution_count": 47,
   "metadata": {
    "execution": {
     "iopub.execute_input": "2021-03-30T15:02:39.388502Z",
     "iopub.status.busy": "2021-03-30T15:02:39.388178Z",
     "iopub.status.idle": "2021-03-30T15:02:39.400608Z",
     "shell.execute_reply": "2021-03-30T15:02:39.399746Z",
     "shell.execute_reply.started": "2021-03-30T15:02:39.388470Z"
    }
   },
   "outputs": [],
   "source": [
    "cal_gains =  numpy.broadcast_to(\n",
    "    cal_obj.get_gains().transpose([1,0,2])[numpy.newaxis, :, :, :, numpy.newaxis, numpy.newaxis],\n",
    "    (ntime_gulp, nchan, nstand, npol, ant_extent, ant_extent)\n",
    ")\n",
    "\n",
    "g_cal_gains = bifrost.ndarray(cal_gains).copy()\n",
    "g_cal_gains = g_cal_gains.copy(space=\"cuda\")\n"
   ]
  },
  {
   "cell_type": "code",
   "execution_count": 48,
   "metadata": {
    "execution": {
     "iopub.execute_input": "2021-03-30T15:02:39.706033Z",
     "iopub.status.busy": "2021-03-30T15:02:39.705558Z",
     "iopub.status.idle": "2021-03-30T15:02:39.711322Z",
     "shell.execute_reply": "2021-03-30T15:02:39.710139Z",
     "shell.execute_reply.started": "2021-03-30T15:02:39.705987Z"
    }
   },
   "outputs": [],
   "source": [
    "bf_romein_cal = Romein()\n",
    "bf_romein_cal.init(gpu_locs, g_cal_gains, grid_size, polmajor=False)"
   ]
  },
  {
   "cell_type": "code",
   "execution_count": 49,
   "metadata": {
    "execution": {
     "iopub.execute_input": "2021-03-30T15:02:44.517376Z",
     "iopub.status.busy": "2021-03-30T15:02:44.516779Z",
     "iopub.status.idle": "2021-03-30T15:02:44.523419Z",
     "shell.execute_reply": "2021-03-30T15:02:44.522108Z",
     "shell.execute_reply.started": "2021-03-30T15:02:44.517324Z"
    }
   },
   "outputs": [],
   "source": [
    "bf_romein_cal.execute(gpu_cal_vs, gridded_cal_data)\n",
    "gridded_cal_data = gridded_cal_data.reshape(ntime_gulp * nchan * npol, grid_size, grid_size)"
   ]
  },
  {
   "cell_type": "code",
   "execution_count": 50,
   "metadata": {
    "execution": {
     "iopub.execute_input": "2021-03-30T15:02:44.989845Z",
     "iopub.status.busy": "2021-03-30T15:02:44.989336Z",
     "iopub.status.idle": "2021-03-30T15:02:45.000534Z",
     "shell.execute_reply": "2021-03-30T15:02:44.999469Z",
     "shell.execute_reply.started": "2021-03-30T15:02:44.989796Z"
    }
   },
   "outputs": [],
   "source": [
    "bf_fft = Fft()\n",
    "bf_fft.init(gridded_cal_data, gridded_cal_data, axes=(1, 2))\n",
    "bf_fft.execute(gridded_cal_data,gridded_cal_data, inverse=True)\n",
    "gridded_cal_data = gridded_cal_data.reshape(\n",
    "    1, ntime_gulp, nchan, npol, grid_size, grid_size\n",
    ")"
   ]
  },
  {
   "cell_type": "code",
   "execution_count": 51,
   "metadata": {
    "execution": {
     "iopub.execute_input": "2021-03-30T15:02:45.257295Z",
     "iopub.status.busy": "2021-03-30T15:02:45.256840Z",
     "iopub.status.idle": "2021-03-30T15:02:45.265564Z",
     "shell.execute_reply": "2021-03-30T15:02:45.264209Z",
     "shell.execute_reply.started": "2021-03-30T15:02:45.257250Z"
    }
   },
   "outputs": [],
   "source": [
    "crosspol_post = bifrost.zeros(\n",
    "    shape=(ntime_gulp, nchan, npol ** 2, grid_size, grid_size),\n",
    "    dtype=numpy.complex64,\n",
    "    space=\"cuda\",\n",
    ")\n",
    "\n",
    "image_post = bifrost.zeros(\n",
    "    shape=(1, nchan, npol ** 2, grid_size, grid_size),\n",
    "    dtype=numpy.complex64,\n",
    "    space=\"cuda\"\n",
    ")"
   ]
  },
  {
   "cell_type": "code",
   "execution_count": 52,
   "metadata": {
    "execution": {
     "iopub.execute_input": "2021-03-30T15:02:45.545159Z",
     "iopub.status.busy": "2021-03-30T15:02:45.544828Z",
     "iopub.status.idle": "2021-03-30T15:02:45.550541Z",
     "shell.execute_reply": "2021-03-30T15:02:45.549555Z",
     "shell.execute_reply.started": "2021-03-30T15:02:45.545127Z"
    }
   },
   "outputs": [],
   "source": [
    " bifrost.map(\n",
    "    \"a(i,j,p,k,l) += b(0,i,j,p/2,k,l)*b(0,i,j,p%2,k,l).conj()\",\n",
    "    {\"a\": crosspol_post, \"b\": gridded_cal_data},\n",
    "    axis_names=(\"i\", \"j\", \"p\", \"k\", \"l\"),\n",
    "    shape=(ntime_gulp, nchan, npol ** 2, grid_size, grid_size),\n",
    ")\n",
    "    \n",
    "bifrost.reduce(crosspol_post, image_post, op=\"sum\")    "
   ]
  },
  {
   "cell_type": "code",
   "execution_count": 53,
   "metadata": {
    "execution": {
     "iopub.execute_input": "2021-03-30T15:02:46.293535Z",
     "iopub.status.busy": "2021-03-30T15:02:46.293180Z",
     "iopub.status.idle": "2021-03-30T15:02:46.299891Z",
     "shell.execute_reply": "2021-03-30T15:02:46.298636Z",
     "shell.execute_reply.started": "2021-03-30T15:02:46.293502Z"
    }
   },
   "outputs": [],
   "source": [
    "image_pre = image_pre.copy(space=\"system\")\n",
    "image_post = image_post.copy(space=\"system\")"
   ]
  },
  {
   "cell_type": "code",
   "execution_count": 54,
   "metadata": {
    "execution": {
     "iopub.execute_input": "2021-03-30T15:02:46.520474Z",
     "iopub.status.busy": "2021-03-30T15:02:46.519975Z",
     "iopub.status.idle": "2021-03-30T15:02:46.526450Z",
     "shell.execute_reply": "2021-03-30T15:02:46.525348Z",
     "shell.execute_reply.started": "2021-03-30T15:02:46.520424Z"
    }
   },
   "outputs": [],
   "source": [
    "image_pre = numpy.fft.fftshift(image_pre, axes=(3, 4))\n",
    "image_pre =  image_pre[:, :, :, ::-1, :]"
   ]
  },
  {
   "cell_type": "code",
   "execution_count": 55,
   "metadata": {
    "execution": {
     "iopub.execute_input": "2021-03-30T15:02:46.747710Z",
     "iopub.status.busy": "2021-03-30T15:02:46.747204Z",
     "iopub.status.idle": "2021-03-30T15:02:46.753559Z",
     "shell.execute_reply": "2021-03-30T15:02:46.752355Z",
     "shell.execute_reply.started": "2021-03-30T15:02:46.747661Z"
    }
   },
   "outputs": [],
   "source": [
    "image_post = numpy.fft.fftshift(image_post, axes=(3, 4))\n",
    "image_post =  image_post[:, :, :, ::-1, :]"
   ]
  },
  {
   "cell_type": "code",
   "execution_count": 73,
   "metadata": {
    "execution": {
     "iopub.execute_input": "2021-03-30T15:05:11.332720Z",
     "iopub.status.busy": "2021-03-30T15:05:11.332163Z",
     "iopub.status.idle": "2021-03-30T15:05:12.007989Z",
     "shell.execute_reply": "2021-03-30T15:05:12.007323Z",
     "shell.execute_reply.started": "2021-03-30T15:05:11.332667Z"
    }
   },
   "outputs": [
    {
     "data": {
      "image/png": "[encoded data removed]",
      "text/plain": [
       "<Figure size 1296x360 with 6 Axes>"
      ]
     },
     "metadata": {},
     "output_type": "display_data"
    }
   ],
   "source": [
    "fig, ax = plt.subplots(ncols=3, figsize=(18,5), facecolor=\"white\")\n",
    "\n",
    "# norm = LogNorm(vmax=1e7, vmin=1e-1)\n",
    "norm1 = Normalize(vmin=1e6, vmax=7e6)\n",
    "norm2 = Normalize(vmin=9e5, vmax=2e7)\n",
    "# norm2 = LogNorm(vmin=1e4, vmax=2e7)\n",
    "im = ax[0].pcolorfast(image_pre[0,0,0].real, norm=norm1)\n",
    "fig.colorbar(im, ax=ax[0]);\n",
    "ax[0].set_title(\"Pre Calibration\");\n",
    "\n",
    "im = ax[1].pcolorfast(image_post[0,0,0].real, norm=norm2)\n",
    "fig.colorbar(im, ax=ax[1]);\n",
    "ax[1].set_title(\"Post Calibration\");\n",
    "\n",
    "im = ax[2].pcolorfast((image_pre - image_post).real[0,0,0])\n",
    "fig.colorbar(im, ax=ax[2]);\n",
    "ax[2].set_title(\"Diff\");\n"
   ]
  },
  {
   "cell_type": "code",
   "execution_count": 57,
   "metadata": {
    "execution": {
     "iopub.execute_input": "2021-03-30T15:02:47.510810Z",
     "iopub.status.busy": "2021-03-30T15:02:47.510596Z",
     "iopub.status.idle": "2021-03-30T15:02:47.515210Z",
     "shell.execute_reply": "2021-03-30T15:02:47.514550Z",
     "shell.execute_reply.started": "2021-03-30T15:02:47.510789Z"
    }
   },
   "outputs": [
    {
     "data": {
      "text/plain": [
       "(2784605.2, 563220.8)"
      ]
     },
     "execution_count": 57,
     "metadata": {},
     "output_type": "execute_result"
    }
   ],
   "source": [
    "image_pre[0,0,0].real[25, 5] ,image_post[0,0,0].real[25, 5]"
   ]
  },
  {
   "cell_type": "code",
   "execution_count": 58,
   "metadata": {
    "execution": {
     "iopub.execute_input": "2021-03-30T15:02:47.877525Z",
     "iopub.status.busy": "2021-03-30T15:02:47.876940Z",
     "iopub.status.idle": "2021-03-30T15:02:47.886451Z",
     "shell.execute_reply": "2021-03-30T15:02:47.885240Z",
     "shell.execute_reply.started": "2021-03-30T15:02:47.877469Z"
    }
   },
   "outputs": [
    {
     "data": {
      "text/plain": [
       "(0.1906534375, 0.772711)"
      ]
     },
     "execution_count": 58,
     "metadata": {},
     "output_type": "execute_result"
    }
   ],
   "source": [
    "image_pre[0,0,0].real.min()/1e7, image_pre[0,0,0].real.max()/1e7"
   ]
  },
  {
   "cell_type": "code",
   "execution_count": 72,
   "metadata": {
    "execution": {
     "iopub.execute_input": "2021-03-30T15:04:57.228785Z",
     "iopub.status.busy": "2021-03-30T15:04:57.228223Z",
     "iopub.status.idle": "2021-03-30T15:04:57.238012Z",
     "shell.execute_reply": "2021-03-30T15:04:57.236749Z",
     "shell.execute_reply.started": "2021-03-30T15:04:57.228729Z"
    }
   },
   "outputs": [
    {
     "data": {
      "text/plain": [
       "(5.2979249954223635e-05, 2.066014)"
      ]
     },
     "execution_count": 72,
     "metadata": {},
     "output_type": "execute_result"
    }
   ],
   "source": [
    "image_post[0,0,0].real.min()/1e5, image_post[0,0,0].real.max()/1e7"
   ]
  },
  {
   "cell_type": "code",
   "execution_count": 60,
   "metadata": {
    "execution": {
     "iopub.execute_input": "2021-03-30T15:02:49.300854Z",
     "iopub.status.busy": "2021-03-30T15:02:49.300338Z",
     "iopub.status.idle": "2021-03-30T15:02:49.308893Z",
     "shell.execute_reply": "2021-03-30T15:02:49.307552Z",
     "shell.execute_reply.started": "2021-03-30T15:02:49.300804Z"
    }
   },
   "outputs": [
    {
     "data": {
      "text/plain": [
       "(array([[0., 0., 1.]]), array([[0., 0., 1.]]), ndarray([[0, 0]]))"
      ]
     },
     "execution_count": 60,
     "metadata": {},
     "output_type": "execute_result"
    }
   ],
   "source": [
    "cal_obj.cal_pixel_locs ,cal_obj.cal_source_locs, cal_obj.cal_pixel_inds"
   ]
  },
  {
   "cell_type": "code",
   "execution_count": 126,
   "metadata": {
    "execution": {
     "iopub.execute_input": "2021-03-29T23:06:13.333579Z",
     "iopub.status.busy": "2021-03-29T23:06:13.333267Z",
     "iopub.status.idle": "2021-03-29T23:06:13.341150Z",
     "shell.execute_reply": "2021-03-29T23:06:13.340285Z",
     "shell.execute_reply.started": "2021-03-29T23:06:13.333546Z"
    }
   },
   "outputs": [
    {
     "name": "stderr",
     "output_type": "stream",
     "text": [
      "<ipython-input-126-ac470c94e825>:1: RuntimeWarning: invalid value encountered in sqrt\n",
      "  numpy.sqrt(1-cal_obj.cal_pixel_locs[:,0]**2 - cal_obj.cal_pixel_locs[:,1]**2)\n"
     ]
    },
    {
     "data": {
      "text/plain": [
       "array([0.08267973,        nan, 0.15309311,        nan, 0.19263794,\n",
       "       0.07654655, 0.15309311, 0.08267973, 0.19263794,        nan,\n",
       "              nan, 0.22963966, 0.21650635, 0.10364452, 0.19263794,\n",
       "       0.21650635, 0.2400358 , 0.19515619, 0.10364452, 0.12103073,\n",
       "       0.36975499, 0.27063294, 0.34657927, 0.22963966, 0.08267973,\n",
       "       0.31093357, 0.3617449 , 0.63584344, 0.22963966, 0.2400358 ,\n",
       "       0.54036301, 0.10364452, 0.60191751,        nan,        nan,\n",
       "       0.20728905, 0.41809651, 0.15309311,        nan, 0.44524396,\n",
       "       0.2914806 ,        nan, 0.37888611, 0.12103073, 0.21423921,\n",
       "       0.55463248, 0.36975499,        nan, 0.19263794, 0.49607837])"
      ]
     },
     "execution_count": 126,
     "metadata": {},
     "output_type": "execute_result"
    }
   ],
   "source": [
    "numpy.sqrt(1-cal_obj.cal_pixel_locs[:,0]**2 - cal_obj.cal_pixel_locs[:,1]**2)"
   ]
  },
  {
   "cell_type": "code",
   "execution_count": 127,
   "metadata": {
    "execution": {
     "iopub.execute_input": "2021-03-29T23:06:13.433090Z",
     "iopub.status.busy": "2021-03-29T23:06:13.432672Z",
     "iopub.status.idle": "2021-03-29T23:06:13.442675Z",
     "shell.execute_reply": "2021-03-29T23:06:13.441706Z",
     "shell.execute_reply.started": "2021-03-29T23:06:13.433047Z"
    }
   },
   "outputs": [
    {
     "data": {
      "text/latex": [
       "$[0.00034514376,~0.065187683,~0.0069758023,~0.036220207,~0.13412225,~0.074217267,~0.10431582,~0.093826553,~0.025665403,~0.043873696,~0.082520156,~0.19269095,~0.23609951,~0.028516574,~0.20574536,~0.16359357,~0.17501932,~0.1439703,~0.12208795,~0.013336203,~0.39749085,~0.30464763,~0.35641695,~0.26602701,~0.083841255,~0.30631167,~0.35225676,~0.64212031,~0.14992598,~0.2562905,~0.53702982,~0.056363476,~0.60748851,~0.077647755,~0.1570773,~0.21489246,~0.41945995,~0.053794763,~0.052741762,~0.46015371,~0.30955882,~0.0025553175,~0.38303686,~0.11264631,~0.076121463,~0.57330721,~0.32427369,~0.030798484,~0.028901355,~0.49931037] \\; \\mathrm{}$"
      ],
      "text/plain": [
       "<Quantity [3.45143763e-04, 6.51876830e-02, 6.97580225e-03, 3.62202074e-02,\n",
       "           1.34122254e-01, 7.42172666e-02, 1.04315817e-01, 9.38265532e-02,\n",
       "           2.56654032e-02, 4.38736955e-02, 8.25201559e-02, 1.92690950e-01,\n",
       "           2.36099507e-01, 2.85165745e-02, 2.05745365e-01, 1.63593565e-01,\n",
       "           1.75019324e-01, 1.43970303e-01, 1.22087947e-01, 1.33362034e-02,\n",
       "           3.97490851e-01, 3.04647631e-01, 3.56416953e-01, 2.66027010e-01,\n",
       "           8.38412553e-02, 3.06311667e-01, 3.52256765e-01, 6.42120308e-01,\n",
       "           1.49925981e-01, 2.56290505e-01, 5.37029823e-01, 5.63634756e-02,\n",
       "           6.07488513e-01, 7.76477551e-02, 1.57077303e-01, 2.14892458e-01,\n",
       "           4.19459947e-01, 5.37947626e-02, 5.27417623e-02, 4.60153707e-01,\n",
       "           3.09558816e-01, 2.55531748e-03, 3.83036864e-01, 1.12646314e-01,\n",
       "           7.61214625e-02, 5.73307206e-01, 3.24273693e-01, 3.07984837e-02,\n",
       "           2.89013549e-02, 4.99310373e-01]>"
      ]
     },
     "execution_count": 127,
     "metadata": {},
     "output_type": "execute_result"
    }
   ],
   "source": [
    "numpy.sqrt(1-lm_coords[:,0]**2 - lm_coords[:,1]**2)"
   ]
  },
  {
   "cell_type": "code",
   "execution_count": null,
   "metadata": {
    "execution": {
     "iopub.status.busy": "2021-03-29T22:13:27.293716Z",
     "iopub.status.idle": "2021-03-29T22:13:27.294017Z"
    }
   },
   "outputs": [],
   "source": [
    "uvws = cal_obj.locations[numpy.newaxis]  - cal_obj.locations[:, numpy.newaxis]\n",
    "model_vis = (\n",
    "    cal_obj.cal_source_flux[:, numpy.newaxis, numpy.newaxis, :, :] \n",
    "    * numpy.exp(\n",
    "        -1j * 2 * numpy.pi \n",
    "        * numpy.sum(\n",
    "            cal_obj.cal_source_locs[:, numpy.newaxis, numpy.newaxis, numpy.newaxis, numpy.newaxis, :]\n",
    "            * uvws[numpy.newaxis, :, : , :, :, :],\n",
    "            axis=-1,\n",
    "        ),\n",
    "    ).astype(numpy.complex64)\n",
    ")"
   ]
  },
  {
   "cell_type": "code",
   "execution_count": 90,
   "metadata": {
    "execution": {
     "iopub.execute_input": "2021-03-30T15:09:10.229741Z",
     "iopub.status.busy": "2021-03-30T15:09:10.229158Z",
     "iopub.status.idle": "2021-03-30T15:09:10.243595Z",
     "shell.execute_reply": "2021-03-30T15:09:10.242660Z",
     "shell.execute_reply.started": "2021-03-30T15:09:10.229687Z"
    }
   },
   "outputs": [
    {
     "data": {
      "text/plain": [
       "(array([[[ 0.49122309+0.86924905j,  0.61307464+0.90547675j],\n",
       "         [ 4.06980638+0.9025616j ,  4.30317741+0.87755126j],\n",
       "         [ 4.00791165+0.89503407j,  4.42191658+0.80931592j],\n",
       "         [ 5.72010025+0.84691411j,  4.5953572 +0.70380723j]],\n",
       " \n",
       "        [[-0.1642593 -0.24773979j, -0.27818722+0.45913114j],\n",
       "         [ 3.35539679-0.12461057j,  3.50684052+0.68207304j],\n",
       "         [ 3.11995938+0.11997097j,  3.59832731+0.83492901j],\n",
       "         [ 4.7991405 +0.33436558j,  3.79684201+0.95435336j]],\n",
       " \n",
       "        [[ 1.08094301-0.97513933j,  0.42372486-0.95389689j],\n",
       "         [ 4.49497761-0.92308667j,  3.76898788-0.60180315j],\n",
       "         [ 3.95378558-0.88454178j,  3.48308788-0.49617134j],\n",
       "         [ 5.31490998-0.70165252j,  3.29469906-0.32763438j]],\n",
       " \n",
       "        ...,\n",
       " \n",
       "        [[ 1.78263776+0.48865559j,  1.62268841-0.16522028j],\n",
       "         [ 5.3161844 +0.36645001j,  4.91483495-0.26624175j],\n",
       "         [ 5.04443516+0.03377552j,  4.67820439-0.53278614j],\n",
       "         [ 6.45798551-0.18375247j,  4.43046873-0.73596728j]],\n",
       " \n",
       "        [[-0.21429461-0.2764491j , -0.31639242+0.50204859j],\n",
       "         [ 3.30058765-0.12466127j,  3.49905517+0.73883556j],\n",
       "         [ 3.07191628+0.15636517j,  3.62486761+0.90326117j],\n",
       "         [ 4.771187  +0.39543395j,  3.86385976+1.01916014j]],\n",
       " \n",
       "        [[ 0.99230516+1.70949535j,  0.39908533+1.67233655j],\n",
       "         [ 5.67904387+0.96208582j,  5.21446326+1.03492457j],\n",
       "         [ 5.46318787-0.61324097j,  5.38901265-0.38224994j],\n",
       "         [ 5.80206141-1.30603002j,  4.25830449-1.33599546j]]]),\n",
       " array([[[-0.4910792 -1.7384981j ,  0.07712282-1.8109535j ],\n",
       "         [-0.11225954-1.8051232j ,  0.46124524-1.7551025j ],\n",
       "         [ 0.27252203-1.7900681j ,  0.82510453-1.6186318j ],\n",
       "         [ 0.6458339 -1.6938282j ,  1.1519657 -1.4076145j ]],\n",
       " \n",
       "        [[-1.8521883 +0.40244967j, -1.71228   -0.84377915j],\n",
       "         [-1.8974704 -0.03385584j, -1.4713141 -1.2199602j ],\n",
       "         [-1.8412355 -0.46943504j, -1.1491532 -1.5302685j ],\n",
       "         [-1.686244  -0.8809544j , -0.763241  -1.757541j  ]],\n",
       " \n",
       "        [[ 0.52551293+1.9161452j , -0.19417702+1.9850979j ],\n",
       "         [ 0.03524733+1.9892514j , -0.6827677 +1.8769326j ],\n",
       "         [-0.4585239 +1.9387405j , -1.129694  +1.6503263j ],\n",
       "         [-0.9250751 +1.7674268j , -1.5067086 +1.319227j  ]],\n",
       " \n",
       "        ...,\n",
       " \n",
       "        [[ 2.014609  -0.8968678j ,  2.196295  +0.3116106j ],\n",
       "         [ 2.1909513 -0.27888986j,  2.0145016 +0.93697065j],\n",
       "         [ 2.181765  +0.36467886j,  1.6585091 +1.4835137j ],\n",
       "         [ 1.9872606 +0.979257j  ,  1.1584643 +1.9038854j ]],\n",
       " \n",
       "        [[-1.9522678 +0.45504087j, -1.7933626 -0.92879367j],\n",
       "         [-2.006574  -0.05467341j, -1.4977362 -1.3589677j ],\n",
       "         [-1.9298161 -0.5621941j , -1.1012549 -1.6995447j ],\n",
       "         [-1.7266603 -1.0343258j , -0.63012975-1.9275291j ]],\n",
       " \n",
       "        [[ 0.5455105 -3.353498j  , -0.4144778 -3.3676648j ],\n",
       "         [ 3.1223865 -1.359941j  ,  2.6109931 -2.179604j  ],\n",
       "         [ 2.8404682 +1.8936316j ,  3.254906  +1.0142496j ],\n",
       "         [-0.05463798+3.4214957j ,  0.91503423+3.2925882j ]]],\n",
       "       dtype=complex64))"
      ]
     },
     "execution_count": 90,
     "metadata": {},
     "output_type": "execute_result"
    }
   ],
   "source": [
    "numpy.conj(cal_obj.current_gains),phases.transpose([1,0,2])"
   ]
  },
  {
   "cell_type": "code",
   "execution_count": null,
   "metadata": {},
   "outputs": [],
   "source": []
  },
  {
   "cell_type": "code",
   "execution_count": null,
   "metadata": {},
   "outputs": [],
   "source": []
  }
 ],
 "metadata": {
  "kernelspec": {
   "display_name": "epic_py38",
   "language": "python",
   "name": "epic_py38"
  },
  "language_info": {
   "codemirror_mode": {
    "name": "ipython",
    "version": 3
   },
   "file_extension": ".py",
   "mimetype": "text/x-python",
   "name": "python",
   "nbconvert_exporter": "python",
   "pygments_lexer": "ipython3",
   "version": "3.8.8"
  }
 },
 "nbformat": 4,
 "nbformat_minor": 4
}
